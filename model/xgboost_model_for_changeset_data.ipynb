{
 "cells": [
  {
   "cell_type": "markdown",
   "source": [
    "## XGBoost Model for OSM Changeset Data"
   ],
   "metadata": {
    "collapsed": false
   },
   "id": "73d82ea369358825"
  },
  {
   "cell_type": "code",
   "execution_count": 10,
   "id": "initial_id",
   "metadata": {
    "collapsed": true,
    "ExecuteTime": {
     "end_time": "2024-10-30T01:12:44.538946400Z",
     "start_time": "2024-10-30T01:12:44.443835600Z"
    }
   },
   "outputs": [],
   "source": [
    "import pandas as pd\n",
    "from sklearn.model_selection import train_test_split\n"
   ]
  },
  {
   "cell_type": "markdown",
   "source": [
    "### Create directories required for the code"
   ],
   "metadata": {
    "collapsed": false
   },
   "id": "331b426841c7fa93"
  },
  {
   "cell_type": "code",
   "execution_count": 11,
   "outputs": [
    {
     "name": "stdout",
     "output_type": "stream",
     "text": [
      "Directory already exists at: ../saved_parameters/changeset_model/\n"
     ]
    }
   ],
   "source": [
    "import os\n",
    "\n",
    "# Define the directory and file path for saving the model\n",
    "save_dir = '../saved_parameters/changeset_model/'\n",
    "model_file = os.path.join(save_dir, 'final_xgboost_model.pkl')\n",
    "\n",
    "# Check if the directory exists, else create it\n",
    "if not os.path.exists(save_dir):\n",
    "    os.makedirs(save_dir)\n",
    "    print(f\"Directory created at: {save_dir}\")\n",
    "else:\n",
    "    print(f\"Directory already exists at: {save_dir}\")"
   ],
   "metadata": {
    "collapsed": false,
    "ExecuteTime": {
     "end_time": "2024-10-30T01:12:44.583038800Z",
     "start_time": "2024-10-30T01:12:44.454393200Z"
    }
   },
   "id": "6d4cdbf8dfef6cf0"
  },
  {
   "cell_type": "markdown",
   "source": [
    "### Load the data set into a data frame"
   ],
   "metadata": {
    "collapsed": false
   },
   "id": "636da058a69b89e0"
  },
  {
   "cell_type": "code",
   "execution_count": 12,
   "outputs": [
    {
     "data": {
      "text/plain": "   changeset_id                created_at                 closed_at  \\\n0      55841613 2018-01-28 21:16:49+00:00 2018-01-28 21:16:49+00:00   \n1      45459256 2017-01-25 03:29:43+00:00 2017-01-25 03:29:44+00:00   \n2      31041378 2015-05-12 09:18:59+00:00 2015-05-12 09:18:59+00:00   \n3      58344034 2018-04-23 16:22:00+00:00 2018-04-23 16:22:00+00:00   \n4      25666885 2014-09-25 14:45:21+00:00 2014-09-25 14:45:22+00:00   \n\n               user  user_id  num_changes    min_lat    min_lon    max_lat  \\\n0         clauslide  7528900            1 -33.546025 -71.606199 -33.545570   \n1  Eye of the Squid  5186084            5  43.779429 -79.337066  43.780136   \n2         maartinez  1738975            1  53.661516  14.608453  53.663647   \n3          dankpoet  4175482            5  12.129619  99.002683  12.129719   \n4            wsay22  1464076            1  54.778566   9.438529  54.778566   \n\n     max_lon  ...  label no_nodes  no_ways  no_relations  no_creates  \\\n0 -71.605570  ...   True        0        1             0           1   \n1 -79.336516  ...   True        4        1             0           5   \n2  14.609384  ...  False        0        1             0           0   \n3  99.002799  ...  False        4        1             0           5   \n4   9.438529  ...   True        1        0             0           0   \n\n   no_modifications  no_deletions      uid       account_created  \\\n0                 0             0  7528900  2018-01-26T06:58:01Z   \n1                 0             0  5186084  2017-01-25T02:47:25Z   \n2                 1             0  1738975  2013-09-09T09:10:27Z   \n3                 0             0  4175482  2016-06-26T22:16:00Z   \n4                 1             0  1464076  2013-05-19T09:12:59Z   \n\n   changes_count  \n0              0  \n1              0  \n2              0  \n3              0  \n4              0  \n\n[5 rows x 22 columns]",
      "text/html": "<div>\n<style scoped>\n    .dataframe tbody tr th:only-of-type {\n        vertical-align: middle;\n    }\n\n    .dataframe tbody tr th {\n        vertical-align: top;\n    }\n\n    .dataframe thead th {\n        text-align: right;\n    }\n</style>\n<table border=\"1\" class=\"dataframe\">\n  <thead>\n    <tr style=\"text-align: right;\">\n      <th></th>\n      <th>changeset_id</th>\n      <th>created_at</th>\n      <th>closed_at</th>\n      <th>user</th>\n      <th>user_id</th>\n      <th>num_changes</th>\n      <th>min_lat</th>\n      <th>min_lon</th>\n      <th>max_lat</th>\n      <th>max_lon</th>\n      <th>...</th>\n      <th>label</th>\n      <th>no_nodes</th>\n      <th>no_ways</th>\n      <th>no_relations</th>\n      <th>no_creates</th>\n      <th>no_modifications</th>\n      <th>no_deletions</th>\n      <th>uid</th>\n      <th>account_created</th>\n      <th>changes_count</th>\n    </tr>\n  </thead>\n  <tbody>\n    <tr>\n      <th>0</th>\n      <td>55841613</td>\n      <td>2018-01-28 21:16:49+00:00</td>\n      <td>2018-01-28 21:16:49+00:00</td>\n      <td>clauslide</td>\n      <td>7528900</td>\n      <td>1</td>\n      <td>-33.546025</td>\n      <td>-71.606199</td>\n      <td>-33.545570</td>\n      <td>-71.605570</td>\n      <td>...</td>\n      <td>True</td>\n      <td>0</td>\n      <td>1</td>\n      <td>0</td>\n      <td>1</td>\n      <td>0</td>\n      <td>0</td>\n      <td>7528900</td>\n      <td>2018-01-26T06:58:01Z</td>\n      <td>0</td>\n    </tr>\n    <tr>\n      <th>1</th>\n      <td>45459256</td>\n      <td>2017-01-25 03:29:43+00:00</td>\n      <td>2017-01-25 03:29:44+00:00</td>\n      <td>Eye of the Squid</td>\n      <td>5186084</td>\n      <td>5</td>\n      <td>43.779429</td>\n      <td>-79.337066</td>\n      <td>43.780136</td>\n      <td>-79.336516</td>\n      <td>...</td>\n      <td>True</td>\n      <td>4</td>\n      <td>1</td>\n      <td>0</td>\n      <td>5</td>\n      <td>0</td>\n      <td>0</td>\n      <td>5186084</td>\n      <td>2017-01-25T02:47:25Z</td>\n      <td>0</td>\n    </tr>\n    <tr>\n      <th>2</th>\n      <td>31041378</td>\n      <td>2015-05-12 09:18:59+00:00</td>\n      <td>2015-05-12 09:18:59+00:00</td>\n      <td>maartinez</td>\n      <td>1738975</td>\n      <td>1</td>\n      <td>53.661516</td>\n      <td>14.608453</td>\n      <td>53.663647</td>\n      <td>14.609384</td>\n      <td>...</td>\n      <td>False</td>\n      <td>0</td>\n      <td>1</td>\n      <td>0</td>\n      <td>0</td>\n      <td>1</td>\n      <td>0</td>\n      <td>1738975</td>\n      <td>2013-09-09T09:10:27Z</td>\n      <td>0</td>\n    </tr>\n    <tr>\n      <th>3</th>\n      <td>58344034</td>\n      <td>2018-04-23 16:22:00+00:00</td>\n      <td>2018-04-23 16:22:00+00:00</td>\n      <td>dankpoet</td>\n      <td>4175482</td>\n      <td>5</td>\n      <td>12.129619</td>\n      <td>99.002683</td>\n      <td>12.129719</td>\n      <td>99.002799</td>\n      <td>...</td>\n      <td>False</td>\n      <td>4</td>\n      <td>1</td>\n      <td>0</td>\n      <td>5</td>\n      <td>0</td>\n      <td>0</td>\n      <td>4175482</td>\n      <td>2016-06-26T22:16:00Z</td>\n      <td>0</td>\n    </tr>\n    <tr>\n      <th>4</th>\n      <td>25666885</td>\n      <td>2014-09-25 14:45:21+00:00</td>\n      <td>2014-09-25 14:45:22+00:00</td>\n      <td>wsay22</td>\n      <td>1464076</td>\n      <td>1</td>\n      <td>54.778566</td>\n      <td>9.438529</td>\n      <td>54.778566</td>\n      <td>9.438529</td>\n      <td>...</td>\n      <td>True</td>\n      <td>1</td>\n      <td>0</td>\n      <td>0</td>\n      <td>0</td>\n      <td>1</td>\n      <td>0</td>\n      <td>1464076</td>\n      <td>2013-05-19T09:12:59Z</td>\n      <td>0</td>\n    </tr>\n  </tbody>\n</table>\n<p>5 rows × 22 columns</p>\n</div>"
     },
     "execution_count": 12,
     "metadata": {},
     "output_type": "execute_result"
    }
   ],
   "source": [
    "features_df = pd.read_parquet(\"../data/changeset_data/osm_labelled_changeset_features_with_user_info.parquet\")\n",
    "\n",
    "#Shuffle the data entries\n",
    "features_df = features_df.sample(frac=1, random_state=42).reset_index(drop=True)\n",
    "features_df.head()"
   ],
   "metadata": {
    "collapsed": false,
    "ExecuteTime": {
     "end_time": "2024-10-30T01:12:44.592555100Z",
     "start_time": "2024-10-30T01:12:44.474115800Z"
    }
   },
   "id": "76f85b94e04c194f"
  },
  {
   "cell_type": "markdown",
   "source": [
    "### Drop unnecessary columns and replace spaces with underscores"
   ],
   "metadata": {
    "collapsed": false
   },
   "id": "22111270775c48a9"
  },
  {
   "cell_type": "code",
   "execution_count": 13,
   "outputs": [
    {
     "data": {
      "text/plain": "                  closed_at  user_id  num_changes    min_lat    min_lon  \\\n0 2018-01-28 21:16:49+00:00  7528900            1 -33.546025 -71.606199   \n1 2017-01-25 03:29:44+00:00  5186084            5  43.779429 -79.337066   \n2 2015-05-12 09:18:59+00:00  1738975            1  53.661516  14.608453   \n3 2018-04-23 16:22:00+00:00  4175482            5  12.129619  99.002683   \n4 2014-09-25 14:45:22+00:00  1464076            1  54.778566   9.438529   \n\n     max_lat    max_lon created_by  label  no_nodes  no_ways  no_relations  \\\n0 -33.545570 -71.605570   iD 2.6.0   True         0        1             0   \n1  43.780136 -79.336516   iD 2.0.2   True         4        1             0   \n2  53.663647  14.609384   iD 1.7.2  False         0        1             0   \n3  12.129719  99.002799   iD 2.8.0  False         4        1             0   \n4  54.778566   9.438529   iD 1.5.4   True         1        0             0   \n\n   no_creates  no_modifications  no_deletions       account_created  \n0           1                 0             0  2018-01-26T06:58:01Z  \n1           5                 0             0  2017-01-25T02:47:25Z  \n2           0                 1             0  2013-09-09T09:10:27Z  \n3           5                 0             0  2016-06-26T22:16:00Z  \n4           0                 1             0  2013-05-19T09:12:59Z  ",
      "text/html": "<div>\n<style scoped>\n    .dataframe tbody tr th:only-of-type {\n        vertical-align: middle;\n    }\n\n    .dataframe tbody tr th {\n        vertical-align: top;\n    }\n\n    .dataframe thead th {\n        text-align: right;\n    }\n</style>\n<table border=\"1\" class=\"dataframe\">\n  <thead>\n    <tr style=\"text-align: right;\">\n      <th></th>\n      <th>closed_at</th>\n      <th>user_id</th>\n      <th>num_changes</th>\n      <th>min_lat</th>\n      <th>min_lon</th>\n      <th>max_lat</th>\n      <th>max_lon</th>\n      <th>created_by</th>\n      <th>label</th>\n      <th>no_nodes</th>\n      <th>no_ways</th>\n      <th>no_relations</th>\n      <th>no_creates</th>\n      <th>no_modifications</th>\n      <th>no_deletions</th>\n      <th>account_created</th>\n    </tr>\n  </thead>\n  <tbody>\n    <tr>\n      <th>0</th>\n      <td>2018-01-28 21:16:49+00:00</td>\n      <td>7528900</td>\n      <td>1</td>\n      <td>-33.546025</td>\n      <td>-71.606199</td>\n      <td>-33.545570</td>\n      <td>-71.605570</td>\n      <td>iD 2.6.0</td>\n      <td>True</td>\n      <td>0</td>\n      <td>1</td>\n      <td>0</td>\n      <td>1</td>\n      <td>0</td>\n      <td>0</td>\n      <td>2018-01-26T06:58:01Z</td>\n    </tr>\n    <tr>\n      <th>1</th>\n      <td>2017-01-25 03:29:44+00:00</td>\n      <td>5186084</td>\n      <td>5</td>\n      <td>43.779429</td>\n      <td>-79.337066</td>\n      <td>43.780136</td>\n      <td>-79.336516</td>\n      <td>iD 2.0.2</td>\n      <td>True</td>\n      <td>4</td>\n      <td>1</td>\n      <td>0</td>\n      <td>5</td>\n      <td>0</td>\n      <td>0</td>\n      <td>2017-01-25T02:47:25Z</td>\n    </tr>\n    <tr>\n      <th>2</th>\n      <td>2015-05-12 09:18:59+00:00</td>\n      <td>1738975</td>\n      <td>1</td>\n      <td>53.661516</td>\n      <td>14.608453</td>\n      <td>53.663647</td>\n      <td>14.609384</td>\n      <td>iD 1.7.2</td>\n      <td>False</td>\n      <td>0</td>\n      <td>1</td>\n      <td>0</td>\n      <td>0</td>\n      <td>1</td>\n      <td>0</td>\n      <td>2013-09-09T09:10:27Z</td>\n    </tr>\n    <tr>\n      <th>3</th>\n      <td>2018-04-23 16:22:00+00:00</td>\n      <td>4175482</td>\n      <td>5</td>\n      <td>12.129619</td>\n      <td>99.002683</td>\n      <td>12.129719</td>\n      <td>99.002799</td>\n      <td>iD 2.8.0</td>\n      <td>False</td>\n      <td>4</td>\n      <td>1</td>\n      <td>0</td>\n      <td>5</td>\n      <td>0</td>\n      <td>0</td>\n      <td>2016-06-26T22:16:00Z</td>\n    </tr>\n    <tr>\n      <th>4</th>\n      <td>2014-09-25 14:45:22+00:00</td>\n      <td>1464076</td>\n      <td>1</td>\n      <td>54.778566</td>\n      <td>9.438529</td>\n      <td>54.778566</td>\n      <td>9.438529</td>\n      <td>iD 1.5.4</td>\n      <td>True</td>\n      <td>1</td>\n      <td>0</td>\n      <td>0</td>\n      <td>0</td>\n      <td>1</td>\n      <td>0</td>\n      <td>2013-05-19T09:12:59Z</td>\n    </tr>\n  </tbody>\n</table>\n</div>"
     },
     "execution_count": 13,
     "metadata": {},
     "output_type": "execute_result"
    }
   ],
   "source": [
    "if features_df.columns.__contains__('geometry'):\n",
    "    features_df.drop('geometry', axis=1, inplace=True)\n",
    "\n",
    "if features_df.columns.__contains__('changeset_id'):\n",
    "    features_df.drop('changeset_id', axis=1, inplace=True)\n",
    "\n",
    "if features_df.columns.__contains__('created_at'):\n",
    "    features_df.drop('created_at', axis=1, inplace=True)\n",
    "\n",
    "if features_df.columns.__contains__('user'):\n",
    "    features_df.drop('user', axis=1, inplace=True)\n",
    "    \n",
    "#TODO: Analyse comment and detect if suspicious. Can get a new feature like comment suspicious score.\n",
    "if features_df.columns.__contains__('comment'):\n",
    "    features_df.drop('comment', axis=1, inplace=True)\n",
    "\n",
    "if features_df.columns.__contains__('uid'):\n",
    "    features_df.drop('uid', axis=1, inplace=True)\n",
    "\n",
    "if features_df.columns.__contains__('changes_count'):\n",
    "    features_df.drop('changes_count', axis=1, inplace=True)\n",
    "\n",
    "features_df.columns = features_df.columns.str.replace(' ', '_', regex=True)\n",
    "\n",
    "features_df.head()"
   ],
   "metadata": {
    "collapsed": false,
    "ExecuteTime": {
     "end_time": "2024-10-30T01:12:44.598864300Z",
     "start_time": "2024-10-30T01:12:44.514341300Z"
    }
   },
   "id": "a85b762553f72634"
  },
  {
   "cell_type": "markdown",
   "source": [
    "### One-hot Encoding"
   ],
   "metadata": {
    "collapsed": false
   },
   "id": "bcf294e2cfc4315f"
  },
  {
   "cell_type": "code",
   "execution_count": 14,
   "outputs": [
    {
     "data": {
      "text/plain": "      closed_at  user_id  num_changes    min_lat    min_lon    max_lat  \\\n0  1.517174e+09  7528900            1 -33.546025 -71.606199 -33.545570   \n1  1.485315e+09  5186084            5  43.779429 -79.337066  43.780136   \n2  1.431422e+09  1738975            1  53.661516  14.608453  53.663647   \n3  1.524501e+09  4175482            5  12.129619  99.002683  12.129719   \n4  1.411656e+09  1464076            1  54.778566   9.438529  54.778566   \n\n     max_lon  no_nodes  no_ways  no_relations  ...  \\\n0 -71.605570         0        1             0  ...   \n1 -79.336516         4        1             0  ...   \n2  14.609384         0        1             0  ...   \n3  99.002799         4        1             0  ...   \n4   9.438529         1        0             0  ...   \n\n   created_by_reverter;JOSM/1.5 (14945 uk)  \\\n0                                    False   \n1                                    False   \n2                                    False   \n3                                    False   \n4                                    False   \n\n   created_by_reverter_plugin/34977;JOSM/1.5 (15031 en)  \\\n0                                              False      \n1                                              False      \n2                                              False      \n3                                              False      \n4                                              False      \n\n   created_by_reverter_plugin/34999;JOSM/1.5 (15155 de)  \\\n0                                              False      \n1                                              False      \n2                                              False      \n3                                              False      \n4                                              False      \n\n   created_by_reverter_plugin/35084;JOSM/1.5 (15492 en)  \\\n0                                              False      \n1                                              False      \n2                                              False      \n3                                              False      \n4                                              False      \n\n   created_by_rocketdata.io  created_by_rosemary v0.3.12  \\\n0                     False                        False   \n1                     False                        False   \n2                     False                        False   \n3                     False                        False   \n4                     False                        False   \n\n   created_by_rosemary v0.4.4  created_by_simple_revert.py  \\\n0                       False                        False   \n1                       False                        False   \n2                       False                        False   \n3                       False                        False   \n4                       False                        False   \n\n   created_by_streetkeysmv  created_by_upload.py v. 1  \n0                    False                      False  \n1                    False                      False  \n2                    False                      False  \n3                    False                      False  \n4                    False                      False  \n\n[5 rows x 1459 columns]",
      "text/html": "<div>\n<style scoped>\n    .dataframe tbody tr th:only-of-type {\n        vertical-align: middle;\n    }\n\n    .dataframe tbody tr th {\n        vertical-align: top;\n    }\n\n    .dataframe thead th {\n        text-align: right;\n    }\n</style>\n<table border=\"1\" class=\"dataframe\">\n  <thead>\n    <tr style=\"text-align: right;\">\n      <th></th>\n      <th>closed_at</th>\n      <th>user_id</th>\n      <th>num_changes</th>\n      <th>min_lat</th>\n      <th>min_lon</th>\n      <th>max_lat</th>\n      <th>max_lon</th>\n      <th>no_nodes</th>\n      <th>no_ways</th>\n      <th>no_relations</th>\n      <th>...</th>\n      <th>created_by_reverter;JOSM/1.5 (14945 uk)</th>\n      <th>created_by_reverter_plugin/34977;JOSM/1.5 (15031 en)</th>\n      <th>created_by_reverter_plugin/34999;JOSM/1.5 (15155 de)</th>\n      <th>created_by_reverter_plugin/35084;JOSM/1.5 (15492 en)</th>\n      <th>created_by_rocketdata.io</th>\n      <th>created_by_rosemary v0.3.12</th>\n      <th>created_by_rosemary v0.4.4</th>\n      <th>created_by_simple_revert.py</th>\n      <th>created_by_streetkeysmv</th>\n      <th>created_by_upload.py v. 1</th>\n    </tr>\n  </thead>\n  <tbody>\n    <tr>\n      <th>0</th>\n      <td>1.517174e+09</td>\n      <td>7528900</td>\n      <td>1</td>\n      <td>-33.546025</td>\n      <td>-71.606199</td>\n      <td>-33.545570</td>\n      <td>-71.605570</td>\n      <td>0</td>\n      <td>1</td>\n      <td>0</td>\n      <td>...</td>\n      <td>False</td>\n      <td>False</td>\n      <td>False</td>\n      <td>False</td>\n      <td>False</td>\n      <td>False</td>\n      <td>False</td>\n      <td>False</td>\n      <td>False</td>\n      <td>False</td>\n    </tr>\n    <tr>\n      <th>1</th>\n      <td>1.485315e+09</td>\n      <td>5186084</td>\n      <td>5</td>\n      <td>43.779429</td>\n      <td>-79.337066</td>\n      <td>43.780136</td>\n      <td>-79.336516</td>\n      <td>4</td>\n      <td>1</td>\n      <td>0</td>\n      <td>...</td>\n      <td>False</td>\n      <td>False</td>\n      <td>False</td>\n      <td>False</td>\n      <td>False</td>\n      <td>False</td>\n      <td>False</td>\n      <td>False</td>\n      <td>False</td>\n      <td>False</td>\n    </tr>\n    <tr>\n      <th>2</th>\n      <td>1.431422e+09</td>\n      <td>1738975</td>\n      <td>1</td>\n      <td>53.661516</td>\n      <td>14.608453</td>\n      <td>53.663647</td>\n      <td>14.609384</td>\n      <td>0</td>\n      <td>1</td>\n      <td>0</td>\n      <td>...</td>\n      <td>False</td>\n      <td>False</td>\n      <td>False</td>\n      <td>False</td>\n      <td>False</td>\n      <td>False</td>\n      <td>False</td>\n      <td>False</td>\n      <td>False</td>\n      <td>False</td>\n    </tr>\n    <tr>\n      <th>3</th>\n      <td>1.524501e+09</td>\n      <td>4175482</td>\n      <td>5</td>\n      <td>12.129619</td>\n      <td>99.002683</td>\n      <td>12.129719</td>\n      <td>99.002799</td>\n      <td>4</td>\n      <td>1</td>\n      <td>0</td>\n      <td>...</td>\n      <td>False</td>\n      <td>False</td>\n      <td>False</td>\n      <td>False</td>\n      <td>False</td>\n      <td>False</td>\n      <td>False</td>\n      <td>False</td>\n      <td>False</td>\n      <td>False</td>\n    </tr>\n    <tr>\n      <th>4</th>\n      <td>1.411656e+09</td>\n      <td>1464076</td>\n      <td>1</td>\n      <td>54.778566</td>\n      <td>9.438529</td>\n      <td>54.778566</td>\n      <td>9.438529</td>\n      <td>1</td>\n      <td>0</td>\n      <td>0</td>\n      <td>...</td>\n      <td>False</td>\n      <td>False</td>\n      <td>False</td>\n      <td>False</td>\n      <td>False</td>\n      <td>False</td>\n      <td>False</td>\n      <td>False</td>\n      <td>False</td>\n      <td>False</td>\n    </tr>\n  </tbody>\n</table>\n<p>5 rows × 1459 columns</p>\n</div>"
     },
     "execution_count": 14,
     "metadata": {},
     "output_type": "execute_result"
    }
   ],
   "source": [
    "X = features_df.drop('label', axis=1).copy()\n",
    "y = features_df['label'].copy()\n",
    "\n",
    "X['closed_at'] = pd.to_datetime(X['closed_at']).astype(int) / 10**9\n",
    "X['account_created'] = pd.to_datetime(X['account_created']).astype(int) / 10**9\n",
    "\n",
    "X_encoded = pd.get_dummies(X, columns=['created_by'])\n",
    "\n",
    "assert X_encoded.dtypes.__contains__('object') == False\n",
    "X_encoded.head()"
   ],
   "metadata": {
    "collapsed": false,
    "ExecuteTime": {
     "end_time": "2024-10-30T01:12:44.660943700Z",
     "start_time": "2024-10-30T01:12:44.535923300Z"
    }
   },
   "id": "9feca52c8c7dbd38"
  },
  {
   "cell_type": "markdown",
   "source": [
    "### Format y and check ratio of x:y"
   ],
   "metadata": {
    "collapsed": false
   },
   "id": "f9a81aedf3e7277a"
  },
  {
   "cell_type": "code",
   "execution_count": 15,
   "outputs": [
    {
     "name": "stderr",
     "output_type": "stream",
     "text": [
      "C:\\Users\\saise\\AppData\\Local\\Temp\\ipykernel_25568\\1318066108.py:2: FutureWarning: Downcasting behavior in `replace` is deprecated and will be removed in a future version. To retain the old behavior, explicitly call `result.infer_objects(copy=False)`. To opt-in to the future behavior, set `pd.set_option('future.no_silent_downcasting', True)`\n",
      "  y = y.replace(False, 0)\n"
     ]
    },
    {
     "data": {
      "text/plain": "0.500905051834787"
     },
     "execution_count": 15,
     "metadata": {},
     "output_type": "execute_result"
    }
   ],
   "source": [
    "y = y.replace(True, 1)\n",
    "y = y.replace(False, 0)\n",
    "sum(y) / len(y)"
   ],
   "metadata": {
    "collapsed": false,
    "ExecuteTime": {
     "end_time": "2024-10-30T01:12:44.661942300Z",
     "start_time": "2024-10-30T01:12:44.609889Z"
    }
   },
   "id": "82cae71ac507631b"
  },
  {
   "cell_type": "markdown",
   "source": [
    "### Split the data between train and test set & print statistics"
   ],
   "metadata": {
    "collapsed": false
   },
   "id": "fb99a25060b8961a"
  },
  {
   "cell_type": "code",
   "execution_count": 16,
   "outputs": [
    {
     "name": "stdout",
     "output_type": "stream",
     "text": [
      "               Number of Samples  Number of Features\n",
      "X_train shape              13673                1459\n",
      "X_test shape                4558                1459\n",
      "y_train shape              13673               13673\n",
      "y_test shape                4558                4558\n",
      "\n",
      "Train Set Statistics:\n",
      "Total: 13673\n",
      "Vandalism: 6849\n",
      "Non-Vandalism: 6824\n",
      "\n",
      "Test Set Statistics:\n",
      "Total: 4558\n",
      "Vandalism: 2283\n",
      "Non-Vandalism: 2275\n",
      "\n",
      "sum(y_train)/len(y_train): 0.5009142104878227\n",
      "sum(y_test)/len(y_test): 0.5008775778850373\n"
     ]
    }
   ],
   "source": [
    "X_train, X_test, y_train, y_test = train_test_split(X_encoded, y, random_state=42, stratify=y)\n",
    "\n",
    "# Get the shapes of the datasets\n",
    "shapes = {\n",
    "    'X_train shape': X_train.shape,\n",
    "    'X_test shape': X_test.shape,\n",
    "    'y_train shape': y_train.shape,\n",
    "    'y_test shape': y_test.shape\n",
    "}\n",
    "\n",
    "# Convert shapes to DataFrame for better display\n",
    "shapes_df = pd.DataFrame(shapes, index=['Number of Samples', 'Number of Features']).T\n",
    "print(shapes_df)\n",
    "print()\n",
    "\n",
    "# 1. Calculate the total number of samples in train and test sets\n",
    "total_train = len(y_train)\n",
    "total_test = len(y_test)\n",
    "\n",
    "# 2. Calculate the number of vandalism (assuming 'vandalism' is labeled as 1)\n",
    "vandalism_train = sum(y_train)\n",
    "vandalism_test = sum(y_test)\n",
    "\n",
    "# 3. Calculate the number of non-vandalism (assuming 'non-vandalism' is labeled as 0)\n",
    "non_vandalism_train = total_train - vandalism_train\n",
    "non_vandalism_test = total_test - vandalism_test\n",
    "\n",
    "# 4. Print the statistics\n",
    "print(f\"Train Set Statistics:\\n\"\n",
    "      f\"Total: {total_train}\\n\"\n",
    "      f\"Vandalism: {vandalism_train}\\n\"\n",
    "      f\"Non-Vandalism: {non_vandalism_train}\\n\")\n",
    "\n",
    "print(f\"Test Set Statistics:\\n\"\n",
    "      f\"Total: {total_test}\\n\"\n",
    "      f\"Vandalism: {vandalism_test}\\n\"\n",
    "      f\"Non-Vandalism: {non_vandalism_test}\\n\")\n",
    "\n",
    "print(\"sum(y_train)/len(y_train): \" + str(sum(y_train) / len(y_train)))\n",
    "print(\"sum(y_test)/len(y_test): \" + str(sum(y_test) / len(y_test)))\n"
   ],
   "metadata": {
    "collapsed": false,
    "ExecuteTime": {
     "end_time": "2024-10-30T01:12:44.813725400Z",
     "start_time": "2024-10-30T01:12:44.625749Z"
    }
   },
   "id": "cbe6642ebbf4df9e"
  },
  {
   "cell_type": "markdown",
   "source": [
    "### Model training with random hyperparameters and without cross validation"
   ],
   "metadata": {
    "collapsed": false
   },
   "id": "a540e978b4519cc"
  },
  {
   "cell_type": "code",
   "execution_count": 17,
   "outputs": [
    {
     "name": "stderr",
     "output_type": "stream",
     "text": [
      "\n",
      "\u001B[32m2024-10-30 02:12:44\u001B[0m - \u001B[1;30mINFO\u001B[0m - \u001B[35mhyper_parameter_search.py\u001B[0m -- \u001B[30mRandom Hyperparameters Generated: {'learning_rate': 0.01, 'max_depth': 7, 'subsample': 1.0, 'colsample_bytree': 0.8, 'lambda': 3, 'alpha': 3, 'min_child_weight': 7, 'gamma': 3, 'n_estimators': 80}\u001B[0m\n",
      "\n",
      "\u001B[32m2024-10-30 02:12:50\u001B[0m - \u001B[1;30mINFO\u001B[0m - \u001B[35mxgboost_training.py\u001B[0m -- \u001B[30mModel training complete.\u001B[0m\n",
      "\n",
      "\u001B[32m2024-10-30 02:12:50\u001B[0m - \u001B[1;30mINFO\u001B[0m - \u001B[35mxgboost_training.py\u001B[0m -- \u001B[30mModel saved to ../saved_parameters/changeset_model/final_xgboost_base_model.pkl\u001B[0m\n"
     ]
    }
   ],
   "source": [
    "from model.xgboost_training import train_final_model, save_model\n",
    "from model.hyper_parameter_search import get_random_parameters\n",
    "\n",
    "random_parameters = get_random_parameters()\n",
    "\n",
    "# Train Final Model with random parameters\n",
    "final_base_model = train_final_model(X_train, y_train, X_test, y_test, random_parameters)\n",
    "\n",
    "# Save the Model\n",
    "save_model(final_base_model, '../saved_parameters/changeset_model/final_xgboost_base_model.pkl')"
   ],
   "metadata": {
    "collapsed": false,
    "ExecuteTime": {
     "end_time": "2024-10-30T01:12:50.813109200Z",
     "start_time": "2024-10-30T01:12:44.685860400Z"
    }
   },
   "id": "10a31949fbb182cf"
  },
  {
   "cell_type": "markdown",
   "source": [
    "### Base model evaluation"
   ],
   "metadata": {
    "collapsed": false
   },
   "id": "bcb683169993e17"
  },
  {
   "cell_type": "code",
   "execution_count": 18,
   "outputs": [
    {
     "name": "stdout",
     "output_type": "stream",
     "text": [
      "Evaluating model performance on both training and test datasets...\n",
      "\n",
      "Train Set Evaluation\n",
      "Accuracy: 0.8412199224749506\n",
      "AUC-ROC: 0.9137297257350275\n",
      "Classification Report (Train):\n",
      "               precision    recall  f1-score   support\n",
      "\n",
      "           0       0.83      0.86      0.84      6824\n",
      "           1       0.85      0.82      0.84      6849\n",
      "\n",
      "    accuracy                           0.84     13673\n",
      "   macro avg       0.84      0.84      0.84     13673\n",
      "weighted avg       0.84      0.84      0.84     13673\n",
      "\n",
      "\n",
      "Test Set Evaluation\n",
      "Accuracy: 0.8200965335673541\n",
      "AUC-ROC: 0.8958678815709038\n",
      "Classification Report (Test):\n",
      "               precision    recall  f1-score   support\n",
      "\n",
      "           0       0.81      0.84      0.82      2275\n",
      "           1       0.83      0.80      0.82      2283\n",
      "\n",
      "    accuracy                           0.82      4558\n",
      "   macro avg       0.82      0.82      0.82      4558\n",
      "weighted avg       0.82      0.82      0.82      4558\n",
      "\n",
      "\n",
      "AUC-PR Score on Test Set: 0.8983663299425964\n",
      "ROC-AUC Score on Test Set: 0.8958678815709038\n",
      "\n",
      "Statistics:\n",
      "True Negatives (TN): 1906\n",
      "False Positives (FP): 369\n",
      "False Negatives (FN): 451\n",
      "True Positives (TP): 1832\n",
      "Accuracy: 0.8201\n",
      "Precision: 0.8323\n",
      "Recall: 0.8025\n",
      "F1 Score: 0.8171\n"
     ]
    },
    {
     "data": {
      "text/plain": "<Figure size 600x400 with 2 Axes>",
      "image/png": "[encoded data removed]"
     },
     "metadata": {},
     "output_type": "display_data"
    }
   ],
   "source": [
    "from evaluate_xgboost_model import (evaluate_train_test_metrics, calculate_auc_scores,\n",
    "                                    plot_confusion_matrix)\n",
    "\n",
    "# Evaluate Train and Test Metrics\n",
    "y_test_pred, y_test_prob = evaluate_train_test_metrics(final_base_model, X_train, y_train, X_test, y_test)\n",
    "\n",
    "# Calculate AUC Scores and Get Confusion Matrix\n",
    "cm = calculate_auc_scores(y_test, y_test_pred, y_test_prob)\n",
    "\n",
    "# Plot Confusion Matrix\n",
    "plot_confusion_matrix(cm)"
   ],
   "metadata": {
    "collapsed": false,
    "ExecuteTime": {
     "end_time": "2024-10-30T01:12:52.390908800Z",
     "start_time": "2024-10-30T01:12:50.812601700Z"
    }
   },
   "id": "5057d06e9e177da7"
  },
  {
   "cell_type": "markdown",
   "source": [
    "### Hyperparameter tuning with cross validation and model training with best parameters"
   ],
   "metadata": {
    "collapsed": false
   },
   "id": "e4bc1f4f0e8422c5"
  },
  {
   "cell_type": "code",
   "execution_count": 19,
   "outputs": [
    {
     "name": "stderr",
     "output_type": "stream",
     "text": [
      "\n",
      "\u001B[32m2024-10-30 02:12:52\u001B[0m - \u001B[1;30mINFO\u001B[0m - \u001B[35mhyper_parameter_search.py\u001B[0m -- \u001B[30mHyperparameters file already exists.\u001B[0m\n",
      "\n",
      "\u001B[32m2024-10-30 02:12:52\u001B[0m - \u001B[1;30mINFO\u001B[0m - \u001B[35mload_hyper_parameters.py\u001B[0m -- \u001B[30mLoaded hyperparameters from ../saved_parameters/changeset_model/best_hyperparameters.json\u001B[0m\n",
      "\n",
      "\u001B[32m2024-10-30 02:12:52\u001B[0m - \u001B[1;30mINFO\u001B[0m - \u001B[35mhyper_parameter_search.py\u001B[0m -- \u001B[30mbest hyper parameters: {'subsample': 0.6, 'n_estimators': 100, 'min_child_weight': 5, 'max_depth': 9, 'learning_rate': 0.1, 'lambda': 0, 'gamma': 1, 'colsample_bytree': 1.0, 'alpha': 1}\u001B[0m\n",
      "\n",
      "\u001B[32m2024-10-30 02:13:01\u001B[0m - \u001B[1;30mINFO\u001B[0m - \u001B[35mxgboost_training.py\u001B[0m -- \u001B[30mModel training complete.\u001B[0m\n"
     ]
    },
    {
     "name": "stdout",
     "output_type": "stream",
     "text": [
      "\n",
      "Performing 5-fold Cross-Validation on the entire data...\n"
     ]
    },
    {
     "name": "stderr",
     "output_type": "stream",
     "text": [
      "\n",
      "\u001B[32m2024-10-30 02:13:25\u001B[0m - \u001B[1;30mINFO\u001B[0m - \u001B[35mxgboost_training.py\u001B[0m -- \u001B[30mModel saved to ../saved_parameters/changeset_model/final_xgboost_model_tuned.pkl\u001B[0m\n"
     ]
    },
    {
     "name": "stdout",
     "output_type": "stream",
     "text": [
      "Cross-Validation AUC Scores: [0.94708698 0.94512607 0.95148205 0.94725863 0.95449462]\n",
      "Mean AUC Score: 0.949089667726499\n",
      "Standard Deviation of AUC Scores: 0.0034061867502257403\n"
     ]
    }
   ],
   "source": [
    "from model.hyper_parameter_search import randomized_search_cv\n",
    "from model.xgboost_training import train_final_model, save_model\n",
    "from model.evaluate_xgboost_model import evaluate_model_with_cv\n",
    "\n",
    "# Search and Load Hyperparameters\n",
    "best_params = randomized_search_cv(X_train, y_train,  '../saved_parameters/changeset_model/best_hyperparameters.json')\n",
    "\n",
    "# Train Final Model with best_params\n",
    "final_tuned_model = train_final_model(X_train, y_train, X_test, y_test, best_params)\n",
    "\n",
    "# (OPTIONAL): Perform Final Cross-Validation on Full Dataset\n",
    "cv_scores = evaluate_model_with_cv(X_train, y_train, best_params)\n",
    "\n",
    "# Save the Model\n",
    "save_model(final_tuned_model, '../saved_parameters/changeset_model/final_xgboost_model_tuned.pkl')\n"
   ],
   "metadata": {
    "collapsed": false,
    "ExecuteTime": {
     "end_time": "2024-10-30T01:13:25.143720300Z",
     "start_time": "2024-10-30T01:12:52.389890700Z"
    }
   },
   "id": "c719f90dc253baf7"
  },
  {
   "cell_type": "markdown",
   "source": [
    "### Tuned model evaluation"
   ],
   "metadata": {
    "collapsed": false
   },
   "id": "5e895b4fb2b80a47"
  },
  {
   "cell_type": "code",
   "execution_count": 20,
   "outputs": [
    {
     "name": "stdout",
     "output_type": "stream",
     "text": [
      "Evaluating model performance on both training and test datasets...\n",
      "\n",
      "Train Set Evaluation\n",
      "Accuracy: 0.9362978132085131\n",
      "AUC-ROC: 0.9833178340271649\n",
      "Classification Report (Train):\n",
      "               precision    recall  f1-score   support\n",
      "\n",
      "           0       0.93      0.94      0.94      6824\n",
      "           1       0.94      0.93      0.94      6849\n",
      "\n",
      "    accuracy                           0.94     13673\n",
      "   macro avg       0.94      0.94      0.94     13673\n",
      "weighted avg       0.94      0.94      0.94     13673\n",
      "\n",
      "\n",
      "Test Set Evaluation\n",
      "Accuracy: 0.8828433523475209\n",
      "AUC-ROC: 0.9530392340904825\n",
      "Classification Report (Test):\n",
      "               precision    recall  f1-score   support\n",
      "\n",
      "           0       0.88      0.89      0.88      2275\n",
      "           1       0.89      0.88      0.88      2283\n",
      "\n",
      "    accuracy                           0.88      4558\n",
      "   macro avg       0.88      0.88      0.88      4558\n",
      "weighted avg       0.88      0.88      0.88      4558\n",
      "\n",
      "\n",
      "AUC-PR Score on Test Set: 0.9567159071618994\n",
      "ROC-AUC Score on Test Set: 0.9530392340904825\n",
      "\n",
      "Statistics:\n",
      "True Negatives (TN): 2020\n",
      "False Positives (FP): 255\n",
      "False Negatives (FN): 279\n",
      "True Positives (TP): 2004\n",
      "Accuracy: 0.8828\n",
      "Precision: 0.8871\n",
      "Recall: 0.8778\n",
      "F1 Score: 0.8824\n"
     ]
    },
    {
     "data": {
      "text/plain": "<Figure size 600x400 with 2 Axes>",
      "image/png": "[encoded data removed]"
     },
     "metadata": {},
     "output_type": "display_data"
    }
   ],
   "source": [
    "from evaluate_xgboost_model import (evaluate_train_test_metrics, calculate_auc_scores,\n",
    "                                    plot_confusion_matrix)\n",
    "\n",
    "# Evaluate Train and Test Metrics\n",
    "y_test_pred, y_test_prob = evaluate_train_test_metrics(final_tuned_model, X_train, y_train, X_test, y_test)\n",
    "\n",
    "# Calculate AUC Scores and Get Confusion Matrix\n",
    "cm = calculate_auc_scores(y_test, y_test_pred, y_test_prob)\n",
    "\n",
    "# Plot Confusion Matrix\n",
    "plot_confusion_matrix(cm)"
   ],
   "metadata": {
    "collapsed": false,
    "ExecuteTime": {
     "end_time": "2024-10-30T01:13:26.876546100Z",
     "start_time": "2024-10-30T01:13:25.145226900Z"
    }
   },
   "id": "7d66a085fb098d7f"
  }
 ],
 "metadata": {
  "kernelspec": {
   "display_name": "Python 3",
   "language": "python",
   "name": "python3"
  },
  "language_info": {
   "codemirror_mode": {
    "name": "ipython",
    "version": 2
   },
   "file_extension": ".py",
   "mimetype": "text/x-python",
   "name": "python",
   "nbconvert_exporter": "python",
   "pygments_lexer": "ipython2",
   "version": "2.7.6"
  }
 },
 "nbformat": 4,
 "nbformat_minor": 5
}
