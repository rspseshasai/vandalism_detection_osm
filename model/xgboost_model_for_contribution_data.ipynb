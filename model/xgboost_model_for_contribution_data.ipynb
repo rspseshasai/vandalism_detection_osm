{
 "cells": [
  {
   "cell_type": "markdown",
   "source": [
    "## XGBoost Model for OSM Contributions Data"
   ],
   "metadata": {
    "collapsed": false
   },
   "id": "73d82ea369358825"
  },
  {
   "cell_type": "code",
   "execution_count": 1,
   "id": "initial_id",
   "metadata": {
    "collapsed": true,
    "ExecuteTime": {
     "end_time": "2024-10-30T00:35:57.290559500Z",
     "start_time": "2024-10-30T00:35:55.978182200Z"
    }
   },
   "outputs": [],
   "source": [
    "import pandas as pd\n",
    "from sklearn.model_selection import train_test_split\n"
   ]
  },
  {
   "cell_type": "markdown",
   "source": [
    "### Create directories required for the code"
   ],
   "metadata": {
    "collapsed": false
   },
   "id": "53fc542a2c10f96b"
  },
  {
   "cell_type": "code",
   "execution_count": 2,
   "outputs": [
    {
     "name": "stdout",
     "output_type": "stream",
     "text": [
      "Directory already exists at: ../saved_parameters/contribution_model/\n"
     ]
    }
   ],
   "source": [
    "import os\n",
    "import joblib\n",
    "\n",
    "# Define the directory and file path for saving the model\n",
    "save_dir = '../saved_parameters/contribution_model/'\n",
    "model_file = os.path.join(save_dir, 'final_xgboost_model.pkl')\n",
    "\n",
    "# Check if the directory exists, else create it\n",
    "if not os.path.exists(save_dir):\n",
    "    os.makedirs(save_dir)\n",
    "    print(f\"Directory created at: {save_dir}\")\n",
    "else:\n",
    "    print(f\"Directory already exists at: {save_dir}\")"
   ],
   "metadata": {
    "collapsed": false,
    "ExecuteTime": {
     "end_time": "2024-10-30T00:35:57.302874800Z",
     "start_time": "2024-10-30T00:35:57.288044Z"
    }
   },
   "id": "160cd6fbebe95c7"
  },
  {
   "cell_type": "markdown",
   "source": [
    "### Load the data set into a data frame"
   ],
   "metadata": {
    "collapsed": false
   },
   "id": "331b426841c7fa93"
  },
  {
   "cell_type": "code",
   "execution_count": 3,
   "outputs": [
    {
     "data": {
      "text/plain": "   user_id  user_edit_frequency  editor_used  area_delta  length_delta  area  \\\n0  1020680             1.329399  Level0 v1.2        1644          -216  1644   \n1  1075986             0.495575         JOSM         117             0   117   \n2   246941            61.000000         JOSM           0             0     0   \n3     3392             8.180723   Potlatch 2           0          -205     0   \n4  1942179          2986.044444                        0             0     0   \n\n   length  bounding_box_size  geometry_valid        xmax  ...  emergency  \\\n0       0       5.671549e-07               1   16.862373  ...          0   \n1       0       3.177526e-08               1    5.159954  ...          0   \n2       0       0.000000e+00               1    1.646210  ...          0   \n3     210       3.094182e-07               1 -115.261025  ...          0   \n4       0       0.000000e+00               1   17.466017  ...          0   \n\n   geological  healthcare  highway  historic  landuse  leisure  man_made  \\\n0           0           0        0         0        1        0         0   \n1           0           0        0         0        0        0         0   \n2           0           0        0         0        0        0         0   \n3           0           0        1         0        0        0         0   \n4           0           0        0         0        0        0         0   \n\n   military  vandalism  \n0         0      False  \n1         0       True  \n2         0      False  \n3         0       True  \n4         0       True  \n\n[5 rows x 56 columns]",
      "text/html": "<div>\n<style scoped>\n    .dataframe tbody tr th:only-of-type {\n        vertical-align: middle;\n    }\n\n    .dataframe tbody tr th {\n        vertical-align: top;\n    }\n\n    .dataframe thead th {\n        text-align: right;\n    }\n</style>\n<table border=\"1\" class=\"dataframe\">\n  <thead>\n    <tr style=\"text-align: right;\">\n      <th></th>\n      <th>user_id</th>\n      <th>user_edit_frequency</th>\n      <th>editor_used</th>\n      <th>area_delta</th>\n      <th>length_delta</th>\n      <th>area</th>\n      <th>length</th>\n      <th>bounding_box_size</th>\n      <th>geometry_valid</th>\n      <th>xmax</th>\n      <th>...</th>\n      <th>emergency</th>\n      <th>geological</th>\n      <th>healthcare</th>\n      <th>highway</th>\n      <th>historic</th>\n      <th>landuse</th>\n      <th>leisure</th>\n      <th>man_made</th>\n      <th>military</th>\n      <th>vandalism</th>\n    </tr>\n  </thead>\n  <tbody>\n    <tr>\n      <th>0</th>\n      <td>1020680</td>\n      <td>1.329399</td>\n      <td>Level0 v1.2</td>\n      <td>1644</td>\n      <td>-216</td>\n      <td>1644</td>\n      <td>0</td>\n      <td>5.671549e-07</td>\n      <td>1</td>\n      <td>16.862373</td>\n      <td>...</td>\n      <td>0</td>\n      <td>0</td>\n      <td>0</td>\n      <td>0</td>\n      <td>0</td>\n      <td>1</td>\n      <td>0</td>\n      <td>0</td>\n      <td>0</td>\n      <td>False</td>\n    </tr>\n    <tr>\n      <th>1</th>\n      <td>1075986</td>\n      <td>0.495575</td>\n      <td>JOSM</td>\n      <td>117</td>\n      <td>0</td>\n      <td>117</td>\n      <td>0</td>\n      <td>3.177526e-08</td>\n      <td>1</td>\n      <td>5.159954</td>\n      <td>...</td>\n      <td>0</td>\n      <td>0</td>\n      <td>0</td>\n      <td>0</td>\n      <td>0</td>\n      <td>0</td>\n      <td>0</td>\n      <td>0</td>\n      <td>0</td>\n      <td>True</td>\n    </tr>\n    <tr>\n      <th>2</th>\n      <td>246941</td>\n      <td>61.000000</td>\n      <td>JOSM</td>\n      <td>0</td>\n      <td>0</td>\n      <td>0</td>\n      <td>0</td>\n      <td>0.000000e+00</td>\n      <td>1</td>\n      <td>1.646210</td>\n      <td>...</td>\n      <td>0</td>\n      <td>0</td>\n      <td>0</td>\n      <td>0</td>\n      <td>0</td>\n      <td>0</td>\n      <td>0</td>\n      <td>0</td>\n      <td>0</td>\n      <td>False</td>\n    </tr>\n    <tr>\n      <th>3</th>\n      <td>3392</td>\n      <td>8.180723</td>\n      <td>Potlatch 2</td>\n      <td>0</td>\n      <td>-205</td>\n      <td>0</td>\n      <td>210</td>\n      <td>3.094182e-07</td>\n      <td>1</td>\n      <td>-115.261025</td>\n      <td>...</td>\n      <td>0</td>\n      <td>0</td>\n      <td>0</td>\n      <td>1</td>\n      <td>0</td>\n      <td>0</td>\n      <td>0</td>\n      <td>0</td>\n      <td>0</td>\n      <td>True</td>\n    </tr>\n    <tr>\n      <th>4</th>\n      <td>1942179</td>\n      <td>2986.044444</td>\n      <td></td>\n      <td>0</td>\n      <td>0</td>\n      <td>0</td>\n      <td>0</td>\n      <td>0.000000e+00</td>\n      <td>1</td>\n      <td>17.466017</td>\n      <td>...</td>\n      <td>0</td>\n      <td>0</td>\n      <td>0</td>\n      <td>0</td>\n      <td>0</td>\n      <td>0</td>\n      <td>0</td>\n      <td>0</td>\n      <td>0</td>\n      <td>True</td>\n    </tr>\n  </tbody>\n</table>\n<p>5 rows × 56 columns</p>\n</div>"
     },
     "execution_count": 3,
     "metadata": {},
     "output_type": "execute_result"
    }
   ],
   "source": [
    "features_df = pd.read_parquet(\"../data/contribution_data/extracted_features_v2.parquet\")\n",
    "\n",
    "#Shuffle the data entries\n",
    "features_df = features_df.sample(frac=1, random_state=42).reset_index(drop=True)\n",
    "features_df.head()"
   ],
   "metadata": {
    "collapsed": false,
    "ExecuteTime": {
     "end_time": "2024-10-30T00:35:58.333314800Z",
     "start_time": "2024-10-30T00:35:57.297349800Z"
    }
   },
   "id": "76f85b94e04c194f"
  },
  {
   "cell_type": "markdown",
   "source": [
    "### Drop unnecessary columns and replace spaces with underscores"
   ],
   "metadata": {
    "collapsed": false
   },
   "id": "22111270775c48a9"
  },
  {
   "cell_type": "code",
   "execution_count": 4,
   "outputs": [
    {
     "data": {
      "text/plain": "   user_id  user_edit_frequency  area_delta  length_delta  area  length  \\\n0  1020680             1.329399        1644          -216  1644       0   \n1  1075986             0.495575         117             0   117       0   \n2   246941            61.000000           0             0     0       0   \n3     3392             8.180723           0          -205     0     210   \n4  1942179          2986.044444           0             0     0       0   \n\n   bounding_box_size  geometry_valid        xmax        xmin  ...  healthcare  \\\n0       5.671549e-07               1   16.862373   16.861237  ...           0   \n1       3.177526e-08               1    5.159954    5.159741  ...           0   \n2       0.000000e+00               1    1.646210    1.646210  ...           0   \n3       3.094182e-07               1 -115.261025 -115.261189  ...           0   \n4       0.000000e+00               1   17.466017   17.466017  ...           0   \n\n   highway  historic  landuse  leisure  man_made  military  vandalism  \\\n0        0         0        1        0         0         0      False   \n1        0         0        0        0         0         0       True   \n2        0         0        0        0         0         0      False   \n3        1         0        0        0         0         0       True   \n4        0         0        0        0         0         0       True   \n\n         code  level  \n0  5016864557     16  \n1  5014238182     16  \n2  5011061704     16  \n3  3184713878     16  \n4  5020807494     16  \n\n[5 rows x 53 columns]",
      "text/html": "<div>\n<style scoped>\n    .dataframe tbody tr th:only-of-type {\n        vertical-align: middle;\n    }\n\n    .dataframe tbody tr th {\n        vertical-align: top;\n    }\n\n    .dataframe thead th {\n        text-align: right;\n    }\n</style>\n<table border=\"1\" class=\"dataframe\">\n  <thead>\n    <tr style=\"text-align: right;\">\n      <th></th>\n      <th>user_id</th>\n      <th>user_edit_frequency</th>\n      <th>area_delta</th>\n      <th>length_delta</th>\n      <th>area</th>\n      <th>length</th>\n      <th>bounding_box_size</th>\n      <th>geometry_valid</th>\n      <th>xmax</th>\n      <th>xmin</th>\n      <th>...</th>\n      <th>healthcare</th>\n      <th>highway</th>\n      <th>historic</th>\n      <th>landuse</th>\n      <th>leisure</th>\n      <th>man_made</th>\n      <th>military</th>\n      <th>vandalism</th>\n      <th>code</th>\n      <th>level</th>\n    </tr>\n  </thead>\n  <tbody>\n    <tr>\n      <th>0</th>\n      <td>1020680</td>\n      <td>1.329399</td>\n      <td>1644</td>\n      <td>-216</td>\n      <td>1644</td>\n      <td>0</td>\n      <td>5.671549e-07</td>\n      <td>1</td>\n      <td>16.862373</td>\n      <td>16.861237</td>\n      <td>...</td>\n      <td>0</td>\n      <td>0</td>\n      <td>0</td>\n      <td>1</td>\n      <td>0</td>\n      <td>0</td>\n      <td>0</td>\n      <td>False</td>\n      <td>5016864557</td>\n      <td>16</td>\n    </tr>\n    <tr>\n      <th>1</th>\n      <td>1075986</td>\n      <td>0.495575</td>\n      <td>117</td>\n      <td>0</td>\n      <td>117</td>\n      <td>0</td>\n      <td>3.177526e-08</td>\n      <td>1</td>\n      <td>5.159954</td>\n      <td>5.159741</td>\n      <td>...</td>\n      <td>0</td>\n      <td>0</td>\n      <td>0</td>\n      <td>0</td>\n      <td>0</td>\n      <td>0</td>\n      <td>0</td>\n      <td>True</td>\n      <td>5014238182</td>\n      <td>16</td>\n    </tr>\n    <tr>\n      <th>2</th>\n      <td>246941</td>\n      <td>61.000000</td>\n      <td>0</td>\n      <td>0</td>\n      <td>0</td>\n      <td>0</td>\n      <td>0.000000e+00</td>\n      <td>1</td>\n      <td>1.646210</td>\n      <td>1.646210</td>\n      <td>...</td>\n      <td>0</td>\n      <td>0</td>\n      <td>0</td>\n      <td>0</td>\n      <td>0</td>\n      <td>0</td>\n      <td>0</td>\n      <td>False</td>\n      <td>5011061704</td>\n      <td>16</td>\n    </tr>\n    <tr>\n      <th>3</th>\n      <td>3392</td>\n      <td>8.180723</td>\n      <td>0</td>\n      <td>-205</td>\n      <td>0</td>\n      <td>210</td>\n      <td>3.094182e-07</td>\n      <td>1</td>\n      <td>-115.261025</td>\n      <td>-115.261189</td>\n      <td>...</td>\n      <td>0</td>\n      <td>1</td>\n      <td>0</td>\n      <td>0</td>\n      <td>0</td>\n      <td>0</td>\n      <td>0</td>\n      <td>True</td>\n      <td>3184713878</td>\n      <td>16</td>\n    </tr>\n    <tr>\n      <th>4</th>\n      <td>1942179</td>\n      <td>2986.044444</td>\n      <td>0</td>\n      <td>0</td>\n      <td>0</td>\n      <td>0</td>\n      <td>0.000000e+00</td>\n      <td>1</td>\n      <td>17.466017</td>\n      <td>17.466017</td>\n      <td>...</td>\n      <td>0</td>\n      <td>0</td>\n      <td>0</td>\n      <td>0</td>\n      <td>0</td>\n      <td>0</td>\n      <td>0</td>\n      <td>True</td>\n      <td>5020807494</td>\n      <td>16</td>\n    </tr>\n  </tbody>\n</table>\n<p>5 rows × 53 columns</p>\n</div>"
     },
     "execution_count": 4,
     "metadata": {},
     "output_type": "execute_result"
    }
   ],
   "source": [
    "if features_df.columns.__contains__('xzcode'):\n",
    "    # Split 'xzcode' column into two separate columns 'code' and 'level'\n",
    "    features_df[['code', 'level']] = pd.json_normalize(features_df['xzcode'])\n",
    "    features_df.drop('xzcode', axis=1, inplace=True)\n",
    "\n",
    "if features_df.columns.__contains__('geometry'):\n",
    "    features_df.drop('geometry', axis=1, inplace=True)\n",
    "\n",
    "if features_df.columns.__contains__('osm_id'):\n",
    "    features_df.drop('osm_id', axis=1, inplace=True)\n",
    "\n",
    "if features_df.columns.__contains__('members'):\n",
    "    features_df.drop('members', axis=1, inplace=True)\n",
    "\n",
    "if features_df.columns.__contains__('status'):\n",
    "    features_df.drop('status', axis=1, inplace=True)\n",
    "\n",
    "if features_df.columns.__contains__('editor_used'):\n",
    "    features_df.drop('editor_used', axis=1, inplace=True)\n",
    "\n",
    "features_df.columns = features_df.columns.str.replace(' ', '_', regex=True)\n",
    "\n",
    "features_df.head()"
   ],
   "metadata": {
    "collapsed": false,
    "ExecuteTime": {
     "end_time": "2024-10-30T00:36:00.318274600Z",
     "start_time": "2024-10-30T00:35:58.327271400Z"
    }
   },
   "id": "a85b762553f72634"
  },
  {
   "cell_type": "markdown",
   "source": [
    "### One-hot Encoding"
   ],
   "metadata": {
    "collapsed": false
   },
   "id": "bcf294e2cfc4315f"
  },
  {
   "cell_type": "code",
   "execution_count": 5,
   "outputs": [
    {
     "data": {
      "text/plain": "   user_id  user_edit_frequency  area_delta  length_delta  area  length  \\\n0  1020680             1.329399        1644          -216  1644       0   \n1  1075986             0.495575         117             0   117       0   \n2   246941            61.000000           0             0     0       0   \n3     3392             8.180723           0          -205     0     210   \n4  1942179          2986.044444           0             0     0       0   \n\n   bounding_box_size  geometry_valid        xmax        xmin  ...  level  \\\n0       5.671549e-07               1   16.862373   16.861237  ...     16   \n1       3.177526e-08               1    5.159954    5.159741  ...     16   \n2       0.000000e+00               1    1.646210    1.646210  ...     16   \n3       3.094182e-07               1 -115.261025 -115.261189  ...     16   \n4       0.000000e+00               1   17.466017   17.466017  ...     16   \n\n   osm_type_node  osm_type_relation  osm_type_way  contribution_type_CREATED  \\\n0          False              False          True                      False   \n1          False              False          True                       True   \n2           True              False         False                      False   \n3          False              False          True                      False   \n4           True              False         False                       True   \n\n   contribution_type_DELETED  contribution_type_GEOMETRY  \\\n0                      False                       False   \n1                      False                       False   \n2                      False                       False   \n3                      False                        True   \n4                      False                       False   \n\n   contribution_type_NONE  contribution_type_TAG  \\\n0                   False                  False   \n1                   False                  False   \n2                   False                   True   \n3                   False                  False   \n4                   False                  False   \n\n   contribution_type_TAG_GEOMETRY  \n0                            True  \n1                           False  \n2                           False  \n3                           False  \n4                           False  \n\n[5 rows x 59 columns]",
      "text/html": "<div>\n<style scoped>\n    .dataframe tbody tr th:only-of-type {\n        vertical-align: middle;\n    }\n\n    .dataframe tbody tr th {\n        vertical-align: top;\n    }\n\n    .dataframe thead th {\n        text-align: right;\n    }\n</style>\n<table border=\"1\" class=\"dataframe\">\n  <thead>\n    <tr style=\"text-align: right;\">\n      <th></th>\n      <th>user_id</th>\n      <th>user_edit_frequency</th>\n      <th>area_delta</th>\n      <th>length_delta</th>\n      <th>area</th>\n      <th>length</th>\n      <th>bounding_box_size</th>\n      <th>geometry_valid</th>\n      <th>xmax</th>\n      <th>xmin</th>\n      <th>...</th>\n      <th>level</th>\n      <th>osm_type_node</th>\n      <th>osm_type_relation</th>\n      <th>osm_type_way</th>\n      <th>contribution_type_CREATED</th>\n      <th>contribution_type_DELETED</th>\n      <th>contribution_type_GEOMETRY</th>\n      <th>contribution_type_NONE</th>\n      <th>contribution_type_TAG</th>\n      <th>contribution_type_TAG_GEOMETRY</th>\n    </tr>\n  </thead>\n  <tbody>\n    <tr>\n      <th>0</th>\n      <td>1020680</td>\n      <td>1.329399</td>\n      <td>1644</td>\n      <td>-216</td>\n      <td>1644</td>\n      <td>0</td>\n      <td>5.671549e-07</td>\n      <td>1</td>\n      <td>16.862373</td>\n      <td>16.861237</td>\n      <td>...</td>\n      <td>16</td>\n      <td>False</td>\n      <td>False</td>\n      <td>True</td>\n      <td>False</td>\n      <td>False</td>\n      <td>False</td>\n      <td>False</td>\n      <td>False</td>\n      <td>True</td>\n    </tr>\n    <tr>\n      <th>1</th>\n      <td>1075986</td>\n      <td>0.495575</td>\n      <td>117</td>\n      <td>0</td>\n      <td>117</td>\n      <td>0</td>\n      <td>3.177526e-08</td>\n      <td>1</td>\n      <td>5.159954</td>\n      <td>5.159741</td>\n      <td>...</td>\n      <td>16</td>\n      <td>False</td>\n      <td>False</td>\n      <td>True</td>\n      <td>True</td>\n      <td>False</td>\n      <td>False</td>\n      <td>False</td>\n      <td>False</td>\n      <td>False</td>\n    </tr>\n    <tr>\n      <th>2</th>\n      <td>246941</td>\n      <td>61.000000</td>\n      <td>0</td>\n      <td>0</td>\n      <td>0</td>\n      <td>0</td>\n      <td>0.000000e+00</td>\n      <td>1</td>\n      <td>1.646210</td>\n      <td>1.646210</td>\n      <td>...</td>\n      <td>16</td>\n      <td>True</td>\n      <td>False</td>\n      <td>False</td>\n      <td>False</td>\n      <td>False</td>\n      <td>False</td>\n      <td>False</td>\n      <td>True</td>\n      <td>False</td>\n    </tr>\n    <tr>\n      <th>3</th>\n      <td>3392</td>\n      <td>8.180723</td>\n      <td>0</td>\n      <td>-205</td>\n      <td>0</td>\n      <td>210</td>\n      <td>3.094182e-07</td>\n      <td>1</td>\n      <td>-115.261025</td>\n      <td>-115.261189</td>\n      <td>...</td>\n      <td>16</td>\n      <td>False</td>\n      <td>False</td>\n      <td>True</td>\n      <td>False</td>\n      <td>False</td>\n      <td>True</td>\n      <td>False</td>\n      <td>False</td>\n      <td>False</td>\n    </tr>\n    <tr>\n      <th>4</th>\n      <td>1942179</td>\n      <td>2986.044444</td>\n      <td>0</td>\n      <td>0</td>\n      <td>0</td>\n      <td>0</td>\n      <td>0.000000e+00</td>\n      <td>1</td>\n      <td>17.466017</td>\n      <td>17.466017</td>\n      <td>...</td>\n      <td>16</td>\n      <td>True</td>\n      <td>False</td>\n      <td>False</td>\n      <td>True</td>\n      <td>False</td>\n      <td>False</td>\n      <td>False</td>\n      <td>False</td>\n      <td>False</td>\n    </tr>\n  </tbody>\n</table>\n<p>5 rows × 59 columns</p>\n</div>"
     },
     "execution_count": 5,
     "metadata": {},
     "output_type": "execute_result"
    }
   ],
   "source": [
    "X = features_df.drop('vandalism', axis=1).copy()\n",
    "y = features_df['vandalism'].copy()\n",
    "X_encoded = pd.get_dummies(X, columns=[\n",
    "    'osm_type',\n",
    "    'contribution_type',\n",
    "])\n",
    "assert X_encoded.dtypes.__contains__('object') == False\n",
    "X_encoded.head()"
   ],
   "metadata": {
    "collapsed": false,
    "ExecuteTime": {
     "end_time": "2024-10-30T00:36:00.994775900Z",
     "start_time": "2024-10-30T00:36:00.319865600Z"
    }
   },
   "id": "9feca52c8c7dbd38"
  },
  {
   "cell_type": "markdown",
   "source": [
    "### Format y and check ratio of x:y"
   ],
   "metadata": {
    "collapsed": false
   },
   "id": "f9a81aedf3e7277a"
  },
  {
   "cell_type": "code",
   "execution_count": 6,
   "outputs": [
    {
     "name": "stderr",
     "output_type": "stream",
     "text": [
      "C:\\Users\\saise\\AppData\\Local\\Temp\\ipykernel_19104\\1318066108.py:2: FutureWarning: Downcasting behavior in `replace` is deprecated and will be removed in a future version. To retain the old behavior, explicitly call `result.infer_objects(copy=False)`. To opt-in to the future behavior, set `pd.set_option('future.no_silent_downcasting', True)`\n",
      "  y = y.replace(False, 0)\n"
     ]
    },
    {
     "data": {
      "text/plain": "0.6621638875411762"
     },
     "execution_count": 6,
     "metadata": {},
     "output_type": "execute_result"
    }
   ],
   "source": [
    "y = y.replace(True, 1)\n",
    "y = y.replace(False, 0)\n",
    "sum(y) / len(y)"
   ],
   "metadata": {
    "collapsed": false,
    "ExecuteTime": {
     "end_time": "2024-10-30T00:36:01.171504900Z",
     "start_time": "2024-10-30T00:36:00.955633500Z"
    }
   },
   "id": "82cae71ac507631b"
  },
  {
   "cell_type": "markdown",
   "source": [
    "### Split the data between train and test set & print statistics"
   ],
   "metadata": {
    "collapsed": false
   },
   "id": "fb99a25060b8961a"
  },
  {
   "cell_type": "code",
   "execution_count": 7,
   "outputs": [
    {
     "name": "stdout",
     "output_type": "stream",
     "text": [
      "               Number of Samples  Number of Features\n",
      "X_train shape             281959                  59\n",
      "X_test shape              187973                  59\n",
      "y_train shape             281959              281959\n",
      "y_test shape              187973              187973\n",
      "\n",
      "Train Set Statistics:\n",
      "Total: 281959\n",
      "Vandalism: 186703\n",
      "Non-Vandalism: 95256\n",
      "\n",
      "Test Set Statistics:\n",
      "Total: 187973\n",
      "Vandalism: 124469\n",
      "Non-Vandalism: 63504\n",
      "\n",
      "sum(y_train)/len(y_train): 0.6621636479062559\n",
      "sum(y_test)/len(y_test): 0.6621642469929192\n"
     ]
    }
   ],
   "source": [
    "X_train, X_test, y_train, y_test = train_test_split(X_encoded, y, test_size=0.4, random_state=42, stratify=y)\n",
    "\n",
    "# Get the shapes of the datasets\n",
    "shapes = {\n",
    "    'X_train shape': X_train.shape,\n",
    "    'X_test shape': X_test.shape,\n",
    "    'y_train shape': y_train.shape,\n",
    "    'y_test shape': y_test.shape\n",
    "}\n",
    "\n",
    "# Convert shapes to DataFrame for better display\n",
    "shapes_df = pd.DataFrame(shapes, index=['Number of Samples', 'Number of Features']).T\n",
    "print(shapes_df)\n",
    "print()\n",
    "\n",
    "# 1. Calculate the total number of samples in train and test sets\n",
    "total_train = len(y_train)\n",
    "total_test = len(y_test)\n",
    "\n",
    "# 2. Calculate the number of vandalism (assuming 'vandalism' is labeled as 1)\n",
    "vandalism_train = sum(y_train)\n",
    "vandalism_test = sum(y_test)\n",
    "\n",
    "# 3. Calculate the number of non-vandalism (assuming 'non-vandalism' is labeled as 0)\n",
    "non_vandalism_train = total_train - vandalism_train\n",
    "non_vandalism_test = total_test - vandalism_test\n",
    "\n",
    "# 4. Print the statistics\n",
    "print(f\"Train Set Statistics:\\n\"\n",
    "      f\"Total: {total_train}\\n\"\n",
    "      f\"Vandalism: {vandalism_train}\\n\"\n",
    "      f\"Non-Vandalism: {non_vandalism_train}\\n\")\n",
    "\n",
    "print(f\"Test Set Statistics:\\n\"\n",
    "      f\"Total: {total_test}\\n\"\n",
    "      f\"Vandalism: {vandalism_test}\\n\"\n",
    "      f\"Non-Vandalism: {non_vandalism_test}\\n\")\n",
    "\n",
    "print(\"sum(y_train)/len(y_train): \" + str(sum(y_train) / len(y_train)))\n",
    "print(\"sum(y_test)/len(y_test): \" + str(sum(y_test) / len(y_test)))\n"
   ],
   "metadata": {
    "collapsed": false,
    "ExecuteTime": {
     "end_time": "2024-10-30T00:36:01.600856200Z",
     "start_time": "2024-10-30T00:36:01.127753800Z"
    }
   },
   "id": "cbe6642ebbf4df9e"
  },
  {
   "cell_type": "markdown",
   "source": [
    "### Model training with random hyperparameters and without cross validation"
   ],
   "metadata": {
    "collapsed": false
   },
   "id": "a540e978b4519cc"
  },
  {
   "cell_type": "code",
   "execution_count": 8,
   "outputs": [
    {
     "name": "stderr",
     "output_type": "stream",
     "text": [
      "\n",
      "\u001B[32m2024-10-30 01:36:01\u001B[0m - \u001B[1;30mINFO\u001B[0m - \u001B[35mhyper_parameter_search.py\u001B[0m -- \u001B[30mRandom Hyperparameters Generated: {'learning_rate': 0.01, 'max_depth': 7, 'subsample': 0.8, 'colsample_bytree': 0.6, 'lambda': 10, 'alpha': 0, 'min_child_weight': 10, 'gamma': 3, 'n_estimators': 100}\u001B[0m\n",
      "\n",
      "\u001B[32m2024-10-30 01:36:11\u001B[0m - \u001B[1;30mINFO\u001B[0m - \u001B[35mxgboost_training.py\u001B[0m -- \u001B[30mModel training complete.\u001B[0m\n",
      "\n",
      "\u001B[32m2024-10-30 01:36:11\u001B[0m - \u001B[1;30mINFO\u001B[0m - \u001B[35mxgboost_training.py\u001B[0m -- \u001B[30mModel saved to ../saved_parameters/contribution_model/final_xgboost_base_model.pkl\u001B[0m\n"
     ]
    }
   ],
   "source": [
    "from model.xgboost_training import train_final_model, save_model\n",
    "from model.hyper_parameter_search import get_random_parameters\n",
    "\n",
    "random_parameters = get_random_parameters()\n",
    "\n",
    "# Train Final Model with random parameters\n",
    "final_base_model = train_final_model(X_train, y_train, X_test, y_test, random_parameters)\n",
    "\n",
    "# Save the Model\n",
    "save_model(final_base_model, '../saved_parameters/contribution_model/final_xgboost_base_model.pkl')"
   ],
   "metadata": {
    "collapsed": false,
    "ExecuteTime": {
     "end_time": "2024-10-30T00:36:11.574726600Z",
     "start_time": "2024-10-30T00:36:01.604855Z"
    }
   },
   "id": "10a31949fbb182cf"
  },
  {
   "cell_type": "markdown",
   "source": [
    "### Base model evaluation"
   ],
   "metadata": {
    "collapsed": false
   },
   "id": "bcb683169993e17"
  },
  {
   "cell_type": "code",
   "execution_count": 9,
   "outputs": [
    {
     "name": "stdout",
     "output_type": "stream",
     "text": [
      "Evaluating model performance on both training and test datasets...\n",
      "\n",
      "Train Set Evaluation\n",
      "Accuracy: 0.9101465106628978\n",
      "AUC-ROC: 0.9804100784479052\n",
      "Classification Report (Train):\n",
      "               precision    recall  f1-score   support\n",
      "\n",
      "           0       0.95      0.77      0.85     95256\n",
      "           1       0.89      0.98      0.94    186703\n",
      "\n",
      "    accuracy                           0.91    281959\n",
      "   macro avg       0.92      0.88      0.89    281959\n",
      "weighted avg       0.91      0.91      0.91    281959\n",
      "\n",
      "\n",
      "Test Set Evaluation\n",
      "Accuracy: 0.9082474610715369\n",
      "AUC-ROC: 0.9799343348766776\n",
      "Classification Report (Test):\n",
      "               precision    recall  f1-score   support\n",
      "\n",
      "           0       0.95      0.77      0.85     63504\n",
      "           1       0.89      0.98      0.93    124469\n",
      "\n",
      "    accuracy                           0.91    187973\n",
      "   macro avg       0.92      0.87      0.89    187973\n",
      "weighted avg       0.91      0.91      0.91    187973\n",
      "\n",
      "\n",
      "AUC-PR Score on Test Set: 0.9901791977508855\n",
      "ROC-AUC Score on Test Set: 0.9799343348766776\n",
      "\n",
      "Statistics:\n",
      "True Negatives (TN): 48866\n",
      "False Positives (FP): 14638\n",
      "False Negatives (FN): 2609\n",
      "True Positives (TP): 121860\n",
      "Accuracy: 0.9082\n",
      "Precision: 0.8928\n",
      "Recall: 0.9790\n",
      "F1 Score: 0.9339\n"
     ]
    },
    {
     "data": {
      "text/plain": "<Figure size 600x400 with 2 Axes>",
      "image/png": "[encoded data removed]"
     },
     "metadata": {},
     "output_type": "display_data"
    }
   ],
   "source": [
    "from evaluate_xgboost_model import (evaluate_train_test_metrics, calculate_auc_scores,\n",
    "                                    plot_confusion_matrix)\n",
    "\n",
    "# Evaluate Train and Test Metrics\n",
    "y_test_pred, y_test_prob = evaluate_train_test_metrics(final_base_model, X_train, y_train, X_test, y_test)\n",
    "\n",
    "# Calculate AUC Scores and Get Confusion Matrix\n",
    "cm = calculate_auc_scores(y_test, y_test_pred, y_test_prob)\n",
    "\n",
    "# Plot Confusion Matrix\n",
    "plot_confusion_matrix(cm)"
   ],
   "metadata": {
    "collapsed": false,
    "ExecuteTime": {
     "end_time": "2024-10-30T00:36:13.361388Z",
     "start_time": "2024-10-30T00:36:11.573727Z"
    }
   },
   "id": "5057d06e9e177da7"
  },
  {
   "cell_type": "markdown",
   "source": [
    "### Hyperparameter tuning with cross validation and model training with best parameters"
   ],
   "metadata": {
    "collapsed": false
   },
   "id": "e4bc1f4f0e8422c5"
  },
  {
   "cell_type": "code",
   "execution_count": 10,
   "outputs": [
    {
     "name": "stderr",
     "output_type": "stream",
     "text": [
      "\n",
      "\u001B[32m2024-10-30 01:36:13\u001B[0m - \u001B[1;30mINFO\u001B[0m - \u001B[35mhyper_parameter_search.py\u001B[0m -- \u001B[30mHyperparameters file already exists.\u001B[0m\n",
      "\n",
      "\u001B[32m2024-10-30 01:36:13\u001B[0m - \u001B[1;30mINFO\u001B[0m - \u001B[35mload_hyper_parameters.py\u001B[0m -- \u001B[30mLoaded hyperparameters from ../saved_parameters/contribution_model/best_hyperparameters.json\u001B[0m\n",
      "\n",
      "\u001B[32m2024-10-30 01:36:13\u001B[0m - \u001B[1;30mINFO\u001B[0m - \u001B[35mhyper_parameter_search.py\u001B[0m -- \u001B[30mbest hyper parameters: {'subsample': 0.9, 'n_estimators': 100, 'min_child_weight': 5, 'max_depth': 9, 'learning_rate': 0.3, 'lambda': 0, 'gamma': 2, 'colsample_bytree': 0.7, 'alpha': 0}\u001B[0m\n",
      "\n",
      "\u001B[32m2024-10-30 01:36:23\u001B[0m - \u001B[1;30mINFO\u001B[0m - \u001B[35mxgboost_training.py\u001B[0m -- \u001B[30mModel training complete.\u001B[0m\n"
     ]
    },
    {
     "name": "stdout",
     "output_type": "stream",
     "text": [
      "\n",
      "Performing 5-fold Cross-Validation on the entire data...\n"
     ]
    },
    {
     "name": "stderr",
     "output_type": "stream",
     "text": [
      "\n",
      "\u001B[32m2024-10-30 01:36:32\u001B[0m - \u001B[1;30mINFO\u001B[0m - \u001B[35mxgboost_training.py\u001B[0m -- \u001B[30mModel saved to ../saved_parameters/contribution_model/final_xgboost_model_tuned.pkl\u001B[0m\n"
     ]
    },
    {
     "name": "stdout",
     "output_type": "stream",
     "text": [
      "Cross-Validation AUC Scores: [0.99963166 0.99970849 0.99968457 0.99974075 0.99966955]\n",
      "Mean AUC Score: 0.9996870023751103\n",
      "Standard Deviation of AUC Scores: 3.66727106901221e-05\n"
     ]
    }
   ],
   "source": [
    "from model.hyper_parameter_search import randomized_search_cv\n",
    "from model.xgboost_training import train_final_model, save_model\n",
    "from model.evaluate_xgboost_model import evaluate_model_with_cv\n",
    "\n",
    "# Search and Load Hyperparameters\n",
    "best_params = randomized_search_cv(X_train, y_train, '../saved_parameters/contribution_model/best_hyperparameters.json')\n",
    "\n",
    "# Train Final Model with best_params\n",
    "final_tuned_model = train_final_model(X_train, y_train, X_test, y_test, best_params)\n",
    "\n",
    "# (OPTIONAL): Perform Final Cross-Validation on Full Dataset\n",
    "cv_scores = evaluate_model_with_cv(X_train, y_train, best_params)\n",
    "\n",
    "# Save the Model\n",
    "save_model(final_tuned_model, '../saved_parameters/contribution_model/final_xgboost_model_tuned.pkl')\n"
   ],
   "metadata": {
    "collapsed": false,
    "ExecuteTime": {
     "end_time": "2024-10-30T00:36:32.328061600Z",
     "start_time": "2024-10-30T00:36:13.359375100Z"
    }
   },
   "id": "c719f90dc253baf7"
  },
  {
   "cell_type": "markdown",
   "source": [
    "### Tuned model evaluation"
   ],
   "metadata": {
    "collapsed": false
   },
   "id": "5e895b4fb2b80a47"
  },
  {
   "cell_type": "code",
   "execution_count": 11,
   "outputs": [
    {
     "name": "stdout",
     "output_type": "stream",
     "text": [
      "Evaluating model performance on both training and test datasets...\n",
      "\n",
      "Train Set Evaluation\n",
      "Accuracy: 0.9977053401381052\n",
      "AUC-ROC: 0.9999475200736144\n",
      "Classification Report (Train):\n",
      "               precision    recall  f1-score   support\n",
      "\n",
      "           0       1.00      1.00      1.00     95256\n",
      "           1       1.00      1.00      1.00    186703\n",
      "\n",
      "    accuracy                           1.00    281959\n",
      "   macro avg       1.00      1.00      1.00    281959\n",
      "weighted avg       1.00      1.00      1.00    281959\n",
      "\n",
      "\n",
      "Test Set Evaluation\n",
      "Accuracy: 0.9952280380692972\n",
      "AUC-ROC: 0.9997874191409399\n",
      "Classification Report (Test):\n",
      "               precision    recall  f1-score   support\n",
      "\n",
      "           0       0.99      1.00      0.99     63504\n",
      "           1       1.00      1.00      1.00    124469\n",
      "\n",
      "    accuracy                           1.00    187973\n",
      "   macro avg       0.99      1.00      0.99    187973\n",
      "weighted avg       1.00      1.00      1.00    187973\n",
      "\n",
      "AUC-PR Score on Test Set: 0.999897361318275\n",
      "ROC-AUC Score on Test Set: 0.9997874191409399\n",
      "\n",
      "Statistics:\n",
      "True Negatives (TN): 63189\n",
      "False Positives (FP): 315\n",
      "False Negatives (FN): 582\n",
      "True Positives (TP): 123887\n",
      "Accuracy: 0.9952\n",
      "Precision: 0.9975\n",
      "Recall: 0.9953\n",
      "F1 Score: 0.9964\n"
     ]
    },
    {
     "data": {
      "text/plain": "<Figure size 600x400 with 2 Axes>",
      "image/png": "[encoded data removed]"
     },
     "metadata": {},
     "output_type": "display_data"
    }
   ],
   "source": [
    "from evaluate_xgboost_model import (evaluate_train_test_metrics, calculate_auc_scores,\n",
    "                                    plot_confusion_matrix)\n",
    "\n",
    "# Evaluate Train and Test Metrics\n",
    "y_test_pred, y_test_prob = evaluate_train_test_metrics(final_tuned_model, X_train, y_train, X_test, y_test)\n",
    "\n",
    "# Calculate AUC Scores and Get Confusion Matrix\n",
    "cm = calculate_auc_scores(y_test, y_test_pred, y_test_prob)\n",
    "\n",
    "# Plot Confusion Matrix\n",
    "plot_confusion_matrix(cm)"
   ],
   "metadata": {
    "collapsed": false,
    "ExecuteTime": {
     "end_time": "2024-10-30T00:36:33.907427800Z",
     "start_time": "2024-10-30T00:36:32.330589500Z"
    }
   },
   "id": "7d66a085fb098d7f"
  }
 ],
 "metadata": {
  "kernelspec": {
   "display_name": "Python 3",
   "language": "python",
   "name": "python3"
  },
  "language_info": {
   "codemirror_mode": {
    "name": "ipython",
    "version": 2
   },
   "file_extension": ".py",
   "mimetype": "text/x-python",
   "name": "python",
   "nbconvert_exporter": "python",
   "pygments_lexer": "ipython2",
   "version": "2.7.6"
  }
 },
 "nbformat": 4,
 "nbformat_minor": 5
}
