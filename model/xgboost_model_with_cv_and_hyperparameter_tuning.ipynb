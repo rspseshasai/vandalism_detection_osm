{
 "cells": [
  {
   "cell_type": "code",
   "execution_count": 1,
   "id": "initial_id",
   "metadata": {
    "collapsed": true,
    "ExecuteTime": {
     "end_time": "2024-10-28T17:04:02.929150100Z",
     "start_time": "2024-10-28T17:04:02.674744700Z"
    }
   },
   "outputs": [],
   "source": [
    "import pandas as pd\n",
    "from sklearn.model_selection import train_test_split\n"
   ]
  },
  {
   "cell_type": "code",
   "execution_count": 2,
   "outputs": [],
   "source": [
    "features_df = pd.read_parquet(\"../data/contribution_data/extracted_features_v2.parquet\")"
   ],
   "metadata": {
    "collapsed": false,
    "ExecuteTime": {
     "end_time": "2024-10-28T17:04:03.446151500Z",
     "start_time": "2024-10-28T17:04:02.930149900Z"
    }
   },
   "id": "76f85b94e04c194f"
  },
  {
   "cell_type": "code",
   "execution_count": 3,
   "outputs": [
    {
     "data": {
      "text/plain": "   user_id  user_edit_frequency  editor_used  area_delta  length_delta  area  \\\n0  1020680             1.329399  Level0 v1.2        1644          -216  1644   \n1  1075986             0.495575         JOSM         117             0   117   \n2   246941            61.000000         JOSM           0             0     0   \n3     3392             8.180723   Potlatch 2           0          -205     0   \n4  1942179          2986.044444                        0             0     0   \n\n   length  bounding_box_size  geometry_valid        xmax  ...  emergency  \\\n0       0       5.671549e-07               1   16.862373  ...          0   \n1       0       3.177526e-08               1    5.159954  ...          0   \n2       0       0.000000e+00               1    1.646210  ...          0   \n3     210       3.094182e-07               1 -115.261025  ...          0   \n4       0       0.000000e+00               1   17.466017  ...          0   \n\n   geological  healthcare  highway  historic  landuse  leisure  man_made  \\\n0           0           0        0         0        1        0         0   \n1           0           0        0         0        0        0         0   \n2           0           0        0         0        0        0         0   \n3           0           0        1         0        0        0         0   \n4           0           0        0         0        0        0         0   \n\n   military  vandalism  \n0         0      False  \n1         0       True  \n2         0      False  \n3         0       True  \n4         0       True  \n\n[5 rows x 56 columns]",
      "text/html": "<div>\n<style scoped>\n    .dataframe tbody tr th:only-of-type {\n        vertical-align: middle;\n    }\n\n    .dataframe tbody tr th {\n        vertical-align: top;\n    }\n\n    .dataframe thead th {\n        text-align: right;\n    }\n</style>\n<table border=\"1\" class=\"dataframe\">\n  <thead>\n    <tr style=\"text-align: right;\">\n      <th></th>\n      <th>user_id</th>\n      <th>user_edit_frequency</th>\n      <th>editor_used</th>\n      <th>area_delta</th>\n      <th>length_delta</th>\n      <th>area</th>\n      <th>length</th>\n      <th>bounding_box_size</th>\n      <th>geometry_valid</th>\n      <th>xmax</th>\n      <th>...</th>\n      <th>emergency</th>\n      <th>geological</th>\n      <th>healthcare</th>\n      <th>highway</th>\n      <th>historic</th>\n      <th>landuse</th>\n      <th>leisure</th>\n      <th>man_made</th>\n      <th>military</th>\n      <th>vandalism</th>\n    </tr>\n  </thead>\n  <tbody>\n    <tr>\n      <th>0</th>\n      <td>1020680</td>\n      <td>1.329399</td>\n      <td>Level0 v1.2</td>\n      <td>1644</td>\n      <td>-216</td>\n      <td>1644</td>\n      <td>0</td>\n      <td>5.671549e-07</td>\n      <td>1</td>\n      <td>16.862373</td>\n      <td>...</td>\n      <td>0</td>\n      <td>0</td>\n      <td>0</td>\n      <td>0</td>\n      <td>0</td>\n      <td>1</td>\n      <td>0</td>\n      <td>0</td>\n      <td>0</td>\n      <td>False</td>\n    </tr>\n    <tr>\n      <th>1</th>\n      <td>1075986</td>\n      <td>0.495575</td>\n      <td>JOSM</td>\n      <td>117</td>\n      <td>0</td>\n      <td>117</td>\n      <td>0</td>\n      <td>3.177526e-08</td>\n      <td>1</td>\n      <td>5.159954</td>\n      <td>...</td>\n      <td>0</td>\n      <td>0</td>\n      <td>0</td>\n      <td>0</td>\n      <td>0</td>\n      <td>0</td>\n      <td>0</td>\n      <td>0</td>\n      <td>0</td>\n      <td>True</td>\n    </tr>\n    <tr>\n      <th>2</th>\n      <td>246941</td>\n      <td>61.000000</td>\n      <td>JOSM</td>\n      <td>0</td>\n      <td>0</td>\n      <td>0</td>\n      <td>0</td>\n      <td>0.000000e+00</td>\n      <td>1</td>\n      <td>1.646210</td>\n      <td>...</td>\n      <td>0</td>\n      <td>0</td>\n      <td>0</td>\n      <td>0</td>\n      <td>0</td>\n      <td>0</td>\n      <td>0</td>\n      <td>0</td>\n      <td>0</td>\n      <td>False</td>\n    </tr>\n    <tr>\n      <th>3</th>\n      <td>3392</td>\n      <td>8.180723</td>\n      <td>Potlatch 2</td>\n      <td>0</td>\n      <td>-205</td>\n      <td>0</td>\n      <td>210</td>\n      <td>3.094182e-07</td>\n      <td>1</td>\n      <td>-115.261025</td>\n      <td>...</td>\n      <td>0</td>\n      <td>0</td>\n      <td>0</td>\n      <td>1</td>\n      <td>0</td>\n      <td>0</td>\n      <td>0</td>\n      <td>0</td>\n      <td>0</td>\n      <td>True</td>\n    </tr>\n    <tr>\n      <th>4</th>\n      <td>1942179</td>\n      <td>2986.044444</td>\n      <td></td>\n      <td>0</td>\n      <td>0</td>\n      <td>0</td>\n      <td>0</td>\n      <td>0.000000e+00</td>\n      <td>1</td>\n      <td>17.466017</td>\n      <td>...</td>\n      <td>0</td>\n      <td>0</td>\n      <td>0</td>\n      <td>0</td>\n      <td>0</td>\n      <td>0</td>\n      <td>0</td>\n      <td>0</td>\n      <td>0</td>\n      <td>True</td>\n    </tr>\n  </tbody>\n</table>\n<p>5 rows × 56 columns</p>\n</div>"
     },
     "execution_count": 3,
     "metadata": {},
     "output_type": "execute_result"
    }
   ],
   "source": [
    "#Shuffle the data entries\n",
    "features_df = features_df.sample(frac=1, random_state=42).reset_index(drop=True)\n",
    "features_df.head()"
   ],
   "metadata": {
    "collapsed": false,
    "ExecuteTime": {
     "end_time": "2024-10-28T17:04:03.858464800Z",
     "start_time": "2024-10-28T17:04:03.443170700Z"
    }
   },
   "id": "d4317f4d19642e42"
  },
  {
   "cell_type": "code",
   "execution_count": 4,
   "outputs": [
    {
     "data": {
      "text/plain": "   user_id  user_edit_frequency  editor_used  area_delta  length_delta  area  \\\n0  1020680             1.329399  Level0 v1.2        1644          -216  1644   \n1  1075986             0.495575         JOSM         117             0   117   \n2   246941            61.000000         JOSM           0             0     0   \n3     3392             8.180723   Potlatch 2           0          -205     0   \n4  1942179          2986.044444                        0             0     0   \n\n   length  bounding_box_size  geometry_valid        xmax  ...  healthcare  \\\n0       0       5.671549e-07               1   16.862373  ...           0   \n1       0       3.177526e-08               1    5.159954  ...           0   \n2       0       0.000000e+00               1    1.646210  ...           0   \n3     210       3.094182e-07               1 -115.261025  ...           0   \n4       0       0.000000e+00               1   17.466017  ...           0   \n\n   highway  historic  landuse  leisure  man_made  military  vandalism  \\\n0        0         0        1        0         0         0      False   \n1        0         0        0        0         0         0       True   \n2        0         0        0        0         0         0      False   \n3        1         0        0        0         0         0       True   \n4        0         0        0        0         0         0       True   \n\n         code  level  \n0  5016864557     16  \n1  5014238182     16  \n2  5011061704     16  \n3  3184713878     16  \n4  5020807494     16  \n\n[5 rows x 57 columns]",
      "text/html": "<div>\n<style scoped>\n    .dataframe tbody tr th:only-of-type {\n        vertical-align: middle;\n    }\n\n    .dataframe tbody tr th {\n        vertical-align: top;\n    }\n\n    .dataframe thead th {\n        text-align: right;\n    }\n</style>\n<table border=\"1\" class=\"dataframe\">\n  <thead>\n    <tr style=\"text-align: right;\">\n      <th></th>\n      <th>user_id</th>\n      <th>user_edit_frequency</th>\n      <th>editor_used</th>\n      <th>area_delta</th>\n      <th>length_delta</th>\n      <th>area</th>\n      <th>length</th>\n      <th>bounding_box_size</th>\n      <th>geometry_valid</th>\n      <th>xmax</th>\n      <th>...</th>\n      <th>healthcare</th>\n      <th>highway</th>\n      <th>historic</th>\n      <th>landuse</th>\n      <th>leisure</th>\n      <th>man_made</th>\n      <th>military</th>\n      <th>vandalism</th>\n      <th>code</th>\n      <th>level</th>\n    </tr>\n  </thead>\n  <tbody>\n    <tr>\n      <th>0</th>\n      <td>1020680</td>\n      <td>1.329399</td>\n      <td>Level0 v1.2</td>\n      <td>1644</td>\n      <td>-216</td>\n      <td>1644</td>\n      <td>0</td>\n      <td>5.671549e-07</td>\n      <td>1</td>\n      <td>16.862373</td>\n      <td>...</td>\n      <td>0</td>\n      <td>0</td>\n      <td>0</td>\n      <td>1</td>\n      <td>0</td>\n      <td>0</td>\n      <td>0</td>\n      <td>False</td>\n      <td>5016864557</td>\n      <td>16</td>\n    </tr>\n    <tr>\n      <th>1</th>\n      <td>1075986</td>\n      <td>0.495575</td>\n      <td>JOSM</td>\n      <td>117</td>\n      <td>0</td>\n      <td>117</td>\n      <td>0</td>\n      <td>3.177526e-08</td>\n      <td>1</td>\n      <td>5.159954</td>\n      <td>...</td>\n      <td>0</td>\n      <td>0</td>\n      <td>0</td>\n      <td>0</td>\n      <td>0</td>\n      <td>0</td>\n      <td>0</td>\n      <td>True</td>\n      <td>5014238182</td>\n      <td>16</td>\n    </tr>\n    <tr>\n      <th>2</th>\n      <td>246941</td>\n      <td>61.000000</td>\n      <td>JOSM</td>\n      <td>0</td>\n      <td>0</td>\n      <td>0</td>\n      <td>0</td>\n      <td>0.000000e+00</td>\n      <td>1</td>\n      <td>1.646210</td>\n      <td>...</td>\n      <td>0</td>\n      <td>0</td>\n      <td>0</td>\n      <td>0</td>\n      <td>0</td>\n      <td>0</td>\n      <td>0</td>\n      <td>False</td>\n      <td>5011061704</td>\n      <td>16</td>\n    </tr>\n    <tr>\n      <th>3</th>\n      <td>3392</td>\n      <td>8.180723</td>\n      <td>Potlatch 2</td>\n      <td>0</td>\n      <td>-205</td>\n      <td>0</td>\n      <td>210</td>\n      <td>3.094182e-07</td>\n      <td>1</td>\n      <td>-115.261025</td>\n      <td>...</td>\n      <td>0</td>\n      <td>1</td>\n      <td>0</td>\n      <td>0</td>\n      <td>0</td>\n      <td>0</td>\n      <td>0</td>\n      <td>True</td>\n      <td>3184713878</td>\n      <td>16</td>\n    </tr>\n    <tr>\n      <th>4</th>\n      <td>1942179</td>\n      <td>2986.044444</td>\n      <td></td>\n      <td>0</td>\n      <td>0</td>\n      <td>0</td>\n      <td>0</td>\n      <td>0.000000e+00</td>\n      <td>1</td>\n      <td>17.466017</td>\n      <td>...</td>\n      <td>0</td>\n      <td>0</td>\n      <td>0</td>\n      <td>0</td>\n      <td>0</td>\n      <td>0</td>\n      <td>0</td>\n      <td>True</td>\n      <td>5020807494</td>\n      <td>16</td>\n    </tr>\n  </tbody>\n</table>\n<p>5 rows × 57 columns</p>\n</div>"
     },
     "execution_count": 4,
     "metadata": {},
     "output_type": "execute_result"
    }
   ],
   "source": [
    "if features_df.columns.__contains__('xzcode'):\n",
    "    # Split 'xzcode' column into two separate columns 'code' and 'level'\n",
    "    features_df[['code', 'level']] = pd.json_normalize(features_df['xzcode'])\n",
    "    features_df.drop('xzcode', axis=1, inplace=True)\n",
    "features_df.head()"
   ],
   "metadata": {
    "collapsed": false,
    "ExecuteTime": {
     "end_time": "2024-10-28T17:04:05.577754600Z",
     "start_time": "2024-10-28T17:04:03.858464800Z"
    }
   },
   "id": "a85b762553f72634"
  },
  {
   "cell_type": "code",
   "execution_count": 5,
   "outputs": [
    {
     "data": {
      "text/plain": "   user_id  user_edit_frequency  editor_used  area_delta  length_delta  area  \\\n0  1020680             1.329399  Level0 v1.2        1644          -216  1644   \n1  1075986             0.495575         JOSM         117             0   117   \n2   246941            61.000000         JOSM           0             0     0   \n3     3392             8.180723   Potlatch 2           0          -205     0   \n4  1942179          2986.044444                        0             0     0   \n\n   length  bounding_box_size  geometry_valid        xmax  ...  healthcare  \\\n0       0       5.671549e-07               1   16.862373  ...           0   \n1       0       3.177526e-08               1    5.159954  ...           0   \n2       0       0.000000e+00               1    1.646210  ...           0   \n3     210       3.094182e-07               1 -115.261025  ...           0   \n4       0       0.000000e+00               1   17.466017  ...           0   \n\n   highway  historic  landuse  leisure  man_made  military  vandalism  \\\n0        0         0        1        0         0         0      False   \n1        0         0        0        0         0         0       True   \n2        0         0        0        0         0         0      False   \n3        1         0        0        0         0         0       True   \n4        0         0        0        0         0         0       True   \n\n         code  level  \n0  5016864557     16  \n1  5014238182     16  \n2  5011061704     16  \n3  3184713878     16  \n4  5020807494     16  \n\n[5 rows x 55 columns]",
      "text/html": "<div>\n<style scoped>\n    .dataframe tbody tr th:only-of-type {\n        vertical-align: middle;\n    }\n\n    .dataframe tbody tr th {\n        vertical-align: top;\n    }\n\n    .dataframe thead th {\n        text-align: right;\n    }\n</style>\n<table border=\"1\" class=\"dataframe\">\n  <thead>\n    <tr style=\"text-align: right;\">\n      <th></th>\n      <th>user_id</th>\n      <th>user_edit_frequency</th>\n      <th>editor_used</th>\n      <th>area_delta</th>\n      <th>length_delta</th>\n      <th>area</th>\n      <th>length</th>\n      <th>bounding_box_size</th>\n      <th>geometry_valid</th>\n      <th>xmax</th>\n      <th>...</th>\n      <th>healthcare</th>\n      <th>highway</th>\n      <th>historic</th>\n      <th>landuse</th>\n      <th>leisure</th>\n      <th>man_made</th>\n      <th>military</th>\n      <th>vandalism</th>\n      <th>code</th>\n      <th>level</th>\n    </tr>\n  </thead>\n  <tbody>\n    <tr>\n      <th>0</th>\n      <td>1020680</td>\n      <td>1.329399</td>\n      <td>Level0 v1.2</td>\n      <td>1644</td>\n      <td>-216</td>\n      <td>1644</td>\n      <td>0</td>\n      <td>5.671549e-07</td>\n      <td>1</td>\n      <td>16.862373</td>\n      <td>...</td>\n      <td>0</td>\n      <td>0</td>\n      <td>0</td>\n      <td>1</td>\n      <td>0</td>\n      <td>0</td>\n      <td>0</td>\n      <td>False</td>\n      <td>5016864557</td>\n      <td>16</td>\n    </tr>\n    <tr>\n      <th>1</th>\n      <td>1075986</td>\n      <td>0.495575</td>\n      <td>JOSM</td>\n      <td>117</td>\n      <td>0</td>\n      <td>117</td>\n      <td>0</td>\n      <td>3.177526e-08</td>\n      <td>1</td>\n      <td>5.159954</td>\n      <td>...</td>\n      <td>0</td>\n      <td>0</td>\n      <td>0</td>\n      <td>0</td>\n      <td>0</td>\n      <td>0</td>\n      <td>0</td>\n      <td>True</td>\n      <td>5014238182</td>\n      <td>16</td>\n    </tr>\n    <tr>\n      <th>2</th>\n      <td>246941</td>\n      <td>61.000000</td>\n      <td>JOSM</td>\n      <td>0</td>\n      <td>0</td>\n      <td>0</td>\n      <td>0</td>\n      <td>0.000000e+00</td>\n      <td>1</td>\n      <td>1.646210</td>\n      <td>...</td>\n      <td>0</td>\n      <td>0</td>\n      <td>0</td>\n      <td>0</td>\n      <td>0</td>\n      <td>0</td>\n      <td>0</td>\n      <td>False</td>\n      <td>5011061704</td>\n      <td>16</td>\n    </tr>\n    <tr>\n      <th>3</th>\n      <td>3392</td>\n      <td>8.180723</td>\n      <td>Potlatch 2</td>\n      <td>0</td>\n      <td>-205</td>\n      <td>0</td>\n      <td>210</td>\n      <td>3.094182e-07</td>\n      <td>1</td>\n      <td>-115.261025</td>\n      <td>...</td>\n      <td>0</td>\n      <td>1</td>\n      <td>0</td>\n      <td>0</td>\n      <td>0</td>\n      <td>0</td>\n      <td>0</td>\n      <td>True</td>\n      <td>3184713878</td>\n      <td>16</td>\n    </tr>\n    <tr>\n      <th>4</th>\n      <td>1942179</td>\n      <td>2986.044444</td>\n      <td></td>\n      <td>0</td>\n      <td>0</td>\n      <td>0</td>\n      <td>0</td>\n      <td>0.000000e+00</td>\n      <td>1</td>\n      <td>17.466017</td>\n      <td>...</td>\n      <td>0</td>\n      <td>0</td>\n      <td>0</td>\n      <td>0</td>\n      <td>0</td>\n      <td>0</td>\n      <td>0</td>\n      <td>True</td>\n      <td>5020807494</td>\n      <td>16</td>\n    </tr>\n  </tbody>\n</table>\n<p>5 rows × 55 columns</p>\n</div>"
     },
     "execution_count": 5,
     "metadata": {},
     "output_type": "execute_result"
    }
   ],
   "source": [
    "if features_df.columns.__contains__('geometry'):\n",
    "    features_df.drop('geometry', axis=1, inplace=True)\n",
    "    \n",
    "if features_df.columns.__contains__('osm_id'):\n",
    "    features_df.drop('osm_id', axis=1, inplace=True)\n",
    "    \n",
    "    \n",
    "if features_df.columns.__contains__('members'):\n",
    "    features_df.drop('members', axis=1, inplace=True)\n",
    "    \n",
    "features_df.head()"
   ],
   "metadata": {
    "collapsed": false,
    "ExecuteTime": {
     "end_time": "2024-10-28T17:04:05.792456900Z",
     "start_time": "2024-10-28T17:04:05.577754600Z"
    }
   },
   "id": "a5e03bd1300cda47"
  },
  {
   "cell_type": "code",
   "execution_count": 6,
   "outputs": [
    {
     "data": {
      "text/plain": "   user_id  user_edit_frequency  editor_used  area_delta  length_delta  area  \\\n0  1020680             1.329399  Level0 v1.2        1644          -216  1644   \n1  1075986             0.495575         JOSM         117             0   117   \n2   246941            61.000000         JOSM           0             0     0   \n3     3392             8.180723   Potlatch 2           0          -205     0   \n4  1942179          2986.044444                        0             0     0   \n\n   length  bounding_box_size  geometry_valid        xmax  ...  healthcare  \\\n0       0       5.671549e-07               1   16.862373  ...           0   \n1       0       3.177526e-08               1    5.159954  ...           0   \n2       0       0.000000e+00               1    1.646210  ...           0   \n3     210       3.094182e-07               1 -115.261025  ...           0   \n4       0       0.000000e+00               1   17.466017  ...           0   \n\n   highway  historic  landuse  leisure  man_made  military  vandalism  \\\n0        0         0        1        0         0         0      False   \n1        0         0        0        0         0         0       True   \n2        0         0        0        0         0         0      False   \n3        1         0        0        0         0         0       True   \n4        0         0        0        0         0         0       True   \n\n         code  level  \n0  5016864557     16  \n1  5014238182     16  \n2  5011061704     16  \n3  3184713878     16  \n4  5020807494     16  \n\n[5 rows x 55 columns]",
      "text/html": "<div>\n<style scoped>\n    .dataframe tbody tr th:only-of-type {\n        vertical-align: middle;\n    }\n\n    .dataframe tbody tr th {\n        vertical-align: top;\n    }\n\n    .dataframe thead th {\n        text-align: right;\n    }\n</style>\n<table border=\"1\" class=\"dataframe\">\n  <thead>\n    <tr style=\"text-align: right;\">\n      <th></th>\n      <th>user_id</th>\n      <th>user_edit_frequency</th>\n      <th>editor_used</th>\n      <th>area_delta</th>\n      <th>length_delta</th>\n      <th>area</th>\n      <th>length</th>\n      <th>bounding_box_size</th>\n      <th>geometry_valid</th>\n      <th>xmax</th>\n      <th>...</th>\n      <th>healthcare</th>\n      <th>highway</th>\n      <th>historic</th>\n      <th>landuse</th>\n      <th>leisure</th>\n      <th>man_made</th>\n      <th>military</th>\n      <th>vandalism</th>\n      <th>code</th>\n      <th>level</th>\n    </tr>\n  </thead>\n  <tbody>\n    <tr>\n      <th>0</th>\n      <td>1020680</td>\n      <td>1.329399</td>\n      <td>Level0 v1.2</td>\n      <td>1644</td>\n      <td>-216</td>\n      <td>1644</td>\n      <td>0</td>\n      <td>5.671549e-07</td>\n      <td>1</td>\n      <td>16.862373</td>\n      <td>...</td>\n      <td>0</td>\n      <td>0</td>\n      <td>0</td>\n      <td>1</td>\n      <td>0</td>\n      <td>0</td>\n      <td>0</td>\n      <td>False</td>\n      <td>5016864557</td>\n      <td>16</td>\n    </tr>\n    <tr>\n      <th>1</th>\n      <td>1075986</td>\n      <td>0.495575</td>\n      <td>JOSM</td>\n      <td>117</td>\n      <td>0</td>\n      <td>117</td>\n      <td>0</td>\n      <td>3.177526e-08</td>\n      <td>1</td>\n      <td>5.159954</td>\n      <td>...</td>\n      <td>0</td>\n      <td>0</td>\n      <td>0</td>\n      <td>0</td>\n      <td>0</td>\n      <td>0</td>\n      <td>0</td>\n      <td>True</td>\n      <td>5014238182</td>\n      <td>16</td>\n    </tr>\n    <tr>\n      <th>2</th>\n      <td>246941</td>\n      <td>61.000000</td>\n      <td>JOSM</td>\n      <td>0</td>\n      <td>0</td>\n      <td>0</td>\n      <td>0</td>\n      <td>0.000000e+00</td>\n      <td>1</td>\n      <td>1.646210</td>\n      <td>...</td>\n      <td>0</td>\n      <td>0</td>\n      <td>0</td>\n      <td>0</td>\n      <td>0</td>\n      <td>0</td>\n      <td>0</td>\n      <td>False</td>\n      <td>5011061704</td>\n      <td>16</td>\n    </tr>\n    <tr>\n      <th>3</th>\n      <td>3392</td>\n      <td>8.180723</td>\n      <td>Potlatch 2</td>\n      <td>0</td>\n      <td>-205</td>\n      <td>0</td>\n      <td>210</td>\n      <td>3.094182e-07</td>\n      <td>1</td>\n      <td>-115.261025</td>\n      <td>...</td>\n      <td>0</td>\n      <td>1</td>\n      <td>0</td>\n      <td>0</td>\n      <td>0</td>\n      <td>0</td>\n      <td>0</td>\n      <td>True</td>\n      <td>3184713878</td>\n      <td>16</td>\n    </tr>\n    <tr>\n      <th>4</th>\n      <td>1942179</td>\n      <td>2986.044444</td>\n      <td></td>\n      <td>0</td>\n      <td>0</td>\n      <td>0</td>\n      <td>0</td>\n      <td>0.000000e+00</td>\n      <td>1</td>\n      <td>17.466017</td>\n      <td>...</td>\n      <td>0</td>\n      <td>0</td>\n      <td>0</td>\n      <td>0</td>\n      <td>0</td>\n      <td>0</td>\n      <td>0</td>\n      <td>True</td>\n      <td>5020807494</td>\n      <td>16</td>\n    </tr>\n  </tbody>\n</table>\n<p>5 rows × 55 columns</p>\n</div>"
     },
     "execution_count": 6,
     "metadata": {},
     "output_type": "execute_result"
    }
   ],
   "source": [
    "features_df.columns = features_df.columns.str.replace(' ', '_', regex=True)\n",
    "features_df.head()"
   ],
   "metadata": {
    "collapsed": false,
    "ExecuteTime": {
     "end_time": "2024-10-28T17:04:05.825359100Z",
     "start_time": "2024-10-28T17:04:05.792456900Z"
    }
   },
   "id": "b565298736848be7"
  },
  {
   "cell_type": "code",
   "execution_count": 7,
   "outputs": [
    {
     "data": {
      "text/plain": "   user_id  user_edit_frequency  editor_used  area_delta  length_delta  area  \\\n0  1020680             1.329399  Level0 v1.2        1644          -216  1644   \n1  1075986             0.495575         JOSM         117             0   117   \n2   246941            61.000000         JOSM           0             0     0   \n3     3392             8.180723   Potlatch 2           0          -205     0   \n4  1942179          2986.044444                        0             0     0   \n\n   length  bounding_box_size  geometry_valid        xmax  ...  geological  \\\n0       0       5.671549e-07               1   16.862373  ...           0   \n1       0       3.177526e-08               1    5.159954  ...           0   \n2       0       0.000000e+00               1    1.646210  ...           0   \n3     210       3.094182e-07               1 -115.261025  ...           0   \n4       0       0.000000e+00               1   17.466017  ...           0   \n\n   healthcare  highway  historic  landuse  leisure  man_made  military  \\\n0           0        0         0        1        0         0         0   \n1           0        0         0        0        0         0         0   \n2           0        0         0        0        0         0         0   \n3           0        1         0        0        0         0         0   \n4           0        0         0        0        0         0         0   \n\n         code  level  \n0  5016864557     16  \n1  5014238182     16  \n2  5011061704     16  \n3  3184713878     16  \n4  5020807494     16  \n\n[5 rows x 54 columns]",
      "text/html": "<div>\n<style scoped>\n    .dataframe tbody tr th:only-of-type {\n        vertical-align: middle;\n    }\n\n    .dataframe tbody tr th {\n        vertical-align: top;\n    }\n\n    .dataframe thead th {\n        text-align: right;\n    }\n</style>\n<table border=\"1\" class=\"dataframe\">\n  <thead>\n    <tr style=\"text-align: right;\">\n      <th></th>\n      <th>user_id</th>\n      <th>user_edit_frequency</th>\n      <th>editor_used</th>\n      <th>area_delta</th>\n      <th>length_delta</th>\n      <th>area</th>\n      <th>length</th>\n      <th>bounding_box_size</th>\n      <th>geometry_valid</th>\n      <th>xmax</th>\n      <th>...</th>\n      <th>geological</th>\n      <th>healthcare</th>\n      <th>highway</th>\n      <th>historic</th>\n      <th>landuse</th>\n      <th>leisure</th>\n      <th>man_made</th>\n      <th>military</th>\n      <th>code</th>\n      <th>level</th>\n    </tr>\n  </thead>\n  <tbody>\n    <tr>\n      <th>0</th>\n      <td>1020680</td>\n      <td>1.329399</td>\n      <td>Level0 v1.2</td>\n      <td>1644</td>\n      <td>-216</td>\n      <td>1644</td>\n      <td>0</td>\n      <td>5.671549e-07</td>\n      <td>1</td>\n      <td>16.862373</td>\n      <td>...</td>\n      <td>0</td>\n      <td>0</td>\n      <td>0</td>\n      <td>0</td>\n      <td>1</td>\n      <td>0</td>\n      <td>0</td>\n      <td>0</td>\n      <td>5016864557</td>\n      <td>16</td>\n    </tr>\n    <tr>\n      <th>1</th>\n      <td>1075986</td>\n      <td>0.495575</td>\n      <td>JOSM</td>\n      <td>117</td>\n      <td>0</td>\n      <td>117</td>\n      <td>0</td>\n      <td>3.177526e-08</td>\n      <td>1</td>\n      <td>5.159954</td>\n      <td>...</td>\n      <td>0</td>\n      <td>0</td>\n      <td>0</td>\n      <td>0</td>\n      <td>0</td>\n      <td>0</td>\n      <td>0</td>\n      <td>0</td>\n      <td>5014238182</td>\n      <td>16</td>\n    </tr>\n    <tr>\n      <th>2</th>\n      <td>246941</td>\n      <td>61.000000</td>\n      <td>JOSM</td>\n      <td>0</td>\n      <td>0</td>\n      <td>0</td>\n      <td>0</td>\n      <td>0.000000e+00</td>\n      <td>1</td>\n      <td>1.646210</td>\n      <td>...</td>\n      <td>0</td>\n      <td>0</td>\n      <td>0</td>\n      <td>0</td>\n      <td>0</td>\n      <td>0</td>\n      <td>0</td>\n      <td>0</td>\n      <td>5011061704</td>\n      <td>16</td>\n    </tr>\n    <tr>\n      <th>3</th>\n      <td>3392</td>\n      <td>8.180723</td>\n      <td>Potlatch 2</td>\n      <td>0</td>\n      <td>-205</td>\n      <td>0</td>\n      <td>210</td>\n      <td>3.094182e-07</td>\n      <td>1</td>\n      <td>-115.261025</td>\n      <td>...</td>\n      <td>0</td>\n      <td>0</td>\n      <td>1</td>\n      <td>0</td>\n      <td>0</td>\n      <td>0</td>\n      <td>0</td>\n      <td>0</td>\n      <td>3184713878</td>\n      <td>16</td>\n    </tr>\n    <tr>\n      <th>4</th>\n      <td>1942179</td>\n      <td>2986.044444</td>\n      <td></td>\n      <td>0</td>\n      <td>0</td>\n      <td>0</td>\n      <td>0</td>\n      <td>0.000000e+00</td>\n      <td>1</td>\n      <td>17.466017</td>\n      <td>...</td>\n      <td>0</td>\n      <td>0</td>\n      <td>0</td>\n      <td>0</td>\n      <td>0</td>\n      <td>0</td>\n      <td>0</td>\n      <td>0</td>\n      <td>5020807494</td>\n      <td>16</td>\n    </tr>\n  </tbody>\n</table>\n<p>5 rows × 54 columns</p>\n</div>"
     },
     "execution_count": 7,
     "metadata": {},
     "output_type": "execute_result"
    }
   ],
   "source": [
    "X = features_df.drop('vandalism', axis=1).copy()\n",
    "X.head()"
   ],
   "metadata": {
    "collapsed": false,
    "ExecuteTime": {
     "end_time": "2024-10-28T17:04:06.158567600Z",
     "start_time": "2024-10-28T17:04:05.807356300Z"
    }
   },
   "id": "9feca52c8c7dbd38"
  },
  {
   "cell_type": "code",
   "execution_count": 8,
   "outputs": [
    {
     "data": {
      "text/plain": "0    False\n1     True\n2    False\n3     True\n4     True\nName: vandalism, dtype: bool"
     },
     "execution_count": 8,
     "metadata": {},
     "output_type": "execute_result"
    }
   ],
   "source": [
    "y = features_df['vandalism'].copy()\n",
    "y.head()"
   ],
   "metadata": {
    "collapsed": false,
    "ExecuteTime": {
     "end_time": "2024-10-28T17:04:06.159566600Z",
     "start_time": "2024-10-28T17:04:06.147460700Z"
    }
   },
   "id": "1a515c83cd3d9582"
  },
  {
   "cell_type": "code",
   "execution_count": 9,
   "outputs": [
    {
     "data": {
      "text/plain": "   user_id  user_edit_frequency  area_delta  length_delta  area  length  \\\n0  1020680             1.329399        1644          -216  1644       0   \n1  1075986             0.495575         117             0   117       0   \n2   246941            61.000000           0             0     0       0   \n3     3392             8.180723           0          -205     0     210   \n4  1942179          2986.044444           0             0     0       0   \n\n   bounding_box_size        xmax        xmin       ymax  ...  osm_type_way  \\\n0       5.671549e-07   16.862373   16.861237  45.186972  ...          True   \n1       3.177526e-08    5.159954    5.159741  48.772853  ...          True   \n2       0.000000e+00    1.646210    1.646210  45.822240  ...         False   \n3       3.094182e-07 -115.261025 -115.261189  36.145576  ...          True   \n4       0.000000e+00   17.466017   17.466017  48.908884  ...         False   \n\n   contribution_type_CREATED  contribution_type_DELETED  \\\n0                      False                      False   \n1                       True                      False   \n2                      False                      False   \n3                      False                      False   \n4                       True                      False   \n\n   contribution_type_GEOMETRY  contribution_type_NONE  contribution_type_TAG  \\\n0                       False                   False                  False   \n1                       False                   False                  False   \n2                       False                   False                   True   \n3                        True                   False                  False   \n4                       False                   False                  False   \n\n   contribution_type_TAG_GEOMETRY  status_deleted  status_history  \\\n0                            True           False            True   \n1                           False           False           False   \n2                           False           False           False   \n3                           False           False            True   \n4                           False           False            True   \n\n   status_latest  \n0          False  \n1           True  \n2           True  \n3          False  \n4          False  \n\n[5 rows x 587 columns]",
      "text/html": "<div>\n<style scoped>\n    .dataframe tbody tr th:only-of-type {\n        vertical-align: middle;\n    }\n\n    .dataframe tbody tr th {\n        vertical-align: top;\n    }\n\n    .dataframe thead th {\n        text-align: right;\n    }\n</style>\n<table border=\"1\" class=\"dataframe\">\n  <thead>\n    <tr style=\"text-align: right;\">\n      <th></th>\n      <th>user_id</th>\n      <th>user_edit_frequency</th>\n      <th>area_delta</th>\n      <th>length_delta</th>\n      <th>area</th>\n      <th>length</th>\n      <th>bounding_box_size</th>\n      <th>xmax</th>\n      <th>xmin</th>\n      <th>ymax</th>\n      <th>...</th>\n      <th>osm_type_way</th>\n      <th>contribution_type_CREATED</th>\n      <th>contribution_type_DELETED</th>\n      <th>contribution_type_GEOMETRY</th>\n      <th>contribution_type_NONE</th>\n      <th>contribution_type_TAG</th>\n      <th>contribution_type_TAG_GEOMETRY</th>\n      <th>status_deleted</th>\n      <th>status_history</th>\n      <th>status_latest</th>\n    </tr>\n  </thead>\n  <tbody>\n    <tr>\n      <th>0</th>\n      <td>1020680</td>\n      <td>1.329399</td>\n      <td>1644</td>\n      <td>-216</td>\n      <td>1644</td>\n      <td>0</td>\n      <td>5.671549e-07</td>\n      <td>16.862373</td>\n      <td>16.861237</td>\n      <td>45.186972</td>\n      <td>...</td>\n      <td>True</td>\n      <td>False</td>\n      <td>False</td>\n      <td>False</td>\n      <td>False</td>\n      <td>False</td>\n      <td>True</td>\n      <td>False</td>\n      <td>True</td>\n      <td>False</td>\n    </tr>\n    <tr>\n      <th>1</th>\n      <td>1075986</td>\n      <td>0.495575</td>\n      <td>117</td>\n      <td>0</td>\n      <td>117</td>\n      <td>0</td>\n      <td>3.177526e-08</td>\n      <td>5.159954</td>\n      <td>5.159741</td>\n      <td>48.772853</td>\n      <td>...</td>\n      <td>True</td>\n      <td>True</td>\n      <td>False</td>\n      <td>False</td>\n      <td>False</td>\n      <td>False</td>\n      <td>False</td>\n      <td>False</td>\n      <td>False</td>\n      <td>True</td>\n    </tr>\n    <tr>\n      <th>2</th>\n      <td>246941</td>\n      <td>61.000000</td>\n      <td>0</td>\n      <td>0</td>\n      <td>0</td>\n      <td>0</td>\n      <td>0.000000e+00</td>\n      <td>1.646210</td>\n      <td>1.646210</td>\n      <td>45.822240</td>\n      <td>...</td>\n      <td>False</td>\n      <td>False</td>\n      <td>False</td>\n      <td>False</td>\n      <td>False</td>\n      <td>True</td>\n      <td>False</td>\n      <td>False</td>\n      <td>False</td>\n      <td>True</td>\n    </tr>\n    <tr>\n      <th>3</th>\n      <td>3392</td>\n      <td>8.180723</td>\n      <td>0</td>\n      <td>-205</td>\n      <td>0</td>\n      <td>210</td>\n      <td>3.094182e-07</td>\n      <td>-115.261025</td>\n      <td>-115.261189</td>\n      <td>36.145576</td>\n      <td>...</td>\n      <td>True</td>\n      <td>False</td>\n      <td>False</td>\n      <td>True</td>\n      <td>False</td>\n      <td>False</td>\n      <td>False</td>\n      <td>False</td>\n      <td>True</td>\n      <td>False</td>\n    </tr>\n    <tr>\n      <th>4</th>\n      <td>1942179</td>\n      <td>2986.044444</td>\n      <td>0</td>\n      <td>0</td>\n      <td>0</td>\n      <td>0</td>\n      <td>0.000000e+00</td>\n      <td>17.466017</td>\n      <td>17.466017</td>\n      <td>48.908884</td>\n      <td>...</td>\n      <td>False</td>\n      <td>True</td>\n      <td>False</td>\n      <td>False</td>\n      <td>False</td>\n      <td>False</td>\n      <td>False</td>\n      <td>False</td>\n      <td>True</td>\n      <td>False</td>\n    </tr>\n  </tbody>\n</table>\n<p>5 rows × 587 columns</p>\n</div>"
     },
     "execution_count": 9,
     "metadata": {},
     "output_type": "execute_result"
    }
   ],
   "source": [
    "X_encoded = pd.get_dummies(X, columns=['source_reliability',\n",
    "                                       'historical_validity',\n",
    "                                       'country_count',\n",
    "                                       'population_changed',\n",
    "                                       'boundary_changed',\n",
    "                                       'name_changed',\n",
    "                                       'tags_modified',\n",
    "                                       'tags_added',\n",
    "                                       'tags_removed',\n",
    "                                       'edit_time_of_day',\n",
    "                                       'geometry_valid',\n",
    "                                       'editor_used',\n",
    "                                       'osm_type',\n",
    "                                       'contribution_type',\n",
    "                                       'status'])\n",
    "X_encoded.head()"
   ],
   "metadata": {
    "collapsed": false,
    "ExecuteTime": {
     "end_time": "2024-10-28T17:04:06.848090700Z",
     "start_time": "2024-10-28T17:04:06.155558700Z"
    }
   },
   "id": "6da48135f8a0b83b"
  },
  {
   "cell_type": "code",
   "execution_count": 10,
   "outputs": [],
   "source": [
    "assert X_encoded.dtypes.__contains__('object') == False"
   ],
   "metadata": {
    "collapsed": false,
    "ExecuteTime": {
     "end_time": "2024-10-28T17:04:06.849092100Z",
     "start_time": "2024-10-28T17:04:06.841009200Z"
    }
   },
   "id": "82cae71ac507631b"
  },
  {
   "cell_type": "code",
   "execution_count": 11,
   "outputs": [
    {
     "name": "stderr",
     "output_type": "stream",
     "text": [
      "C:\\Users\\saise\\AppData\\Local\\Temp\\ipykernel_31544\\3107921932.py:2: FutureWarning: Downcasting behavior in `replace` is deprecated and will be removed in a future version. To retain the old behavior, explicitly call `result.infer_objects(copy=False)`. To opt-in to the future behavior, set `pd.set_option('future.no_silent_downcasting', True)`\n",
      "  y = y.replace(False, 0)\n"
     ]
    }
   ],
   "source": [
    "y = y.replace(True, 1)\n",
    "y = y.replace(False, 0)"
   ],
   "metadata": {
    "collapsed": false,
    "ExecuteTime": {
     "end_time": "2024-10-28T17:04:07.016914600Z",
     "start_time": "2024-10-28T17:04:06.847091700Z"
    }
   },
   "id": "641c26957721d7bf"
  },
  {
   "cell_type": "code",
   "execution_count": 12,
   "outputs": [
    {
     "data": {
      "text/plain": "dtype('int64')"
     },
     "execution_count": 12,
     "metadata": {},
     "output_type": "execute_result"
    }
   ],
   "source": [
    "y.dtype"
   ],
   "metadata": {
    "collapsed": false,
    "ExecuteTime": {
     "end_time": "2024-10-28T17:04:07.017916200Z",
     "start_time": "2024-10-28T17:04:06.999494Z"
    }
   },
   "id": "aea3ef084a567421"
  },
  {
   "cell_type": "code",
   "execution_count": 13,
   "outputs": [
    {
     "data": {
      "text/plain": "0.6621638875411762"
     },
     "execution_count": 13,
     "metadata": {},
     "output_type": "execute_result"
    }
   ],
   "source": [
    "sum(y) / len(y)"
   ],
   "metadata": {
    "collapsed": false,
    "ExecuteTime": {
     "end_time": "2024-10-28T17:04:07.065461800Z",
     "start_time": "2024-10-28T17:04:07.004916300Z"
    }
   },
   "id": "27df8089deab0f28"
  },
  {
   "cell_type": "code",
   "execution_count": 14,
   "outputs": [],
   "source": [
    "X_train, X_test, y_train, y_test = train_test_split(X_encoded, y, test_size=0.4, random_state=42, stratify=y)"
   ],
   "metadata": {
    "collapsed": false,
    "ExecuteTime": {
     "end_time": "2024-10-28T17:04:07.949475600Z",
     "start_time": "2024-10-28T17:04:07.034048Z"
    }
   },
   "id": "c7ac657f7818a200"
  },
  {
   "cell_type": "code",
   "execution_count": 15,
   "outputs": [
    {
     "name": "stdout",
     "output_type": "stream",
     "text": [
      "               Number of Samples  Number of Features\n",
      "X_train shape             281959                 587\n",
      "X_test shape              187973                 587\n",
      "y_train shape             281959              281959\n",
      "y_test shape              187973              187973\n"
     ]
    }
   ],
   "source": [
    "# Get the shapes of the datasets\n",
    "shapes = {\n",
    "    'X_train shape': X_train.shape,\n",
    "    'X_test shape': X_test.shape,\n",
    "    'y_train shape': y_train.shape,\n",
    "    'y_test shape': y_test.shape\n",
    "}\n",
    "\n",
    "# Convert shapes to DataFrame for better display\n",
    "shapes_df = pd.DataFrame(shapes, index=['Number of Samples', 'Number of Features']).T\n",
    "print(shapes_df)"
   ],
   "metadata": {
    "collapsed": false,
    "ExecuteTime": {
     "end_time": "2024-10-28T17:04:07.966600400Z",
     "start_time": "2024-10-28T17:04:07.944925600Z"
    }
   },
   "id": "cbe6642ebbf4df9e"
  },
  {
   "cell_type": "code",
   "execution_count": 16,
   "outputs": [
    {
     "name": "stdout",
     "output_type": "stream",
     "text": [
      "Train Set Statistics:\n",
      "Total: 281959\n",
      "Vandalism: 186703\n",
      "Non-Vandalism: 95256\n",
      "\n",
      "Test Set Statistics:\n",
      "Total: 187973\n",
      "Vandalism: 124469\n",
      "Non-Vandalism: 63504\n"
     ]
    }
   ],
   "source": [
    "# 1. Calculate the total number of samples in train and test sets\n",
    "total_train = len(y_train)\n",
    "total_test = len(y_test)\n",
    "\n",
    "# 2. Calculate the number of vandalism (assuming 'vandalism' is labeled as 1)\n",
    "vandalism_train = sum(y_train)\n",
    "vandalism_test = sum(y_test)\n",
    "\n",
    "# 3. Calculate the number of non-vandalism (assuming 'non-vandalism' is labeled as 0)\n",
    "non_vandalism_train = total_train - vandalism_train\n",
    "non_vandalism_test = total_test - vandalism_test\n",
    "\n",
    "# 4. Print the statistics\n",
    "print(f\"Train Set Statistics:\\n\"\n",
    "      f\"Total: {total_train}\\n\"\n",
    "      f\"Vandalism: {vandalism_train}\\n\"\n",
    "      f\"Non-Vandalism: {non_vandalism_train}\\n\")\n",
    "\n",
    "print(f\"Test Set Statistics:\\n\"\n",
    "      f\"Total: {total_test}\\n\"\n",
    "      f\"Vandalism: {vandalism_test}\\n\"\n",
    "      f\"Non-Vandalism: {non_vandalism_test}\\n\")\n"
   ],
   "metadata": {
    "collapsed": false,
    "ExecuteTime": {
     "end_time": "2024-10-28T17:04:08.042349300Z",
     "start_time": "2024-10-28T17:04:07.951522Z"
    }
   },
   "id": "b3a12a947888fb05"
  },
  {
   "cell_type": "code",
   "execution_count": 17,
   "outputs": [
    {
     "data": {
      "text/plain": "0.6621636479062559"
     },
     "execution_count": 17,
     "metadata": {},
     "output_type": "execute_result"
    }
   ],
   "source": [
    "sum(y_train)/len(y_train)"
   ],
   "metadata": {
    "collapsed": false,
    "ExecuteTime": {
     "end_time": "2024-10-28T17:04:08.050348900Z",
     "start_time": "2024-10-28T17:04:07.981017Z"
    }
   },
   "id": "b44319d4f4b10c37"
  },
  {
   "cell_type": "code",
   "execution_count": 18,
   "outputs": [
    {
     "data": {
      "text/plain": "0.6621642469929192"
     },
     "execution_count": 18,
     "metadata": {},
     "output_type": "execute_result"
    }
   ],
   "source": [
    "sum(y_test)/len(y_test)"
   ],
   "metadata": {
    "collapsed": false,
    "ExecuteTime": {
     "end_time": "2024-10-28T17:04:08.050348900Z",
     "start_time": "2024-10-28T17:04:07.998855400Z"
    }
   },
   "id": "bbc18b49297503de"
  },
  {
   "cell_type": "code",
   "execution_count": 19,
   "outputs": [],
   "source": [
    "# Define the file path for the hyperparameters JSON file\n",
    "hyperparams_file = '../saved_parameters/best_hyperparameters.json'\n"
   ],
   "metadata": {
    "collapsed": false,
    "ExecuteTime": {
     "end_time": "2024-10-28T17:04:08.050348900Z",
     "start_time": "2024-10-28T17:04:08.019960400Z"
    }
   },
   "id": "b3b0b663a868dcae"
  },
  {
   "cell_type": "code",
   "execution_count": 20,
   "outputs": [],
   "source": [
    "from sklearn.model_selection import RandomizedSearchCV\n",
    "import xgboost as xgb\n",
    "import os\n",
    "\n",
    "# Check if the hyperparameters file exists\n",
    "if not os.path.exists(hyperparams_file):\n",
    "    # Define the parameter grid\n",
    "    param_grid = {\n",
    "        'learning_rate': [0.01, 0.05, 0.1, 0.2, 0.3],\n",
    "        'max_depth': [3, 5, 7, 9],\n",
    "        'subsample': [0.6, 0.7, 0.8, 0.9, 1.0],\n",
    "        'colsample_bytree': [0.6, 0.7, 0.8, 0.9, 1.0],\n",
    "        'lambda': [0, 1, 3, 5, 10],\n",
    "        'alpha': [0, 1, 2, 3, 5],\n",
    "        'min_child_weight': [1, 3, 5, 7, 10],\n",
    "        'gamma': [0, 0.1, 0.3, 0.5, 1, 2, 3],\n",
    "        'n_estimators': [50, 60, 80, 100]  # Number of boosting rounds\n",
    "    }\n",
    "\n",
    "    # Initialize the XGBoost model\n",
    "    xgb_model = xgb.XGBClassifier(\n",
    "        objective='binary:logistic',\n",
    "        eval_metric='aucpr',\n",
    "        use_label_encoder=False\n",
    "    )\n",
    "\n",
    "    # Set up RandomizedSearchCV\n",
    "    random_search = RandomizedSearchCV(\n",
    "        estimator=xgb_model,\n",
    "        param_distributions=param_grid,\n",
    "        n_iter=50,  # Number of different hyperparameter combinations to try\n",
    "        scoring='roc_auc',  # AUC as the scoring metric\n",
    "        cv=5,  # 5-fold cross-validation\n",
    "        verbose=2,\n",
    "        n_jobs=-1,  # Use all available cores\n",
    "        random_state=42\n",
    "    )\n",
    "\n",
    "    # Run the randomized search\n",
    "    random_search.fit(X_train, y_train)\n",
    "\n",
    "    # Print the best parameters and best score\n",
    "    print(\"Best Hyperparameters:\", random_search.best_params_)\n",
    "    print(\"Best AUC Score:\", random_search.best_score_)\n"
   ],
   "metadata": {
    "collapsed": false,
    "ExecuteTime": {
     "end_time": "2024-10-28T17:04:08.075819Z",
     "start_time": "2024-10-28T17:04:08.028368400Z"
    }
   },
   "id": "a95ed7d8fb3c7bcb"
  },
  {
   "cell_type": "code",
   "execution_count": 21,
   "outputs": [
    {
     "name": "stdout",
     "output_type": "stream",
     "text": [
      "Best Hyperparameters loaded from 'best_hyperparameters.json': {'subsample': 0.9, 'n_estimators': 100, 'min_child_weight': 5, 'max_depth': 9, 'learning_rate': 0.3, 'lambda': 0, 'gamma': 2, 'colsample_bytree': 0.7, 'alpha': 0}\n"
     ]
    }
   ],
   "source": [
    "import json\n",
    "import os\n",
    "\n",
    "# Define the file path for the hyperparameters JSON file\n",
    "hyperparams_file = '../saved_parameters/best_hyperparameters.json'\n",
    "\n",
    "# Check if the hyperparameters file exists\n",
    "if os.path.exists(hyperparams_file):\n",
    "    # If it exists, load the best hyperparameters from the file\n",
    "    with open(hyperparams_file, 'r') as f:\n",
    "        best_params = json.load(f)\n",
    "    print(\"Best Hyperparameters loaded from 'best_hyperparameters.json':\", best_params)\n",
    "else:\n",
    "    # If it does not exist, retrieve the best hyperparameters from RandomizedSearchCV\n",
    "    best_params = random_search.best_params_\n",
    "    print(\"Best Hyperparameters:\", best_params)\n",
    "\n",
    "    # Save the Best Hyperparameters to a JSON file\n",
    "    with open(hyperparams_file, 'w') as f:\n",
    "        json.dump(best_params, f)\n",
    "\n",
    "    print(\"Best hyperparameters saved to 'best_hyperparameters.json'\")\n"
   ],
   "metadata": {
    "collapsed": false,
    "ExecuteTime": {
     "end_time": "2024-10-28T17:04:08.122011600Z",
     "start_time": "2024-10-28T17:04:08.074809800Z"
    }
   },
   "id": "2c7578e191eb3a02"
  },
  {
   "cell_type": "code",
   "execution_count": 22,
   "outputs": [
    {
     "name": "stderr",
     "output_type": "stream",
     "text": [
      "C:\\Users\\saise\\PycharmProjects\\vandalism_detection_osm\\venv\\Lib\\site-packages\\xgboost\\core.py:158: UserWarning: [18:04:12] WARNING: C:\\buildkite-agent\\builds\\buildkite-windows-cpu-autoscaling-group-i-0015a694724fa8361-1\\xgboost\\xgboost-ci-windows\\src\\learner.cc:740: \n",
      "Parameters: { \"use_label_encoder\" } are not used.\n",
      "\n",
      "  warnings.warn(smsg, UserWarning)\n"
     ]
    },
    {
     "data": {
      "text/plain": "XGBClassifier(alpha=0, base_score=None, booster=None, callbacks=None,\n              colsample_bylevel=None, colsample_bynode=None,\n              colsample_bytree=0.7, device=None, early_stopping_rounds=None,\n              enable_categorical=False, eval_metric='aucpr', feature_types=None,\n              gamma=2, grow_policy=None, importance_type=None,\n              interaction_constraints=None, lambda=0, learning_rate=0.3,\n              max_bin=None, max_cat_threshold=None, max_cat_to_onehot=None,\n              max_delta_step=None, max_depth=9, max_leaves=None,\n              min_child_weight=5, missing=nan, monotone_constraints=None,\n              multi_strategy=None, n_estimators=20, n_jobs=None, ...)",
      "text/html": "<style>#sk-container-id-1 {\n  /* Definition of color scheme common for light and dark mode */\n  --sklearn-color-text: black;\n  --sklearn-color-line: gray;\n  /* Definition of color scheme for unfitted estimators */\n  --sklearn-color-unfitted-level-0: #fff5e6;\n  --sklearn-color-unfitted-level-1: #f6e4d2;\n  --sklearn-color-unfitted-level-2: #ffe0b3;\n  --sklearn-color-unfitted-level-3: chocolate;\n  /* Definition of color scheme for fitted estimators */\n  --sklearn-color-fitted-level-0: #f0f8ff;\n  --sklearn-color-fitted-level-1: #d4ebff;\n  --sklearn-color-fitted-level-2: #b3dbfd;\n  --sklearn-color-fitted-level-3: cornflowerblue;\n\n  /* Specific color for light theme */\n  --sklearn-color-text-on-default-background: var(--sg-text-color, var(--theme-code-foreground, var(--jp-content-font-color1, black)));\n  --sklearn-color-background: var(--sg-background-color, var(--theme-background, var(--jp-layout-color0, white)));\n  --sklearn-color-border-box: var(--sg-text-color, var(--theme-code-foreground, var(--jp-content-font-color1, black)));\n  --sklearn-color-icon: #696969;\n\n  @media (prefers-color-scheme: dark) {\n    /* Redefinition of color scheme for dark theme */\n    --sklearn-color-text-on-default-background: var(--sg-text-color, var(--theme-code-foreground, var(--jp-content-font-color1, white)));\n    --sklearn-color-background: var(--sg-background-color, var(--theme-background, var(--jp-layout-color0, #111)));\n    --sklearn-color-border-box: var(--sg-text-color, var(--theme-code-foreground, var(--jp-content-font-color1, white)));\n    --sklearn-color-icon: #878787;\n  }\n}\n\n#sk-container-id-1 {\n  color: var(--sklearn-color-text);\n}\n\n#sk-container-id-1 pre {\n  padding: 0;\n}\n\n#sk-container-id-1 input.sk-hidden--visually {\n  border: 0;\n  clip: rect(1px 1px 1px 1px);\n  clip: rect(1px, 1px, 1px, 1px);\n  height: 1px;\n  margin: -1px;\n  overflow: hidden;\n  padding: 0;\n  position: absolute;\n  width: 1px;\n}\n\n#sk-container-id-1 div.sk-dashed-wrapped {\n  border: 1px dashed var(--sklearn-color-line);\n  margin: 0 0.4em 0.5em 0.4em;\n  box-sizing: border-box;\n  padding-bottom: 0.4em;\n  background-color: var(--sklearn-color-background);\n}\n\n#sk-container-id-1 div.sk-container {\n  /* jupyter's `normalize.less` sets `[hidden] { display: none; }`\n     but bootstrap.min.css set `[hidden] { display: none !important; }`\n     so we also need the `!important` here to be able to override the\n     default hidden behavior on the sphinx rendered scikit-learn.org.\n     See: https://github.com/scikit-learn/scikit-learn/issues/21755 */\n  display: inline-block !important;\n  position: relative;\n}\n\n#sk-container-id-1 div.sk-text-repr-fallback {\n  display: none;\n}\n\ndiv.sk-parallel-item,\ndiv.sk-serial,\ndiv.sk-item {\n  /* draw centered vertical line to link estimators */\n  background-image: linear-gradient(var(--sklearn-color-text-on-default-background), var(--sklearn-color-text-on-default-background));\n  background-size: 2px 100%;\n  background-repeat: no-repeat;\n  background-position: center center;\n}\n\n/* Parallel-specific style estimator block */\n\n#sk-container-id-1 div.sk-parallel-item::after {\n  content: \"\";\n  width: 100%;\n  border-bottom: 2px solid var(--sklearn-color-text-on-default-background);\n  flex-grow: 1;\n}\n\n#sk-container-id-1 div.sk-parallel {\n  display: flex;\n  align-items: stretch;\n  justify-content: center;\n  background-color: var(--sklearn-color-background);\n  position: relative;\n}\n\n#sk-container-id-1 div.sk-parallel-item {\n  display: flex;\n  flex-direction: column;\n}\n\n#sk-container-id-1 div.sk-parallel-item:first-child::after {\n  align-self: flex-end;\n  width: 50%;\n}\n\n#sk-container-id-1 div.sk-parallel-item:last-child::after {\n  align-self: flex-start;\n  width: 50%;\n}\n\n#sk-container-id-1 div.sk-parallel-item:only-child::after {\n  width: 0;\n}\n\n/* Serial-specific style estimator block */\n\n#sk-container-id-1 div.sk-serial {\n  display: flex;\n  flex-direction: column;\n  align-items: center;\n  background-color: var(--sklearn-color-background);\n  padding-right: 1em;\n  padding-left: 1em;\n}\n\n\n/* Toggleable style: style used for estimator/Pipeline/ColumnTransformer box that is\nclickable and can be expanded/collapsed.\n- Pipeline and ColumnTransformer use this feature and define the default style\n- Estimators will overwrite some part of the style using the `sk-estimator` class\n*/\n\n/* Pipeline and ColumnTransformer style (default) */\n\n#sk-container-id-1 div.sk-toggleable {\n  /* Default theme specific background. It is overwritten whether we have a\n  specific estimator or a Pipeline/ColumnTransformer */\n  background-color: var(--sklearn-color-background);\n}\n\n/* Toggleable label */\n#sk-container-id-1 label.sk-toggleable__label {\n  cursor: pointer;\n  display: block;\n  width: 100%;\n  margin-bottom: 0;\n  padding: 0.5em;\n  box-sizing: border-box;\n  text-align: center;\n}\n\n#sk-container-id-1 label.sk-toggleable__label-arrow:before {\n  /* Arrow on the left of the label */\n  content: \"▸\";\n  float: left;\n  margin-right: 0.25em;\n  color: var(--sklearn-color-icon);\n}\n\n#sk-container-id-1 label.sk-toggleable__label-arrow:hover:before {\n  color: var(--sklearn-color-text);\n}\n\n/* Toggleable content - dropdown */\n\n#sk-container-id-1 div.sk-toggleable__content {\n  max-height: 0;\n  max-width: 0;\n  overflow: hidden;\n  text-align: left;\n  /* unfitted */\n  background-color: var(--sklearn-color-unfitted-level-0);\n}\n\n#sk-container-id-1 div.sk-toggleable__content.fitted {\n  /* fitted */\n  background-color: var(--sklearn-color-fitted-level-0);\n}\n\n#sk-container-id-1 div.sk-toggleable__content pre {\n  margin: 0.2em;\n  border-radius: 0.25em;\n  color: var(--sklearn-color-text);\n  /* unfitted */\n  background-color: var(--sklearn-color-unfitted-level-0);\n}\n\n#sk-container-id-1 div.sk-toggleable__content.fitted pre {\n  /* unfitted */\n  background-color: var(--sklearn-color-fitted-level-0);\n}\n\n#sk-container-id-1 input.sk-toggleable__control:checked~div.sk-toggleable__content {\n  /* Expand drop-down */\n  max-height: 200px;\n  max-width: 100%;\n  overflow: auto;\n}\n\n#sk-container-id-1 input.sk-toggleable__control:checked~label.sk-toggleable__label-arrow:before {\n  content: \"▾\";\n}\n\n/* Pipeline/ColumnTransformer-specific style */\n\n#sk-container-id-1 div.sk-label input.sk-toggleable__control:checked~label.sk-toggleable__label {\n  color: var(--sklearn-color-text);\n  background-color: var(--sklearn-color-unfitted-level-2);\n}\n\n#sk-container-id-1 div.sk-label.fitted input.sk-toggleable__control:checked~label.sk-toggleable__label {\n  background-color: var(--sklearn-color-fitted-level-2);\n}\n\n/* Estimator-specific style */\n\n/* Colorize estimator box */\n#sk-container-id-1 div.sk-estimator input.sk-toggleable__control:checked~label.sk-toggleable__label {\n  /* unfitted */\n  background-color: var(--sklearn-color-unfitted-level-2);\n}\n\n#sk-container-id-1 div.sk-estimator.fitted input.sk-toggleable__control:checked~label.sk-toggleable__label {\n  /* fitted */\n  background-color: var(--sklearn-color-fitted-level-2);\n}\n\n#sk-container-id-1 div.sk-label label.sk-toggleable__label,\n#sk-container-id-1 div.sk-label label {\n  /* The background is the default theme color */\n  color: var(--sklearn-color-text-on-default-background);\n}\n\n/* On hover, darken the color of the background */\n#sk-container-id-1 div.sk-label:hover label.sk-toggleable__label {\n  color: var(--sklearn-color-text);\n  background-color: var(--sklearn-color-unfitted-level-2);\n}\n\n/* Label box, darken color on hover, fitted */\n#sk-container-id-1 div.sk-label.fitted:hover label.sk-toggleable__label.fitted {\n  color: var(--sklearn-color-text);\n  background-color: var(--sklearn-color-fitted-level-2);\n}\n\n/* Estimator label */\n\n#sk-container-id-1 div.sk-label label {\n  font-family: monospace;\n  font-weight: bold;\n  display: inline-block;\n  line-height: 1.2em;\n}\n\n#sk-container-id-1 div.sk-label-container {\n  text-align: center;\n}\n\n/* Estimator-specific */\n#sk-container-id-1 div.sk-estimator {\n  font-family: monospace;\n  border: 1px dotted var(--sklearn-color-border-box);\n  border-radius: 0.25em;\n  box-sizing: border-box;\n  margin-bottom: 0.5em;\n  /* unfitted */\n  background-color: var(--sklearn-color-unfitted-level-0);\n}\n\n#sk-container-id-1 div.sk-estimator.fitted {\n  /* fitted */\n  background-color: var(--sklearn-color-fitted-level-0);\n}\n\n/* on hover */\n#sk-container-id-1 div.sk-estimator:hover {\n  /* unfitted */\n  background-color: var(--sklearn-color-unfitted-level-2);\n}\n\n#sk-container-id-1 div.sk-estimator.fitted:hover {\n  /* fitted */\n  background-color: var(--sklearn-color-fitted-level-2);\n}\n\n/* Specification for estimator info (e.g. \"i\" and \"?\") */\n\n/* Common style for \"i\" and \"?\" */\n\n.sk-estimator-doc-link,\na:link.sk-estimator-doc-link,\na:visited.sk-estimator-doc-link {\n  float: right;\n  font-size: smaller;\n  line-height: 1em;\n  font-family: monospace;\n  background-color: var(--sklearn-color-background);\n  border-radius: 1em;\n  height: 1em;\n  width: 1em;\n  text-decoration: none !important;\n  margin-left: 1ex;\n  /* unfitted */\n  border: var(--sklearn-color-unfitted-level-1) 1pt solid;\n  color: var(--sklearn-color-unfitted-level-1);\n}\n\n.sk-estimator-doc-link.fitted,\na:link.sk-estimator-doc-link.fitted,\na:visited.sk-estimator-doc-link.fitted {\n  /* fitted */\n  border: var(--sklearn-color-fitted-level-1) 1pt solid;\n  color: var(--sklearn-color-fitted-level-1);\n}\n\n/* On hover */\ndiv.sk-estimator:hover .sk-estimator-doc-link:hover,\n.sk-estimator-doc-link:hover,\ndiv.sk-label-container:hover .sk-estimator-doc-link:hover,\n.sk-estimator-doc-link:hover {\n  /* unfitted */\n  background-color: var(--sklearn-color-unfitted-level-3);\n  color: var(--sklearn-color-background);\n  text-decoration: none;\n}\n\ndiv.sk-estimator.fitted:hover .sk-estimator-doc-link.fitted:hover,\n.sk-estimator-doc-link.fitted:hover,\ndiv.sk-label-container:hover .sk-estimator-doc-link.fitted:hover,\n.sk-estimator-doc-link.fitted:hover {\n  /* fitted */\n  background-color: var(--sklearn-color-fitted-level-3);\n  color: var(--sklearn-color-background);\n  text-decoration: none;\n}\n\n/* Span, style for the box shown on hovering the info icon */\n.sk-estimator-doc-link span {\n  display: none;\n  z-index: 9999;\n  position: relative;\n  font-weight: normal;\n  right: .2ex;\n  padding: .5ex;\n  margin: .5ex;\n  width: min-content;\n  min-width: 20ex;\n  max-width: 50ex;\n  color: var(--sklearn-color-text);\n  box-shadow: 2pt 2pt 4pt #999;\n  /* unfitted */\n  background: var(--sklearn-color-unfitted-level-0);\n  border: .5pt solid var(--sklearn-color-unfitted-level-3);\n}\n\n.sk-estimator-doc-link.fitted span {\n  /* fitted */\n  background: var(--sklearn-color-fitted-level-0);\n  border: var(--sklearn-color-fitted-level-3);\n}\n\n.sk-estimator-doc-link:hover span {\n  display: block;\n}\n\n/* \"?\"-specific style due to the `<a>` HTML tag */\n\n#sk-container-id-1 a.estimator_doc_link {\n  float: right;\n  font-size: 1rem;\n  line-height: 1em;\n  font-family: monospace;\n  background-color: var(--sklearn-color-background);\n  border-radius: 1rem;\n  height: 1rem;\n  width: 1rem;\n  text-decoration: none;\n  /* unfitted */\n  color: var(--sklearn-color-unfitted-level-1);\n  border: var(--sklearn-color-unfitted-level-1) 1pt solid;\n}\n\n#sk-container-id-1 a.estimator_doc_link.fitted {\n  /* fitted */\n  border: var(--sklearn-color-fitted-level-1) 1pt solid;\n  color: var(--sklearn-color-fitted-level-1);\n}\n\n/* On hover */\n#sk-container-id-1 a.estimator_doc_link:hover {\n  /* unfitted */\n  background-color: var(--sklearn-color-unfitted-level-3);\n  color: var(--sklearn-color-background);\n  text-decoration: none;\n}\n\n#sk-container-id-1 a.estimator_doc_link.fitted:hover {\n  /* fitted */\n  background-color: var(--sklearn-color-fitted-level-3);\n}\n</style><div id=\"sk-container-id-1\" class=\"sk-top-container\"><div class=\"sk-text-repr-fallback\"><pre>XGBClassifier(alpha=0, base_score=None, booster=None, callbacks=None,\n              colsample_bylevel=None, colsample_bynode=None,\n              colsample_bytree=0.7, device=None, early_stopping_rounds=None,\n              enable_categorical=False, eval_metric=&#x27;aucpr&#x27;, feature_types=None,\n              gamma=2, grow_policy=None, importance_type=None,\n              interaction_constraints=None, lambda=0, learning_rate=0.3,\n              max_bin=None, max_cat_threshold=None, max_cat_to_onehot=None,\n              max_delta_step=None, max_depth=9, max_leaves=None,\n              min_child_weight=5, missing=nan, monotone_constraints=None,\n              multi_strategy=None, n_estimators=20, n_jobs=None, ...)</pre><b>In a Jupyter environment, please rerun this cell to show the HTML representation or trust the notebook. <br />On GitHub, the HTML representation is unable to render, please try loading this page with nbviewer.org.</b></div><div class=\"sk-container\" hidden><div class=\"sk-item\"><div class=\"sk-estimator fitted sk-toggleable\"><input class=\"sk-toggleable__control sk-hidden--visually\" id=\"sk-estimator-id-1\" type=\"checkbox\" checked><label for=\"sk-estimator-id-1\" class=\"sk-toggleable__label fitted sk-toggleable__label-arrow fitted\">&nbsp;XGBClassifier<span class=\"sk-estimator-doc-link fitted\">i<span>Fitted</span></span></label><div class=\"sk-toggleable__content fitted\"><pre>XGBClassifier(alpha=0, base_score=None, booster=None, callbacks=None,\n              colsample_bylevel=None, colsample_bynode=None,\n              colsample_bytree=0.7, device=None, early_stopping_rounds=None,\n              enable_categorical=False, eval_metric=&#x27;aucpr&#x27;, feature_types=None,\n              gamma=2, grow_policy=None, importance_type=None,\n              interaction_constraints=None, lambda=0, learning_rate=0.3,\n              max_bin=None, max_cat_threshold=None, max_cat_to_onehot=None,\n              max_delta_step=None, max_depth=9, max_leaves=None,\n              min_child_weight=5, missing=nan, monotone_constraints=None,\n              multi_strategy=None, n_estimators=20, n_jobs=None, ...)</pre></div> </div></div></div></div>"
     },
     "execution_count": 22,
     "metadata": {},
     "output_type": "execute_result"
    }
   ],
   "source": [
    "import xgboost as xgb\n",
    "\n",
    "import json\n",
    "\n",
    "with open('../saved_parameters/best_hyperparameters.json', 'r') as f:\n",
    "    best_params = json.load(f)\n",
    "\n",
    "best_params['n_estimators'] = 20\n",
    "# 2. Train the Final Model on the Full Training Data\n",
    "final_model = xgb.XGBClassifier(\n",
    "    objective='binary:logistic',\n",
    "    eval_metric='aucpr',\n",
    "    use_label_encoder=False,\n",
    "    **best_params  # Set the best hyperparameters here\n",
    ")\n",
    "# Define evaluation sets (train and validation data)\n",
    "eval_set = [(X_train, y_train), (X_test, y_test)]\n",
    "\n",
    "# Fit the model and track evaluation metrics\n",
    "final_model.fit(X_train, y_train, eval_set=eval_set, verbose=False)\n",
    "\n"
   ],
   "metadata": {
    "collapsed": false,
    "ExecuteTime": {
     "end_time": "2024-10-28T17:04:18.337026700Z",
     "start_time": "2024-10-28T17:04:08.082011900Z"
    }
   },
   "id": "9a886ccf7c947403"
  },
  {
   "cell_type": "code",
   "execution_count": 38,
   "outputs": [
    {
     "name": "stdout",
     "output_type": "stream",
     "text": [
      "Train Set Evaluation\n",
      "Accuracy: 0.9833770158072628\n",
      "AUC-ROC: 0.9983897048487378\n",
      "Classification Report (Train):\n",
      "               precision    recall  f1-score   support\n",
      "\n",
      "           0       0.97      0.98      0.98     95256\n",
      "           1       0.99      0.99      0.99    186703\n",
      "\n",
      "    accuracy                           0.98    281959\n",
      "   macro avg       0.98      0.98      0.98    281959\n",
      "weighted avg       0.98      0.98      0.98    281959\n",
      "\n",
      "\n",
      "Test Set Evaluation\n",
      "Accuracy: 0.9812792262718582\n",
      "AUC-ROC: 0.9980918376891137\n",
      "Classification Report (Test):\n",
      "               precision    recall  f1-score   support\n",
      "\n",
      "           0       0.97      0.98      0.97     63504\n",
      "           1       0.99      0.98      0.99    124469\n",
      "\n",
      "    accuracy                           0.98    187973\n",
      "   macro avg       0.98      0.98      0.98    187973\n",
      "weighted avg       0.98      0.98      0.98    187973\n"
     ]
    }
   ],
   "source": [
    "# 1. Import necessary libraries for metrics\n",
    "from sklearn.metrics import classification_report, accuracy_score, roc_auc_score, confusion_matrix, average_precision_score\n",
    "\n",
    "# 2. Make predictions on both the train and test sets\n",
    "y_train_pred = final_model.predict(X_train)\n",
    "y_test_pred = final_model.predict(X_test)\n",
    "\n",
    "# 3. Compute predicted probabilities for AUC and Precision-Recall\n",
    "y_train_prob = final_model.predict_proba(X_train)[:, 1]\n",
    "y_test_prob = final_model.predict_proba(X_test)[:, 1]  # This is used for ROC-AUC\n",
    "y_test_pred_proba = final_model.predict_proba(X_test)[:, 1]  # Use this for AUC-PR\n",
    "\n",
    "# 4. Calculate performance metrics for Train Set\n",
    "print(\"Train Set Evaluation\")\n",
    "print(\"Accuracy:\", accuracy_score(y_train, y_train_pred))\n",
    "print(\"AUC-ROC:\", roc_auc_score(y_train, y_train_prob))\n",
    "print(\"Classification Report (Train):\\n\", classification_report(y_train, y_train_pred))\n",
    "\n",
    "# 5. Calculate performance metrics for Test Set\n",
    "print(\"\\nTest Set Evaluation\")\n",
    "print(\"Accuracy:\", accuracy_score(y_test, y_test_pred))\n",
    "print(\"AUC-ROC:\", roc_auc_score(y_test, y_test_prob))\n",
    "print(\"Classification Report (Test):\\n\", classification_report(y_test, y_test_pred))\n"
   ],
   "metadata": {
    "collapsed": false,
    "ExecuteTime": {
     "end_time": "2024-10-28T17:15:39.054062400Z",
     "start_time": "2024-10-28T17:15:34.916062700Z"
    }
   },
   "id": "922ae4b1e26c0c2c"
  },
  {
   "cell_type": "code",
   "execution_count": 36,
   "outputs": [],
   "source": [
    "# 3. Make Predictions on the Test Set\n",
    "y_pred = y_test_pred\n",
    "y_pred_proba = final_model.predict_proba(X_test)[:, 1]  # Get the probabilities for positive class\n"
   ],
   "metadata": {
    "collapsed": false,
    "ExecuteTime": {
     "end_time": "2024-10-28T17:14:36.180875500Z",
     "start_time": "2024-10-28T17:14:35.490248400Z"
    }
   },
   "id": "d66338cd52ea4702"
  },
  {
   "cell_type": "code",
   "execution_count": 39,
   "outputs": [
    {
     "name": "stdout",
     "output_type": "stream",
     "text": [
      "AUC-PR Score on Test Set: 0.9990553240115865\n",
      "ROC-AUC Score on Test Set: 0.9980918376891137\n",
      "Confusion Matrix:\n",
      "[[ 61939   1565]\n",
      " [  1954 122515]]\n"
     ]
    }
   ],
   "source": [
    "# 1. Calculate AUC-PR (Average Precision Score) and ROC-AUC Score\n",
    "aucpr = average_precision_score(y_test, y_test_pred_proba)  # Use the defined probabilities\n",
    "print(f\"AUC-PR Score on Test Set: {aucpr}\")\n",
    "\n",
    "roc_auc = roc_auc_score(y_test, y_test_prob)\n",
    "print(f\"ROC-AUC Score on Test Set: {roc_auc}\")\n",
    "\n",
    "# 2. Generate Confusion Matrix\n",
    "cm = confusion_matrix(y_test, y_test_pred)\n",
    "\n",
    "# Print confusion matrix\n",
    "print(\"Confusion Matrix:\")\n",
    "print(cm)\n"
   ],
   "metadata": {
    "collapsed": false,
    "ExecuteTime": {
     "end_time": "2024-10-28T17:15:45.152039500Z",
     "start_time": "2024-10-28T17:15:45.077992500Z"
    }
   },
   "id": "125547ba5d2762b6"
  },
  {
   "cell_type": "code",
   "execution_count": 40,
   "outputs": [
    {
     "data": {
      "text/plain": "<Figure size 600x400 with 2 Axes>",
      "image/png": "[encoded data removed]"
     },
     "metadata": {},
     "output_type": "display_data"
    }
   ],
   "source": [
    "import matplotlib.pyplot as plt\n",
    "import seaborn as sns\n",
    "\n",
    "# Define class names\n",
    "class_names = ['Not Vandalism', 'Vandalism']\n",
    "\n",
    "# Confusion Matrix Heatmap\n",
    "plt.figure(figsize=(6, 4))\n",
    "sns.heatmap(cm, annot=True, fmt='d', cmap='Blues', \n",
    "            xticklabels=class_names, \n",
    "            yticklabels=class_names)\n",
    "\n",
    "plt.title('Confusion Matrix')\n",
    "plt.xlabel('Predicted Labels')\n",
    "plt.ylabel('Actual Labels')\n",
    "plt.show()\n"
   ],
   "metadata": {
    "collapsed": false,
    "ExecuteTime": {
     "end_time": "2024-10-28T17:15:59.530902Z",
     "start_time": "2024-10-28T17:15:59.394799200Z"
    }
   },
   "id": "7b3ff60f9eb1d47c"
  },
  {
   "cell_type": "code",
   "execution_count": 30,
   "outputs": [
    {
     "data": {
      "text/plain": "['final_xgboost_model.pkl']"
     },
     "execution_count": 30,
     "metadata": {},
     "output_type": "execute_result"
    }
   ],
   "source": [
    "import joblib\n",
    "\n",
    "# 6. Save the Final Model for Future Use\n",
    "joblib.dump(final_model, '../saved_parameters/final_xgboost_model.pkl')\n",
    "\n",
    "# To Load the Model Later:\n",
    "# final_model = joblib.load('final_xgboost_model.pkl')\n"
   ],
   "metadata": {
    "collapsed": false,
    "ExecuteTime": {
     "end_time": "2024-10-28T17:04:23.431167Z",
     "start_time": "2024-10-28T17:04:23.411643600Z"
    }
   },
   "id": "24a499ebce3da188"
  }
 ],
 "metadata": {
  "kernelspec": {
   "display_name": "Python 3",
   "language": "python",
   "name": "python3"
  },
  "language_info": {
   "codemirror_mode": {
    "name": "ipython",
    "version": 2
   },
   "file_extension": ".py",
   "mimetype": "text/x-python",
   "name": "python",
   "nbconvert_exporter": "python",
   "pygments_lexer": "ipython2",
   "version": "2.7.6"
  }
 },
 "nbformat": 4,
 "nbformat_minor": 5
}
