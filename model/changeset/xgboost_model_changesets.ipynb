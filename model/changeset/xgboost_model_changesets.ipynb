{
 "cells": [
  {
   "cell_type": "code",
   "execution_count": 23,
   "id": "initial_id",
   "metadata": {
    "collapsed": true,
    "ExecuteTime": {
     "end_time": "2024-10-29T15:20:02.192776400Z",
     "start_time": "2024-10-29T15:20:02.179444500Z"
    }
   },
   "outputs": [],
   "source": [
    "import pandas as pd\n",
    "import numpy as np\n",
    "import xgboost as xgb\n",
    "import matplotlib.pyplot as plt\n",
    "from sklearn.model_selection import train_test_split\n",
    "from sklearn.model_selection import GridSearchCV\n",
    "from sklearn.metrics import balanced_accuracy_score, roc_auc_score, make_scorer\n",
    "from sklearn.metrics import confusion_matrix, ConfusionMatrixDisplay\n"
   ]
  },
  {
   "cell_type": "code",
   "execution_count": 27,
   "outputs": [],
   "source": [
    "features_df = pd.read_parquet(\"../data/changeset_data/osm_labelled_changeset_features_with_user_info.parquet\")"
   ],
   "metadata": {
    "collapsed": false,
    "ExecuteTime": {
     "end_time": "2024-10-29T15:20:47.021475600Z",
     "start_time": "2024-10-29T15:20:46.986756300Z"
    }
   },
   "id": "76f85b94e04c194f"
  },
  {
   "cell_type": "code",
   "execution_count": 25,
   "outputs": [
    {
     "data": {
      "text/plain": "   changeset_id                created_at                 closed_at  \\\n0      19739784 2014-01-01 00:16:15+00:00 2014-01-01 00:16:17+00:00   \n1      19739822 2014-01-01 00:21:49+00:00 2014-01-01 00:21:51+00:00   \n2      19740673 2014-01-01 03:44:23+00:00 2014-01-01 03:44:25+00:00   \n3      19740747 2014-01-01 04:12:07+00:00 2014-01-01 04:12:09+00:00   \n4      19740824 2014-01-01 04:36:01+00:00 2014-01-01 04:36:08+00:00   \n\n          user  user_id  num_changes    min_lat     min_lon    max_lat  \\\n0  bryanpiczon   688302            3  10.376628  123.400400  10.498390   \n1  bryanpiczon   688302           13  10.376457  123.633181  10.390640   \n2  bryanpiczon   688302           21   9.749016  124.004176  10.410474   \n3  bryanpiczon   688302           10   9.783770  125.079765  10.766378   \n4  bryanpiczon   688302           13   9.796782  125.077679  10.712891   \n\n      max_lon  ... label no_nodes  no_ways  no_relations  no_creates  \\\n0  123.635174  ...  True        1        2             0           1   \n1  123.640732  ...  True       10        3             0          12   \n2  125.187905  ...  True       17        4             0          21   \n3  125.929561  ...  True        8        2             0           8   \n4  125.838949  ...  True       11        2             0          12   \n\n   no_modifications  no_deletions     uid       account_created  changes_count  \n0                 2             0  688302  2012-05-24T12:27:56Z              0  \n1                 1             0  688302  2012-05-24T12:27:56Z              0  \n2                 0             0  688302  2012-05-24T12:27:56Z              0  \n3                 2             0  688302  2012-05-24T12:27:56Z              0  \n4                 1             0  688302  2012-05-24T12:27:56Z              0  \n\n[5 rows x 22 columns]",
      "text/html": "<div>\n<style scoped>\n    .dataframe tbody tr th:only-of-type {\n        vertical-align: middle;\n    }\n\n    .dataframe tbody tr th {\n        vertical-align: top;\n    }\n\n    .dataframe thead th {\n        text-align: right;\n    }\n</style>\n<table border=\"1\" class=\"dataframe\">\n  <thead>\n    <tr style=\"text-align: right;\">\n      <th></th>\n      <th>changeset_id</th>\n      <th>created_at</th>\n      <th>closed_at</th>\n      <th>user</th>\n      <th>user_id</th>\n      <th>num_changes</th>\n      <th>min_lat</th>\n      <th>min_lon</th>\n      <th>max_lat</th>\n      <th>max_lon</th>\n      <th>...</th>\n      <th>label</th>\n      <th>no_nodes</th>\n      <th>no_ways</th>\n      <th>no_relations</th>\n      <th>no_creates</th>\n      <th>no_modifications</th>\n      <th>no_deletions</th>\n      <th>uid</th>\n      <th>account_created</th>\n      <th>changes_count</th>\n    </tr>\n  </thead>\n  <tbody>\n    <tr>\n      <th>0</th>\n      <td>19739784</td>\n      <td>2014-01-01 00:16:15+00:00</td>\n      <td>2014-01-01 00:16:17+00:00</td>\n      <td>bryanpiczon</td>\n      <td>688302</td>\n      <td>3</td>\n      <td>10.376628</td>\n      <td>123.400400</td>\n      <td>10.498390</td>\n      <td>123.635174</td>\n      <td>...</td>\n      <td>True</td>\n      <td>1</td>\n      <td>2</td>\n      <td>0</td>\n      <td>1</td>\n      <td>2</td>\n      <td>0</td>\n      <td>688302</td>\n      <td>2012-05-24T12:27:56Z</td>\n      <td>0</td>\n    </tr>\n    <tr>\n      <th>1</th>\n      <td>19739822</td>\n      <td>2014-01-01 00:21:49+00:00</td>\n      <td>2014-01-01 00:21:51+00:00</td>\n      <td>bryanpiczon</td>\n      <td>688302</td>\n      <td>13</td>\n      <td>10.376457</td>\n      <td>123.633181</td>\n      <td>10.390640</td>\n      <td>123.640732</td>\n      <td>...</td>\n      <td>True</td>\n      <td>10</td>\n      <td>3</td>\n      <td>0</td>\n      <td>12</td>\n      <td>1</td>\n      <td>0</td>\n      <td>688302</td>\n      <td>2012-05-24T12:27:56Z</td>\n      <td>0</td>\n    </tr>\n    <tr>\n      <th>2</th>\n      <td>19740673</td>\n      <td>2014-01-01 03:44:23+00:00</td>\n      <td>2014-01-01 03:44:25+00:00</td>\n      <td>bryanpiczon</td>\n      <td>688302</td>\n      <td>21</td>\n      <td>9.749016</td>\n      <td>124.004176</td>\n      <td>10.410474</td>\n      <td>125.187905</td>\n      <td>...</td>\n      <td>True</td>\n      <td>17</td>\n      <td>4</td>\n      <td>0</td>\n      <td>21</td>\n      <td>0</td>\n      <td>0</td>\n      <td>688302</td>\n      <td>2012-05-24T12:27:56Z</td>\n      <td>0</td>\n    </tr>\n    <tr>\n      <th>3</th>\n      <td>19740747</td>\n      <td>2014-01-01 04:12:07+00:00</td>\n      <td>2014-01-01 04:12:09+00:00</td>\n      <td>bryanpiczon</td>\n      <td>688302</td>\n      <td>10</td>\n      <td>9.783770</td>\n      <td>125.079765</td>\n      <td>10.766378</td>\n      <td>125.929561</td>\n      <td>...</td>\n      <td>True</td>\n      <td>8</td>\n      <td>2</td>\n      <td>0</td>\n      <td>8</td>\n      <td>2</td>\n      <td>0</td>\n      <td>688302</td>\n      <td>2012-05-24T12:27:56Z</td>\n      <td>0</td>\n    </tr>\n    <tr>\n      <th>4</th>\n      <td>19740824</td>\n      <td>2014-01-01 04:36:01+00:00</td>\n      <td>2014-01-01 04:36:08+00:00</td>\n      <td>bryanpiczon</td>\n      <td>688302</td>\n      <td>13</td>\n      <td>9.796782</td>\n      <td>125.077679</td>\n      <td>10.712891</td>\n      <td>125.838949</td>\n      <td>...</td>\n      <td>True</td>\n      <td>11</td>\n      <td>2</td>\n      <td>0</td>\n      <td>12</td>\n      <td>1</td>\n      <td>0</td>\n      <td>688302</td>\n      <td>2012-05-24T12:27:56Z</td>\n      <td>0</td>\n    </tr>\n  </tbody>\n</table>\n<p>5 rows × 22 columns</p>\n</div>"
     },
     "execution_count": 25,
     "metadata": {},
     "output_type": "execute_result"
    }
   ],
   "source": [
    "features_df.head()"
   ],
   "metadata": {
    "collapsed": false,
    "ExecuteTime": {
     "end_time": "2024-10-29T15:20:05.084822100Z",
     "start_time": "2024-10-29T15:20:05.030437400Z"
    }
   },
   "id": "d4317f4d19642e42"
  },
  {
   "cell_type": "code",
   "execution_count": 4,
   "outputs": [],
   "source": [
    "if features_df.columns.__contains__('geometry'):\n",
    "    features_df.drop('geometry', axis=1, inplace=True)\n",
    "\n",
    "if features_df.columns.__contains__('changeset_id'):\n",
    "    features_df.drop('changeset_id', axis=1, inplace=True)\n",
    "\n",
    "if features_df.columns.__contains__('created_at'):\n",
    "    features_df.drop('created_at', axis=1, inplace=True)\n",
    "\n",
    "if features_df.columns.__contains__('user'):\n",
    "    features_df.drop('user', axis=1, inplace=True)\n",
    "    \n",
    "#TODO: Analyse comment and detect if suspicious. Can get a new feature like comment suspicious score.\n",
    "if features_df.columns.__contains__('comment'):\n",
    "    features_df.drop('comment', axis=1, inplace=True)\n",
    "\n",
    "if features_df.columns.__contains__('uid'):\n",
    "    features_df.drop('uid', axis=1, inplace=True)\n",
    "\n",
    "if features_df.columns.__contains__('changes_count'):\n",
    "    features_df.drop('changes_count', axis=1, inplace=True)"
   ],
   "metadata": {
    "collapsed": false,
    "ExecuteTime": {
     "end_time": "2024-10-29T14:19:49.126380900Z",
     "start_time": "2024-10-29T14:19:49.090083900Z"
    }
   },
   "id": "a5e03bd1300cda47"
  },
  {
   "cell_type": "code",
   "execution_count": 5,
   "outputs": [
    {
     "data": {
      "text/plain": "                  closed_at  user_id  num_changes    min_lat     min_lon  \\\n0 2014-01-01 00:16:17+00:00   688302            3  10.376628  123.400400   \n1 2014-01-01 00:21:51+00:00   688302           13  10.376457  123.633181   \n2 2014-01-01 03:44:25+00:00   688302           21   9.749016  124.004176   \n3 2014-01-01 04:12:09+00:00   688302           10   9.783770  125.079765   \n4 2014-01-01 04:36:08+00:00   688302           13   9.796782  125.077679   \n\n     max_lat     max_lon created_by  label  no_nodes  no_ways  no_relations  \\\n0  10.498390  123.635174   iD 1.3.4   True         1        2             0   \n1  10.390640  123.640732   iD 1.3.4   True        10        3             0   \n2  10.410474  125.187905   iD 1.3.4   True        17        4             0   \n3  10.766378  125.929561   iD 1.3.4   True         8        2             0   \n4  10.712891  125.838949   iD 1.3.4   True        11        2             0   \n\n   no_creates  no_modifications  no_deletions       account_created  \n0           1                 2             0  2012-05-24T12:27:56Z  \n1          12                 1             0  2012-05-24T12:27:56Z  \n2          21                 0             0  2012-05-24T12:27:56Z  \n3           8                 2             0  2012-05-24T12:27:56Z  \n4          12                 1             0  2012-05-24T12:27:56Z  ",
      "text/html": "<div>\n<style scoped>\n    .dataframe tbody tr th:only-of-type {\n        vertical-align: middle;\n    }\n\n    .dataframe tbody tr th {\n        vertical-align: top;\n    }\n\n    .dataframe thead th {\n        text-align: right;\n    }\n</style>\n<table border=\"1\" class=\"dataframe\">\n  <thead>\n    <tr style=\"text-align: right;\">\n      <th></th>\n      <th>closed_at</th>\n      <th>user_id</th>\n      <th>num_changes</th>\n      <th>min_lat</th>\n      <th>min_lon</th>\n      <th>max_lat</th>\n      <th>max_lon</th>\n      <th>created_by</th>\n      <th>label</th>\n      <th>no_nodes</th>\n      <th>no_ways</th>\n      <th>no_relations</th>\n      <th>no_creates</th>\n      <th>no_modifications</th>\n      <th>no_deletions</th>\n      <th>account_created</th>\n    </tr>\n  </thead>\n  <tbody>\n    <tr>\n      <th>0</th>\n      <td>2014-01-01 00:16:17+00:00</td>\n      <td>688302</td>\n      <td>3</td>\n      <td>10.376628</td>\n      <td>123.400400</td>\n      <td>10.498390</td>\n      <td>123.635174</td>\n      <td>iD 1.3.4</td>\n      <td>True</td>\n      <td>1</td>\n      <td>2</td>\n      <td>0</td>\n      <td>1</td>\n      <td>2</td>\n      <td>0</td>\n      <td>2012-05-24T12:27:56Z</td>\n    </tr>\n    <tr>\n      <th>1</th>\n      <td>2014-01-01 00:21:51+00:00</td>\n      <td>688302</td>\n      <td>13</td>\n      <td>10.376457</td>\n      <td>123.633181</td>\n      <td>10.390640</td>\n      <td>123.640732</td>\n      <td>iD 1.3.4</td>\n      <td>True</td>\n      <td>10</td>\n      <td>3</td>\n      <td>0</td>\n      <td>12</td>\n      <td>1</td>\n      <td>0</td>\n      <td>2012-05-24T12:27:56Z</td>\n    </tr>\n    <tr>\n      <th>2</th>\n      <td>2014-01-01 03:44:25+00:00</td>\n      <td>688302</td>\n      <td>21</td>\n      <td>9.749016</td>\n      <td>124.004176</td>\n      <td>10.410474</td>\n      <td>125.187905</td>\n      <td>iD 1.3.4</td>\n      <td>True</td>\n      <td>17</td>\n      <td>4</td>\n      <td>0</td>\n      <td>21</td>\n      <td>0</td>\n      <td>0</td>\n      <td>2012-05-24T12:27:56Z</td>\n    </tr>\n    <tr>\n      <th>3</th>\n      <td>2014-01-01 04:12:09+00:00</td>\n      <td>688302</td>\n      <td>10</td>\n      <td>9.783770</td>\n      <td>125.079765</td>\n      <td>10.766378</td>\n      <td>125.929561</td>\n      <td>iD 1.3.4</td>\n      <td>True</td>\n      <td>8</td>\n      <td>2</td>\n      <td>0</td>\n      <td>8</td>\n      <td>2</td>\n      <td>0</td>\n      <td>2012-05-24T12:27:56Z</td>\n    </tr>\n    <tr>\n      <th>4</th>\n      <td>2014-01-01 04:36:08+00:00</td>\n      <td>688302</td>\n      <td>13</td>\n      <td>9.796782</td>\n      <td>125.077679</td>\n      <td>10.712891</td>\n      <td>125.838949</td>\n      <td>iD 1.3.4</td>\n      <td>True</td>\n      <td>11</td>\n      <td>2</td>\n      <td>0</td>\n      <td>12</td>\n      <td>1</td>\n      <td>0</td>\n      <td>2012-05-24T12:27:56Z</td>\n    </tr>\n  </tbody>\n</table>\n</div>"
     },
     "execution_count": 5,
     "metadata": {},
     "output_type": "execute_result"
    }
   ],
   "source": [
    "features_df.columns = features_df.columns.str.replace(' ', '_', regex=True)\n",
    "features_df.head()"
   ],
   "metadata": {
    "collapsed": false,
    "ExecuteTime": {
     "end_time": "2024-10-29T14:19:50.148301600Z",
     "start_time": "2024-10-29T14:19:50.123938700Z"
    }
   },
   "id": "b565298736848be7"
  },
  {
   "cell_type": "code",
   "execution_count": 6,
   "outputs": [
    {
     "name": "stdout",
     "output_type": "stream",
     "text": [
      "Index(['closed_at', 'user_id', 'num_changes', 'min_lat', 'min_lon', 'max_lat',\n",
      "       'max_lon', 'created_by', 'no_nodes', 'no_ways', 'no_relations',\n",
      "       'no_creates', 'no_modifications', 'no_deletions', 'account_created'],\n",
      "      dtype='object')\n"
     ]
    }
   ],
   "source": [
    "X = features_df.drop('label', axis=1).copy()\n",
    "X.head()\n",
    "print(X.columns)"
   ],
   "metadata": {
    "collapsed": false,
    "ExecuteTime": {
     "end_time": "2024-10-29T14:19:51.500567600Z",
     "start_time": "2024-10-29T14:19:51.462806Z"
    }
   },
   "id": "9feca52c8c7dbd38"
  },
  {
   "cell_type": "code",
   "execution_count": 7,
   "outputs": [
    {
     "data": {
      "text/plain": "0    True\n1    True\n2    True\n3    True\n4    True\nName: label, dtype: bool"
     },
     "execution_count": 7,
     "metadata": {},
     "output_type": "execute_result"
    }
   ],
   "source": [
    "y = features_df['label'].copy()\n",
    "y.head()"
   ],
   "metadata": {
    "collapsed": false,
    "ExecuteTime": {
     "end_time": "2024-10-29T14:19:52.235750800Z",
     "start_time": "2024-10-29T14:19:52.197324300Z"
    }
   },
   "id": "1a515c83cd3d9582"
  },
  {
   "cell_type": "code",
   "execution_count": 9,
   "outputs": [],
   "source": [
    "X['closed_at'] = pd.to_datetime(X['closed_at']).astype(int) / 10**9\n",
    "X['account_created'] = pd.to_datetime(X['account_created']).astype(int) / 10**9"
   ],
   "metadata": {
    "collapsed": false,
    "ExecuteTime": {
     "end_time": "2024-10-29T14:20:23.609950Z",
     "start_time": "2024-10-29T14:20:23.460837500Z"
    }
   },
   "id": "f51041067736c5db"
  },
  {
   "cell_type": "code",
   "execution_count": 10,
   "outputs": [
    {
     "data": {
      "text/plain": "closed_at           float64\nuser_id               int64\nnum_changes           int64\nmin_lat             float64\nmin_lon             float64\nmax_lat             float64\nmax_lon             float64\ncreated_by           object\nno_nodes              int64\nno_ways               int64\nno_relations          int64\nno_creates            int64\nno_modifications      int64\nno_deletions          int64\naccount_created     float64\ndtype: object"
     },
     "execution_count": 10,
     "metadata": {},
     "output_type": "execute_result"
    }
   ],
   "source": [
    "X.dtypes"
   ],
   "metadata": {
    "collapsed": false,
    "ExecuteTime": {
     "end_time": "2024-10-29T14:20:24.594355200Z",
     "start_time": "2024-10-29T14:20:24.566027Z"
    }
   },
   "id": "bf8adf270bbfce95"
  },
  {
   "cell_type": "code",
   "execution_count": 11,
   "outputs": [
    {
     "data": {
      "text/plain": "      closed_at  user_id  num_changes    min_lat     min_lon    max_lat  \\\n0  1.388535e+09   688302            3  10.376628  123.400400  10.498390   \n1  1.388536e+09   688302           13  10.376457  123.633181  10.390640   \n2  1.388548e+09   688302           21   9.749016  124.004176  10.410474   \n3  1.388550e+09   688302           10   9.783770  125.079765  10.766378   \n4  1.388551e+09   688302           13   9.796782  125.077679  10.712891   \n\n      max_lon  no_nodes  no_ways  no_relations  ...  \\\n0  123.635174         1        2             0  ...   \n1  123.640732        10        3             0  ...   \n2  125.187905        17        4             0  ...   \n3  125.929561         8        2             0  ...   \n4  125.838949        11        2             0  ...   \n\n   created_by_reverter;JOSM/1.5 (14945 uk)  \\\n0                                    False   \n1                                    False   \n2                                    False   \n3                                    False   \n4                                    False   \n\n   created_by_reverter_plugin/34977;JOSM/1.5 (15031 en)  \\\n0                                              False      \n1                                              False      \n2                                              False      \n3                                              False      \n4                                              False      \n\n   created_by_reverter_plugin/34999;JOSM/1.5 (15155 de)  \\\n0                                              False      \n1                                              False      \n2                                              False      \n3                                              False      \n4                                              False      \n\n   created_by_reverter_plugin/35084;JOSM/1.5 (15492 en)  \\\n0                                              False      \n1                                              False      \n2                                              False      \n3                                              False      \n4                                              False      \n\n   created_by_rocketdata.io  created_by_rosemary v0.3.12  \\\n0                     False                        False   \n1                     False                        False   \n2                     False                        False   \n3                     False                        False   \n4                     False                        False   \n\n   created_by_rosemary v0.4.4  created_by_simple_revert.py  \\\n0                       False                        False   \n1                       False                        False   \n2                       False                        False   \n3                       False                        False   \n4                       False                        False   \n\n   created_by_streetkeysmv  created_by_upload.py v. 1  \n0                    False                      False  \n1                    False                      False  \n2                    False                      False  \n3                    False                      False  \n4                    False                      False  \n\n[5 rows x 1459 columns]",
      "text/html": "<div>\n<style scoped>\n    .dataframe tbody tr th:only-of-type {\n        vertical-align: middle;\n    }\n\n    .dataframe tbody tr th {\n        vertical-align: top;\n    }\n\n    .dataframe thead th {\n        text-align: right;\n    }\n</style>\n<table border=\"1\" class=\"dataframe\">\n  <thead>\n    <tr style=\"text-align: right;\">\n      <th></th>\n      <th>closed_at</th>\n      <th>user_id</th>\n      <th>num_changes</th>\n      <th>min_lat</th>\n      <th>min_lon</th>\n      <th>max_lat</th>\n      <th>max_lon</th>\n      <th>no_nodes</th>\n      <th>no_ways</th>\n      <th>no_relations</th>\n      <th>...</th>\n      <th>created_by_reverter;JOSM/1.5 (14945 uk)</th>\n      <th>created_by_reverter_plugin/34977;JOSM/1.5 (15031 en)</th>\n      <th>created_by_reverter_plugin/34999;JOSM/1.5 (15155 de)</th>\n      <th>created_by_reverter_plugin/35084;JOSM/1.5 (15492 en)</th>\n      <th>created_by_rocketdata.io</th>\n      <th>created_by_rosemary v0.3.12</th>\n      <th>created_by_rosemary v0.4.4</th>\n      <th>created_by_simple_revert.py</th>\n      <th>created_by_streetkeysmv</th>\n      <th>created_by_upload.py v. 1</th>\n    </tr>\n  </thead>\n  <tbody>\n    <tr>\n      <th>0</th>\n      <td>1.388535e+09</td>\n      <td>688302</td>\n      <td>3</td>\n      <td>10.376628</td>\n      <td>123.400400</td>\n      <td>10.498390</td>\n      <td>123.635174</td>\n      <td>1</td>\n      <td>2</td>\n      <td>0</td>\n      <td>...</td>\n      <td>False</td>\n      <td>False</td>\n      <td>False</td>\n      <td>False</td>\n      <td>False</td>\n      <td>False</td>\n      <td>False</td>\n      <td>False</td>\n      <td>False</td>\n      <td>False</td>\n    </tr>\n    <tr>\n      <th>1</th>\n      <td>1.388536e+09</td>\n      <td>688302</td>\n      <td>13</td>\n      <td>10.376457</td>\n      <td>123.633181</td>\n      <td>10.390640</td>\n      <td>123.640732</td>\n      <td>10</td>\n      <td>3</td>\n      <td>0</td>\n      <td>...</td>\n      <td>False</td>\n      <td>False</td>\n      <td>False</td>\n      <td>False</td>\n      <td>False</td>\n      <td>False</td>\n      <td>False</td>\n      <td>False</td>\n      <td>False</td>\n      <td>False</td>\n    </tr>\n    <tr>\n      <th>2</th>\n      <td>1.388548e+09</td>\n      <td>688302</td>\n      <td>21</td>\n      <td>9.749016</td>\n      <td>124.004176</td>\n      <td>10.410474</td>\n      <td>125.187905</td>\n      <td>17</td>\n      <td>4</td>\n      <td>0</td>\n      <td>...</td>\n      <td>False</td>\n      <td>False</td>\n      <td>False</td>\n      <td>False</td>\n      <td>False</td>\n      <td>False</td>\n      <td>False</td>\n      <td>False</td>\n      <td>False</td>\n      <td>False</td>\n    </tr>\n    <tr>\n      <th>3</th>\n      <td>1.388550e+09</td>\n      <td>688302</td>\n      <td>10</td>\n      <td>9.783770</td>\n      <td>125.079765</td>\n      <td>10.766378</td>\n      <td>125.929561</td>\n      <td>8</td>\n      <td>2</td>\n      <td>0</td>\n      <td>...</td>\n      <td>False</td>\n      <td>False</td>\n      <td>False</td>\n      <td>False</td>\n      <td>False</td>\n      <td>False</td>\n      <td>False</td>\n      <td>False</td>\n      <td>False</td>\n      <td>False</td>\n    </tr>\n    <tr>\n      <th>4</th>\n      <td>1.388551e+09</td>\n      <td>688302</td>\n      <td>13</td>\n      <td>9.796782</td>\n      <td>125.077679</td>\n      <td>10.712891</td>\n      <td>125.838949</td>\n      <td>11</td>\n      <td>2</td>\n      <td>0</td>\n      <td>...</td>\n      <td>False</td>\n      <td>False</td>\n      <td>False</td>\n      <td>False</td>\n      <td>False</td>\n      <td>False</td>\n      <td>False</td>\n      <td>False</td>\n      <td>False</td>\n      <td>False</td>\n    </tr>\n  </tbody>\n</table>\n<p>5 rows × 1459 columns</p>\n</div>"
     },
     "execution_count": 11,
     "metadata": {},
     "output_type": "execute_result"
    }
   ],
   "source": [
    "X_encoded = pd.get_dummies(X, columns=['created_by'])\n",
    "X_encoded.head()"
   ],
   "metadata": {
    "collapsed": false,
    "ExecuteTime": {
     "end_time": "2024-10-29T14:20:28.081575800Z",
     "start_time": "2024-10-29T14:20:28.019720500Z"
    }
   },
   "id": "6da48135f8a0b83b"
  },
  {
   "cell_type": "code",
   "execution_count": 12,
   "outputs": [
    {
     "name": "stderr",
     "output_type": "stream",
     "text": [
      "C:\\Users\\saise\\AppData\\Local\\Temp\\ipykernel_31340\\3107921932.py:2: FutureWarning: Downcasting behavior in `replace` is deprecated and will be removed in a future version. To retain the old behavior, explicitly call `result.infer_objects(copy=False)`. To opt-in to the future behavior, set `pd.set_option('future.no_silent_downcasting', True)`\n",
      "  y = y.replace(False, 0)\n"
     ]
    }
   ],
   "source": [
    "y = y.replace(True, 1)\n",
    "y = y.replace(False, 0)"
   ],
   "metadata": {
    "collapsed": false,
    "ExecuteTime": {
     "end_time": "2024-10-29T14:20:29.374423300Z",
     "start_time": "2024-10-29T14:20:29.373439Z"
    }
   },
   "id": "641c26957721d7bf"
  },
  {
   "cell_type": "code",
   "execution_count": 13,
   "outputs": [
    {
     "data": {
      "text/plain": "dtype('int64')"
     },
     "execution_count": 13,
     "metadata": {},
     "output_type": "execute_result"
    }
   ],
   "source": [
    "y.dtype"
   ],
   "metadata": {
    "collapsed": false,
    "ExecuteTime": {
     "end_time": "2024-10-29T14:20:31.032323500Z",
     "start_time": "2024-10-29T14:20:31.007269Z"
    }
   },
   "id": "aea3ef084a567421"
  },
  {
   "cell_type": "code",
   "execution_count": 14,
   "outputs": [
    {
     "data": {
      "text/plain": "0.500905051834787"
     },
     "execution_count": 14,
     "metadata": {},
     "output_type": "execute_result"
    }
   ],
   "source": [
    "sum(y) / len(y)"
   ],
   "metadata": {
    "collapsed": false,
    "ExecuteTime": {
     "end_time": "2024-10-29T14:20:31.274735700Z",
     "start_time": "2024-10-29T14:20:31.259748200Z"
    }
   },
   "id": "27df8089deab0f28"
  },
  {
   "cell_type": "code",
   "execution_count": 15,
   "outputs": [],
   "source": [
    "X_train, X_test, y_train, y_test = train_test_split(X_encoded, y, random_state=42, stratify=y)"
   ],
   "metadata": {
    "collapsed": false,
    "ExecuteTime": {
     "end_time": "2024-10-29T14:20:31.949498400Z",
     "start_time": "2024-10-29T14:20:31.869295800Z"
    }
   },
   "id": "c7ac657f7818a200"
  },
  {
   "cell_type": "code",
   "execution_count": 16,
   "outputs": [
    {
     "name": "stdout",
     "output_type": "stream",
     "text": [
      "               Number of Samples  Number of Features\n",
      "X_train shape              13673                1459\n",
      "X_test shape                4558                1459\n",
      "y_train shape              13673               13673\n",
      "y_test shape                4558                4558\n"
     ]
    }
   ],
   "source": [
    "# Get the shapes of the datasets\n",
    "shapes = {\n",
    "    'X_train shape': X_train.shape,\n",
    "    'X_test shape': X_test.shape,\n",
    "    'y_train shape': y_train.shape,\n",
    "    'y_test shape': y_test.shape\n",
    "}\n",
    "\n",
    "# Convert shapes to DataFrame for better display\n",
    "shapes_df = pd.DataFrame(shapes, index=['Number of Samples', 'Number of Features']).T\n",
    "print(shapes_df)"
   ],
   "metadata": {
    "collapsed": false,
    "ExecuteTime": {
     "end_time": "2024-10-29T14:20:34.862890300Z",
     "start_time": "2024-10-29T14:20:34.837190300Z"
    }
   },
   "id": "cbe6642ebbf4df9e"
  },
  {
   "cell_type": "code",
   "execution_count": 17,
   "outputs": [
    {
     "data": {
      "text/plain": "0.5009142104878227"
     },
     "execution_count": 17,
     "metadata": {},
     "output_type": "execute_result"
    }
   ],
   "source": [
    "sum(y_train)/len(y_train)"
   ],
   "metadata": {
    "collapsed": false,
    "ExecuteTime": {
     "end_time": "2024-10-29T14:20:56.399206Z",
     "start_time": "2024-10-29T14:20:56.385425500Z"
    }
   },
   "id": "b44319d4f4b10c37"
  },
  {
   "cell_type": "code",
   "execution_count": 18,
   "outputs": [
    {
     "data": {
      "text/plain": "0.5008775778850373"
     },
     "execution_count": 18,
     "metadata": {},
     "output_type": "execute_result"
    }
   ],
   "source": [
    "sum(y_test)/len(y_test)"
   ],
   "metadata": {
    "collapsed": false,
    "ExecuteTime": {
     "end_time": "2024-10-29T14:20:56.828954600Z",
     "start_time": "2024-10-29T14:20:56.802819900Z"
    }
   },
   "id": "bbc18b49297503de"
  },
  {
   "cell_type": "code",
   "execution_count": 22,
   "outputs": [
    {
     "name": "stdout",
     "output_type": "stream",
     "text": [
      "Train Set Statistics:\n",
      "Total: 13673\n",
      "Vandalism: 6849\n",
      "Non-Vandalism: 6824\n",
      "\n",
      "Test Set Statistics:\n",
      "Total: 4558\n",
      "Vandalism: 2283\n",
      "Non-Vandalism: 2275\n"
     ]
    }
   ],
   "source": [
    "# 1. Calculate the total number of samples in train and test sets\n",
    "total_train = len(y_train)\n",
    "total_test = len(y_test)\n",
    "\n",
    "# 2. Calculate the number of vandalism (assuming 'vandalism' is labeled as 1)\n",
    "vandalism_train = sum(y_train)\n",
    "vandalism_test = sum(y_test)\n",
    "\n",
    "# 3. Calculate the number of non-vandalism (assuming 'non-vandalism' is labeled as 0)\n",
    "non_vandalism_train = total_train - vandalism_train\n",
    "non_vandalism_test = total_test - vandalism_test\n",
    "\n",
    "# 4. Print the statistics\n",
    "print(f\"Train Set Statistics:\\n\"\n",
    "      f\"Total: {total_train}\\n\"\n",
    "      f\"Vandalism: {vandalism_train}\\n\"\n",
    "      f\"Non-Vandalism: {non_vandalism_train}\\n\")\n",
    "\n",
    "print(f\"Test Set Statistics:\\n\"\n",
    "      f\"Total: {total_test}\\n\"\n",
    "      f\"Vandalism: {vandalism_test}\\n\"\n",
    "      f\"Non-Vandalism: {non_vandalism_test}\\n\")\n"
   ],
   "metadata": {
    "collapsed": false,
    "ExecuteTime": {
     "end_time": "2024-10-29T14:48:26.295598Z",
     "start_time": "2024-10-29T14:48:26.273255800Z"
    }
   },
   "id": "a44e1026a343fdd0"
  },
  {
   "cell_type": "code",
   "execution_count": 19,
   "outputs": [
    {
     "name": "stdout",
     "output_type": "stream",
     "text": [
      "[0]\teval-aucpr:0.85039\teval-error:0.22532\n",
      "[1]\teval-aucpr:0.86137\teval-error:0.21128\n",
      "[2]\teval-aucpr:0.88083\teval-error:0.19351\n",
      "[3]\teval-aucpr:0.88517\teval-error:0.18561\n",
      "[4]\teval-aucpr:0.88896\teval-error:0.18627\n",
      "[5]\teval-aucpr:0.89532\teval-error:0.17793\n",
      "[6]\teval-aucpr:0.89931\teval-error:0.17464\n",
      "[7]\teval-aucpr:0.90373\teval-error:0.17047\n",
      "[8]\teval-aucpr:0.90881\teval-error:0.16630\n",
      "[9]\teval-aucpr:0.91002\teval-error:0.16520\n",
      "[10]\teval-aucpr:0.91399\teval-error:0.16169\n",
      "[11]\teval-aucpr:0.91523\teval-error:0.15796\n",
      "[12]\teval-aucpr:0.91783\teval-error:0.15423\n",
      "[13]\teval-aucpr:0.91821\teval-error:0.15292\n",
      "[14]\teval-aucpr:0.91992\teval-error:0.15094\n",
      "[15]\teval-aucpr:0.92150\teval-error:0.14897\n",
      "[16]\teval-aucpr:0.92357\teval-error:0.14853\n",
      "[17]\teval-aucpr:0.92392\teval-error:0.14634\n",
      "[18]\teval-aucpr:0.92635\teval-error:0.14612\n",
      "[19]\teval-aucpr:0.92658\teval-error:0.14524\n",
      "[20]\teval-aucpr:0.92689\teval-error:0.14458\n",
      "[21]\teval-aucpr:0.92755\teval-error:0.14261\n",
      "[22]\teval-aucpr:0.92781\teval-error:0.14107\n",
      "[23]\teval-aucpr:0.93014\teval-error:0.13975\n",
      "[24]\teval-aucpr:0.93083\teval-error:0.13866\n",
      "[25]\teval-aucpr:0.93137\teval-error:0.13712\n",
      "[26]\teval-aucpr:0.93171\teval-error:0.13624\n",
      "[27]\teval-aucpr:0.93205\teval-error:0.13668\n",
      "[28]\teval-aucpr:0.93258\teval-error:0.13624\n",
      "[29]\teval-aucpr:0.93266\teval-error:0.13581\n",
      "[30]\teval-aucpr:0.93350\teval-error:0.13383\n",
      "[31]\teval-aucpr:0.93329\teval-error:0.13361\n",
      "[32]\teval-aucpr:0.93358\teval-error:0.13383\n",
      "[33]\teval-aucpr:0.93450\teval-error:0.13405\n",
      "[34]\teval-aucpr:0.93649\teval-error:0.13251\n",
      "[35]\teval-aucpr:0.93644\teval-error:0.13273\n",
      "[36]\teval-aucpr:0.93635\teval-error:0.13273\n",
      "[37]\teval-aucpr:0.93641\teval-error:0.13273\n",
      "[38]\teval-aucpr:0.93729\teval-error:0.13295\n",
      "[39]\teval-aucpr:0.93730\teval-error:0.13229\n",
      "[40]\teval-aucpr:0.93782\teval-error:0.13208\n",
      "[41]\teval-aucpr:0.93801\teval-error:0.13186\n",
      "[42]\teval-aucpr:0.93832\teval-error:0.13142\n",
      "[43]\teval-aucpr:0.93875\teval-error:0.12966\n",
      "[44]\teval-aucpr:0.93876\teval-error:0.13032\n",
      "[45]\teval-aucpr:0.93995\teval-error:0.12813\n",
      "[46]\teval-aucpr:0.93980\teval-error:0.12769\n",
      "[47]\teval-aucpr:0.93990\teval-error:0.12747\n",
      "[48]\teval-aucpr:0.94043\teval-error:0.12615\n",
      "[49]\teval-aucpr:0.94108\teval-error:0.12637\n",
      "[50]\teval-aucpr:0.94112\teval-error:0.12747\n",
      "[51]\teval-aucpr:0.94098\teval-error:0.12615\n",
      "[52]\teval-aucpr:0.94149\teval-error:0.12593\n",
      "[53]\teval-aucpr:0.94166\teval-error:0.12615\n",
      "[54]\teval-aucpr:0.94204\teval-error:0.12637\n",
      "[55]\teval-aucpr:0.94232\teval-error:0.12593\n",
      "[56]\teval-aucpr:0.94239\teval-error:0.12593\n",
      "[57]\teval-aucpr:0.94228\teval-error:0.12593\n",
      "[58]\teval-aucpr:0.94221\teval-error:0.12615\n",
      "[59]\teval-aucpr:0.94245\teval-error:0.12681\n",
      "[60]\teval-aucpr:0.94285\teval-error:0.12703\n",
      "[61]\teval-aucpr:0.94359\teval-error:0.12396\n",
      "[62]\teval-aucpr:0.94361\teval-error:0.12440\n",
      "[63]\teval-aucpr:0.94360\teval-error:0.12396\n",
      "[64]\teval-aucpr:0.94403\teval-error:0.12418\n",
      "[65]\teval-aucpr:0.94430\teval-error:0.12396\n",
      "[66]\teval-aucpr:0.94459\teval-error:0.12352\n",
      "[67]\teval-aucpr:0.94460\teval-error:0.12374\n",
      "[68]\teval-aucpr:0.94462\teval-error:0.12374\n",
      "[69]\teval-aucpr:0.94465\teval-error:0.12352\n",
      "[70]\teval-aucpr:0.94522\teval-error:0.12330\n",
      "[71]\teval-aucpr:0.94535\teval-error:0.12374\n",
      "[72]\teval-aucpr:0.94541\teval-error:0.12374\n",
      "[73]\teval-aucpr:0.94538\teval-error:0.12374\n",
      "[74]\teval-aucpr:0.94554\teval-error:0.12308\n",
      "[75]\teval-aucpr:0.94578\teval-error:0.12352\n",
      "[76]\teval-aucpr:0.94603\teval-error:0.12308\n",
      "[77]\teval-aucpr:0.94592\teval-error:0.12264\n",
      "[78]\teval-aucpr:0.94596\teval-error:0.12242\n",
      "[79]\teval-aucpr:0.94604\teval-error:0.12242\n",
      "[80]\teval-aucpr:0.94648\teval-error:0.12176\n",
      "[81]\teval-aucpr:0.94715\teval-error:0.12133\n",
      "[82]\teval-aucpr:0.94699\teval-error:0.12023\n",
      "[83]\teval-aucpr:0.94714\teval-error:0.11979\n",
      "[84]\teval-aucpr:0.94777\teval-error:0.11891\n",
      "[85]\teval-aucpr:0.94772\teval-error:0.11869\n",
      "[86]\teval-aucpr:0.94760\teval-error:0.11891\n",
      "[87]\teval-aucpr:0.94808\teval-error:0.11825\n",
      "[88]\teval-aucpr:0.94851\teval-error:0.11694\n",
      "[89]\teval-aucpr:0.94863\teval-error:0.11650\n",
      "[90]\teval-aucpr:0.94873\teval-error:0.11606\n",
      "[91]\teval-aucpr:0.94886\teval-error:0.11606\n",
      "[92]\teval-aucpr:0.94884\teval-error:0.11606\n",
      "[93]\teval-aucpr:0.94872\teval-error:0.11562\n",
      "[94]\teval-aucpr:0.94898\teval-error:0.11606\n",
      "[95]\teval-aucpr:0.94947\teval-error:0.11430\n",
      "[96]\teval-aucpr:0.94975\teval-error:0.11452\n",
      "[97]\teval-aucpr:0.94976\teval-error:0.11321\n",
      "[98]\teval-aucpr:0.94990\teval-error:0.11277\n",
      "[99]\teval-aucpr:0.95024\teval-error:0.11233\n"
     ]
    }
   ],
   "source": [
    "import xgboost as xgb\n",
    "\n",
    "# Convert the datasets to DMatrix format\n",
    "dtrain = xgb.DMatrix(X_train, label=y_train)\n",
    "dtest = xgb.DMatrix(X_test, label=y_test)\n",
    "\n",
    "# Specify model parameters with both 'aucpr' and 'accuracy'\n",
    "params = {\n",
    "    'objective': 'binary:logistic',  # Binary classification\n",
    "    'eval_metric': ['aucpr', 'error'],  # 'error' is 1 - accuracy\n",
    "    'seed': 42\n",
    "}\n",
    "\n",
    "# Set up the evaluation set\n",
    "evals = [(dtest, 'eval')]\n",
    "\n",
    "# Train the model with early stopping\n",
    "bst = xgb.train(params, dtrain, num_boost_round=100, evals=evals,\n",
    "                early_stopping_rounds=15, verbose_eval=True)\n"
   ],
   "metadata": {
    "collapsed": false,
    "ExecuteTime": {
     "end_time": "2024-10-29T14:22:04.261306500Z",
     "start_time": "2024-10-29T14:21:53.141230500Z"
    }
   },
   "id": "df1bdfd6fbcf91d8"
  },
  {
   "cell_type": "code",
   "execution_count": 20,
   "outputs": [],
   "source": [
    "# Make predictions on the test data\n",
    "y_pred_proba = bst.predict(dtest)  # Get predicted probabilities\n",
    "y_pred = np.where(y_pred_proba > 0.5, 1, 0)  # Convert probabilities to binary predictions"
   ],
   "metadata": {
    "collapsed": false,
    "ExecuteTime": {
     "end_time": "2024-10-29T14:22:15.637592Z",
     "start_time": "2024-10-29T14:22:15.617239100Z"
    }
   },
   "id": "5e6dfa43fd7d84df"
  },
  {
   "cell_type": "code",
   "execution_count": 21,
   "outputs": [
    {
     "name": "stdout",
     "output_type": "stream",
     "text": [
      "\n",
      "Statistics:\n",
      "True Negatives (TN): 2053\n",
      "False Positives (FP): 222\n",
      "False Negatives (FN): 290\n",
      "True Positives (TP): 1993\n",
      "Accuracy: 0.8877\n",
      "Precision: 0.8998\n",
      "Recall: 0.8730\n",
      "F1 Score: 0.8862\n"
     ]
    },
    {
     "data": {
      "text/plain": "<Figure size 800x600 with 0 Axes>"
     },
     "metadata": {},
     "output_type": "display_data"
    },
    {
     "data": {
      "text/plain": "<Figure size 640x480 with 2 Axes>",
      "image/png": "[encoded data removed]"
     },
     "metadata": {},
     "output_type": "display_data"
    }
   ],
   "source": [
    "from sklearn.metrics import (\n",
    "    confusion_matrix,\n",
    "    ConfusionMatrixDisplay,\n",
    "    accuracy_score,\n",
    "    precision_score,\n",
    "    recall_score,\n",
    "    f1_score\n",
    ")\n",
    "# Compute confusion matrix\n",
    "cm = confusion_matrix(y_test, y_pred)\n",
    "\n",
    "# Calculate additional statistics\n",
    "TN, FP, FN, TP = cm.ravel()  # Unpack the confusion matrix\n",
    "accuracy = accuracy_score(y_test, y_pred)\n",
    "precision = precision_score(y_test, y_pred)\n",
    "recall = recall_score(y_test, y_pred)\n",
    "f1 = f1_score(y_test, y_pred)\n",
    "\n",
    "# Print statistics\n",
    "print(f\"\\nStatistics:\")\n",
    "print(f\"True Negatives (TN): {TN}\")\n",
    "print(f\"False Positives (FP): {FP}\")\n",
    "print(f\"False Negatives (FN): {FN}\")\n",
    "print(f\"True Positives (TP): {TP}\")\n",
    "print(f\"Accuracy: {accuracy:.4f}\")\n",
    "print(f\"Precision: {precision:.4f}\")\n",
    "print(f\"Recall: {recall:.4f}\")\n",
    "print(f\"F1 Score: {f1:.4f}\")\n",
    "\n",
    "# Plot the confusion matrix\n",
    "plt.figure(figsize=(8, 6))\n",
    "ConfusionMatrixDisplay(confusion_matrix=cm, display_labels=['Non-Vandalism', 'Vandalism']).plot(cmap=plt.cm.Blues)\n",
    "plt.title('Confusion Matrix')\n",
    "plt.show()"
   ],
   "metadata": {
    "collapsed": false,
    "ExecuteTime": {
     "end_time": "2024-10-29T14:22:16.763790400Z",
     "start_time": "2024-10-29T14:22:16.576711800Z"
    }
   },
   "id": "72a691413749074"
  }
 ],
 "metadata": {
  "kernelspec": {
   "display_name": "Python 3",
   "language": "python",
   "name": "python3"
  },
  "language_info": {
   "codemirror_mode": {
    "name": "ipython",
    "version": 2
   },
   "file_extension": ".py",
   "mimetype": "text/x-python",
   "name": "python",
   "nbconvert_exporter": "python",
   "pygments_lexer": "ipython2",
   "version": "2.7.6"
  }
 },
 "nbformat": 4,
 "nbformat_minor": 5
}
