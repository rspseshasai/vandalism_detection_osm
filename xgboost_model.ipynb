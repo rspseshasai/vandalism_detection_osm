{
 "cells": [
  {
   "cell_type": "code",
   "execution_count": 73,
   "id": "initial_id",
   "metadata": {
    "collapsed": true,
    "ExecuteTime": {
     "end_time": "2024-10-23T12:53:22.458240100Z",
     "start_time": "2024-10-23T12:53:22.388443200Z"
    }
   },
   "outputs": [],
   "source": [
    "import pandas as pd\n",
    "import numpy as np\n",
    "import xgboost as xgb\n",
    "import matplotlib.pyplot as plt\n",
    "from sklearn.model_selection import train_test_split\n",
    "from sklearn.model_selection import GridSearchCV\n",
    "from sklearn.metrics import balanced_accuracy_score, roc_auc_score, make_scorer\n",
    "from sklearn.metrics import confusion_matrix, ConfusionMatrixDisplay\n"
   ]
  },
  {
   "cell_type": "code",
   "execution_count": 74,
   "outputs": [],
   "source": [
    "features_df = pd.read_parquet(\"data/contribution_data/extracted_features.parquet\")"
   ],
   "metadata": {
    "collapsed": false,
    "ExecuteTime": {
     "end_time": "2024-10-23T12:53:22.832415400Z",
     "start_time": "2024-10-23T12:53:22.394551400Z"
    }
   },
   "id": "76f85b94e04c194f"
  },
  {
   "cell_type": "code",
   "execution_count": 75,
   "outputs": [
    {
     "data": {
      "text/plain": "   user_id  user_edit_frequency editor_used  area_delta  length_delta  area  \\\n0  2377515            32.000000    iD 1.5.4        -597             0     0   \n1  2377515            32.000000    iD 1.5.4        -661             0     0   \n2  6335199             5.490196    iD 2.5.1       -6351             0     0   \n3  5193146             3.762032        JOSM      -60560             0     0   \n4  3149129          3791.000000        JOSM         -47             0     0   \n\n   length  bounding_box_size  geometry_valid       xmax  ...  emergency  \\\n0       0       1.180083e-05               0 -62.976084  ...          0   \n1       0       1.543374e-05               0 -62.956141  ...          0   \n2       0       7.911717e-06               0 -90.207543  ...          0   \n3       0       3.357874e-05               0  -0.898112  ...          0   \n4       0       5.833380e-09               0 -34.881410  ...          0   \n\n   geological  healthcare  highway  historic  landuse  leisure  man_made  \\\n0           0           0        0         0        0        0         0   \n1           0           0        0         0        0        0         0   \n2           0           0        0         0        1        0         0   \n3           0           0        0         0        0        1         0   \n4           0           0        0         0        0        0         0   \n\n   military  vandalism  \n0         0       True  \n1         0       True  \n2         0       True  \n3         0       True  \n4         0       True  \n\n[5 rows x 55 columns]",
      "text/html": "<div>\n<style scoped>\n    .dataframe tbody tr th:only-of-type {\n        vertical-align: middle;\n    }\n\n    .dataframe tbody tr th {\n        vertical-align: top;\n    }\n\n    .dataframe thead th {\n        text-align: right;\n    }\n</style>\n<table border=\"1\" class=\"dataframe\">\n  <thead>\n    <tr style=\"text-align: right;\">\n      <th></th>\n      <th>user_id</th>\n      <th>user_edit_frequency</th>\n      <th>editor_used</th>\n      <th>area_delta</th>\n      <th>length_delta</th>\n      <th>area</th>\n      <th>length</th>\n      <th>bounding_box_size</th>\n      <th>geometry_valid</th>\n      <th>xmax</th>\n      <th>...</th>\n      <th>emergency</th>\n      <th>geological</th>\n      <th>healthcare</th>\n      <th>highway</th>\n      <th>historic</th>\n      <th>landuse</th>\n      <th>leisure</th>\n      <th>man_made</th>\n      <th>military</th>\n      <th>vandalism</th>\n    </tr>\n  </thead>\n  <tbody>\n    <tr>\n      <th>0</th>\n      <td>2377515</td>\n      <td>32.000000</td>\n      <td>iD 1.5.4</td>\n      <td>-597</td>\n      <td>0</td>\n      <td>0</td>\n      <td>0</td>\n      <td>1.180083e-05</td>\n      <td>0</td>\n      <td>-62.976084</td>\n      <td>...</td>\n      <td>0</td>\n      <td>0</td>\n      <td>0</td>\n      <td>0</td>\n      <td>0</td>\n      <td>0</td>\n      <td>0</td>\n      <td>0</td>\n      <td>0</td>\n      <td>True</td>\n    </tr>\n    <tr>\n      <th>1</th>\n      <td>2377515</td>\n      <td>32.000000</td>\n      <td>iD 1.5.4</td>\n      <td>-661</td>\n      <td>0</td>\n      <td>0</td>\n      <td>0</td>\n      <td>1.543374e-05</td>\n      <td>0</td>\n      <td>-62.956141</td>\n      <td>...</td>\n      <td>0</td>\n      <td>0</td>\n      <td>0</td>\n      <td>0</td>\n      <td>0</td>\n      <td>0</td>\n      <td>0</td>\n      <td>0</td>\n      <td>0</td>\n      <td>True</td>\n    </tr>\n    <tr>\n      <th>2</th>\n      <td>6335199</td>\n      <td>5.490196</td>\n      <td>iD 2.5.1</td>\n      <td>-6351</td>\n      <td>0</td>\n      <td>0</td>\n      <td>0</td>\n      <td>7.911717e-06</td>\n      <td>0</td>\n      <td>-90.207543</td>\n      <td>...</td>\n      <td>0</td>\n      <td>0</td>\n      <td>0</td>\n      <td>0</td>\n      <td>0</td>\n      <td>1</td>\n      <td>0</td>\n      <td>0</td>\n      <td>0</td>\n      <td>True</td>\n    </tr>\n    <tr>\n      <th>3</th>\n      <td>5193146</td>\n      <td>3.762032</td>\n      <td>JOSM</td>\n      <td>-60560</td>\n      <td>0</td>\n      <td>0</td>\n      <td>0</td>\n      <td>3.357874e-05</td>\n      <td>0</td>\n      <td>-0.898112</td>\n      <td>...</td>\n      <td>0</td>\n      <td>0</td>\n      <td>0</td>\n      <td>0</td>\n      <td>0</td>\n      <td>0</td>\n      <td>1</td>\n      <td>0</td>\n      <td>0</td>\n      <td>True</td>\n    </tr>\n    <tr>\n      <th>4</th>\n      <td>3149129</td>\n      <td>3791.000000</td>\n      <td>JOSM</td>\n      <td>-47</td>\n      <td>0</td>\n      <td>0</td>\n      <td>0</td>\n      <td>5.833380e-09</td>\n      <td>0</td>\n      <td>-34.881410</td>\n      <td>...</td>\n      <td>0</td>\n      <td>0</td>\n      <td>0</td>\n      <td>0</td>\n      <td>0</td>\n      <td>0</td>\n      <td>0</td>\n      <td>0</td>\n      <td>0</td>\n      <td>True</td>\n    </tr>\n  </tbody>\n</table>\n<p>5 rows × 55 columns</p>\n</div>"
     },
     "execution_count": 75,
     "metadata": {},
     "output_type": "execute_result"
    }
   ],
   "source": [
    "features_df.head()"
   ],
   "metadata": {
    "collapsed": false,
    "ExecuteTime": {
     "end_time": "2024-10-23T12:53:22.851074Z",
     "start_time": "2024-10-23T12:53:22.832415400Z"
    }
   },
   "id": "d4317f4d19642e42"
  },
  {
   "cell_type": "code",
   "execution_count": 76,
   "outputs": [
    {
     "data": {
      "text/plain": "   user_id  user_edit_frequency editor_used  area_delta  length_delta  area  \\\n0  2377515            32.000000    iD 1.5.4        -597             0     0   \n1  2377515            32.000000    iD 1.5.4        -661             0     0   \n2  6335199             5.490196    iD 2.5.1       -6351             0     0   \n3  5193146             3.762032        JOSM      -60560             0     0   \n4  3149129          3791.000000        JOSM         -47             0     0   \n\n   length  bounding_box_size  geometry_valid       xmax  ...  healthcare  \\\n0       0       1.180083e-05               0 -62.976084  ...           0   \n1       0       1.543374e-05               0 -62.956141  ...           0   \n2       0       7.911717e-06               0 -90.207543  ...           0   \n3       0       3.357874e-05               0  -0.898112  ...           0   \n4       0       5.833380e-09               0 -34.881410  ...           0   \n\n   highway  historic  landuse  leisure  man_made  military  vandalism  \\\n0        0         0        0        0         0         0       True   \n1        0         0        0        0         0         0       True   \n2        0         0        1        0         0         0       True   \n3        0         0        0        1         0         0       True   \n4        0         0        0        0         0         0       True   \n\n         code  level  \n0   384395826     14  \n1   384395847     14  \n2  3209861041     15  \n3  3576265364     15  \n4  1391593370     16  \n\n[5 rows x 56 columns]",
      "text/html": "<div>\n<style scoped>\n    .dataframe tbody tr th:only-of-type {\n        vertical-align: middle;\n    }\n\n    .dataframe tbody tr th {\n        vertical-align: top;\n    }\n\n    .dataframe thead th {\n        text-align: right;\n    }\n</style>\n<table border=\"1\" class=\"dataframe\">\n  <thead>\n    <tr style=\"text-align: right;\">\n      <th></th>\n      <th>user_id</th>\n      <th>user_edit_frequency</th>\n      <th>editor_used</th>\n      <th>area_delta</th>\n      <th>length_delta</th>\n      <th>area</th>\n      <th>length</th>\n      <th>bounding_box_size</th>\n      <th>geometry_valid</th>\n      <th>xmax</th>\n      <th>...</th>\n      <th>healthcare</th>\n      <th>highway</th>\n      <th>historic</th>\n      <th>landuse</th>\n      <th>leisure</th>\n      <th>man_made</th>\n      <th>military</th>\n      <th>vandalism</th>\n      <th>code</th>\n      <th>level</th>\n    </tr>\n  </thead>\n  <tbody>\n    <tr>\n      <th>0</th>\n      <td>2377515</td>\n      <td>32.000000</td>\n      <td>iD 1.5.4</td>\n      <td>-597</td>\n      <td>0</td>\n      <td>0</td>\n      <td>0</td>\n      <td>1.180083e-05</td>\n      <td>0</td>\n      <td>-62.976084</td>\n      <td>...</td>\n      <td>0</td>\n      <td>0</td>\n      <td>0</td>\n      <td>0</td>\n      <td>0</td>\n      <td>0</td>\n      <td>0</td>\n      <td>True</td>\n      <td>384395826</td>\n      <td>14</td>\n    </tr>\n    <tr>\n      <th>1</th>\n      <td>2377515</td>\n      <td>32.000000</td>\n      <td>iD 1.5.4</td>\n      <td>-661</td>\n      <td>0</td>\n      <td>0</td>\n      <td>0</td>\n      <td>1.543374e-05</td>\n      <td>0</td>\n      <td>-62.956141</td>\n      <td>...</td>\n      <td>0</td>\n      <td>0</td>\n      <td>0</td>\n      <td>0</td>\n      <td>0</td>\n      <td>0</td>\n      <td>0</td>\n      <td>True</td>\n      <td>384395847</td>\n      <td>14</td>\n    </tr>\n    <tr>\n      <th>2</th>\n      <td>6335199</td>\n      <td>5.490196</td>\n      <td>iD 2.5.1</td>\n      <td>-6351</td>\n      <td>0</td>\n      <td>0</td>\n      <td>0</td>\n      <td>7.911717e-06</td>\n      <td>0</td>\n      <td>-90.207543</td>\n      <td>...</td>\n      <td>0</td>\n      <td>0</td>\n      <td>0</td>\n      <td>1</td>\n      <td>0</td>\n      <td>0</td>\n      <td>0</td>\n      <td>True</td>\n      <td>3209861041</td>\n      <td>15</td>\n    </tr>\n    <tr>\n      <th>3</th>\n      <td>5193146</td>\n      <td>3.762032</td>\n      <td>JOSM</td>\n      <td>-60560</td>\n      <td>0</td>\n      <td>0</td>\n      <td>0</td>\n      <td>3.357874e-05</td>\n      <td>0</td>\n      <td>-0.898112</td>\n      <td>...</td>\n      <td>0</td>\n      <td>0</td>\n      <td>0</td>\n      <td>0</td>\n      <td>1</td>\n      <td>0</td>\n      <td>0</td>\n      <td>True</td>\n      <td>3576265364</td>\n      <td>15</td>\n    </tr>\n    <tr>\n      <th>4</th>\n      <td>3149129</td>\n      <td>3791.000000</td>\n      <td>JOSM</td>\n      <td>-47</td>\n      <td>0</td>\n      <td>0</td>\n      <td>0</td>\n      <td>5.833380e-09</td>\n      <td>0</td>\n      <td>-34.881410</td>\n      <td>...</td>\n      <td>0</td>\n      <td>0</td>\n      <td>0</td>\n      <td>0</td>\n      <td>0</td>\n      <td>0</td>\n      <td>0</td>\n      <td>True</td>\n      <td>1391593370</td>\n      <td>16</td>\n    </tr>\n  </tbody>\n</table>\n<p>5 rows × 56 columns</p>\n</div>"
     },
     "execution_count": 76,
     "metadata": {},
     "output_type": "execute_result"
    }
   ],
   "source": [
    "if features_df.columns.__contains__('xzcode'):\n",
    "    # Split 'xzcode' column into two separate columns 'code' and 'level'\n",
    "    features_df[['code', 'level']] = pd.json_normalize(features_df['xzcode'])\n",
    "    features_df.drop('xzcode', axis=1, inplace=True)\n",
    "features_df.head()"
   ],
   "metadata": {
    "collapsed": false,
    "ExecuteTime": {
     "end_time": "2024-10-23T12:53:23.912270800Z",
     "start_time": "2024-10-23T12:53:22.847057100Z"
    }
   },
   "id": "a85b762553f72634"
  },
  {
   "cell_type": "code",
   "execution_count": 77,
   "outputs": [
    {
     "data": {
      "text/plain": "array([None], dtype=object)"
     },
     "execution_count": 77,
     "metadata": {},
     "output_type": "execute_result"
    }
   ],
   "source": [
    "features_df.members.unique()"
   ],
   "metadata": {
    "collapsed": false,
    "ExecuteTime": {
     "end_time": "2024-10-23T12:53:23.931712600Z",
     "start_time": "2024-10-23T12:53:23.914310900Z"
    }
   },
   "id": "210e4a555fe354f1"
  },
  {
   "cell_type": "code",
   "execution_count": 78,
   "outputs": [
    {
     "data": {
      "text/plain": "   user_id  user_edit_frequency editor_used  area_delta  length_delta  area  \\\n0  2377515            32.000000    iD 1.5.4        -597             0     0   \n1  2377515            32.000000    iD 1.5.4        -661             0     0   \n2  6335199             5.490196    iD 2.5.1       -6351             0     0   \n3  5193146             3.762032        JOSM      -60560             0     0   \n4  3149129          3791.000000        JOSM         -47             0     0   \n\n   length  bounding_box_size  geometry_valid       xmax  ...  healthcare  \\\n0       0       1.180083e-05               0 -62.976084  ...           0   \n1       0       1.543374e-05               0 -62.956141  ...           0   \n2       0       7.911717e-06               0 -90.207543  ...           0   \n3       0       3.357874e-05               0  -0.898112  ...           0   \n4       0       5.833380e-09               0 -34.881410  ...           0   \n\n   highway  historic  landuse  leisure  man_made  military  vandalism  \\\n0        0         0        0        0         0         0       True   \n1        0         0        0        0         0         0       True   \n2        0         0        1        0         0         0       True   \n3        0         0        0        1         0         0       True   \n4        0         0        0        0         0         0       True   \n\n         code  level  \n0   384395826     14  \n1   384395847     14  \n2  3209861041     15  \n3  3576265364     15  \n4  1391593370     16  \n\n[5 rows x 54 columns]",
      "text/html": "<div>\n<style scoped>\n    .dataframe tbody tr th:only-of-type {\n        vertical-align: middle;\n    }\n\n    .dataframe tbody tr th {\n        vertical-align: top;\n    }\n\n    .dataframe thead th {\n        text-align: right;\n    }\n</style>\n<table border=\"1\" class=\"dataframe\">\n  <thead>\n    <tr style=\"text-align: right;\">\n      <th></th>\n      <th>user_id</th>\n      <th>user_edit_frequency</th>\n      <th>editor_used</th>\n      <th>area_delta</th>\n      <th>length_delta</th>\n      <th>area</th>\n      <th>length</th>\n      <th>bounding_box_size</th>\n      <th>geometry_valid</th>\n      <th>xmax</th>\n      <th>...</th>\n      <th>healthcare</th>\n      <th>highway</th>\n      <th>historic</th>\n      <th>landuse</th>\n      <th>leisure</th>\n      <th>man_made</th>\n      <th>military</th>\n      <th>vandalism</th>\n      <th>code</th>\n      <th>level</th>\n    </tr>\n  </thead>\n  <tbody>\n    <tr>\n      <th>0</th>\n      <td>2377515</td>\n      <td>32.000000</td>\n      <td>iD 1.5.4</td>\n      <td>-597</td>\n      <td>0</td>\n      <td>0</td>\n      <td>0</td>\n      <td>1.180083e-05</td>\n      <td>0</td>\n      <td>-62.976084</td>\n      <td>...</td>\n      <td>0</td>\n      <td>0</td>\n      <td>0</td>\n      <td>0</td>\n      <td>0</td>\n      <td>0</td>\n      <td>0</td>\n      <td>True</td>\n      <td>384395826</td>\n      <td>14</td>\n    </tr>\n    <tr>\n      <th>1</th>\n      <td>2377515</td>\n      <td>32.000000</td>\n      <td>iD 1.5.4</td>\n      <td>-661</td>\n      <td>0</td>\n      <td>0</td>\n      <td>0</td>\n      <td>1.543374e-05</td>\n      <td>0</td>\n      <td>-62.956141</td>\n      <td>...</td>\n      <td>0</td>\n      <td>0</td>\n      <td>0</td>\n      <td>0</td>\n      <td>0</td>\n      <td>0</td>\n      <td>0</td>\n      <td>True</td>\n      <td>384395847</td>\n      <td>14</td>\n    </tr>\n    <tr>\n      <th>2</th>\n      <td>6335199</td>\n      <td>5.490196</td>\n      <td>iD 2.5.1</td>\n      <td>-6351</td>\n      <td>0</td>\n      <td>0</td>\n      <td>0</td>\n      <td>7.911717e-06</td>\n      <td>0</td>\n      <td>-90.207543</td>\n      <td>...</td>\n      <td>0</td>\n      <td>0</td>\n      <td>0</td>\n      <td>1</td>\n      <td>0</td>\n      <td>0</td>\n      <td>0</td>\n      <td>True</td>\n      <td>3209861041</td>\n      <td>15</td>\n    </tr>\n    <tr>\n      <th>3</th>\n      <td>5193146</td>\n      <td>3.762032</td>\n      <td>JOSM</td>\n      <td>-60560</td>\n      <td>0</td>\n      <td>0</td>\n      <td>0</td>\n      <td>3.357874e-05</td>\n      <td>0</td>\n      <td>-0.898112</td>\n      <td>...</td>\n      <td>0</td>\n      <td>0</td>\n      <td>0</td>\n      <td>0</td>\n      <td>1</td>\n      <td>0</td>\n      <td>0</td>\n      <td>True</td>\n      <td>3576265364</td>\n      <td>15</td>\n    </tr>\n    <tr>\n      <th>4</th>\n      <td>3149129</td>\n      <td>3791.000000</td>\n      <td>JOSM</td>\n      <td>-47</td>\n      <td>0</td>\n      <td>0</td>\n      <td>0</td>\n      <td>5.833380e-09</td>\n      <td>0</td>\n      <td>-34.881410</td>\n      <td>...</td>\n      <td>0</td>\n      <td>0</td>\n      <td>0</td>\n      <td>0</td>\n      <td>0</td>\n      <td>0</td>\n      <td>0</td>\n      <td>True</td>\n      <td>1391593370</td>\n      <td>16</td>\n    </tr>\n  </tbody>\n</table>\n<p>5 rows × 54 columns</p>\n</div>"
     },
     "execution_count": 78,
     "metadata": {},
     "output_type": "execute_result"
    }
   ],
   "source": [
    "if features_df.columns.__contains__('geometry'):\n",
    "    features_df.drop('geometry', axis=1, inplace=True)\n",
    "    \n",
    "if features_df.columns.__contains__('osm_id'):\n",
    "    features_df.drop('osm_id', axis=1, inplace=True)\n",
    "    \n",
    "    \n",
    "if features_df.columns.__contains__('members'):\n",
    "    features_df.drop('members', axis=1, inplace=True)\n",
    "    \n",
    "features_df.head()"
   ],
   "metadata": {
    "collapsed": false,
    "ExecuteTime": {
     "end_time": "2024-10-23T12:53:24.142823500Z",
     "start_time": "2024-10-23T12:53:23.925709900Z"
    }
   },
   "id": "a5e03bd1300cda47"
  },
  {
   "cell_type": "code",
   "execution_count": 79,
   "outputs": [
    {
     "data": {
      "text/plain": "   user_id  user_edit_frequency editor_used  area_delta  length_delta  area  \\\n0  2377515            32.000000    iD 1.5.4        -597             0     0   \n1  2377515            32.000000    iD 1.5.4        -661             0     0   \n2  6335199             5.490196    iD 2.5.1       -6351             0     0   \n3  5193146             3.762032        JOSM      -60560             0     0   \n4  3149129          3791.000000        JOSM         -47             0     0   \n\n   length  bounding_box_size  geometry_valid       xmax  ...  healthcare  \\\n0       0       1.180083e-05               0 -62.976084  ...           0   \n1       0       1.543374e-05               0 -62.956141  ...           0   \n2       0       7.911717e-06               0 -90.207543  ...           0   \n3       0       3.357874e-05               0  -0.898112  ...           0   \n4       0       5.833380e-09               0 -34.881410  ...           0   \n\n   highway  historic  landuse  leisure  man_made  military  vandalism  \\\n0        0         0        0        0         0         0       True   \n1        0         0        0        0         0         0       True   \n2        0         0        1        0         0         0       True   \n3        0         0        0        1         0         0       True   \n4        0         0        0        0         0         0       True   \n\n         code  level  \n0   384395826     14  \n1   384395847     14  \n2  3209861041     15  \n3  3576265364     15  \n4  1391593370     16  \n\n[5 rows x 54 columns]",
      "text/html": "<div>\n<style scoped>\n    .dataframe tbody tr th:only-of-type {\n        vertical-align: middle;\n    }\n\n    .dataframe tbody tr th {\n        vertical-align: top;\n    }\n\n    .dataframe thead th {\n        text-align: right;\n    }\n</style>\n<table border=\"1\" class=\"dataframe\">\n  <thead>\n    <tr style=\"text-align: right;\">\n      <th></th>\n      <th>user_id</th>\n      <th>user_edit_frequency</th>\n      <th>editor_used</th>\n      <th>area_delta</th>\n      <th>length_delta</th>\n      <th>area</th>\n      <th>length</th>\n      <th>bounding_box_size</th>\n      <th>geometry_valid</th>\n      <th>xmax</th>\n      <th>...</th>\n      <th>healthcare</th>\n      <th>highway</th>\n      <th>historic</th>\n      <th>landuse</th>\n      <th>leisure</th>\n      <th>man_made</th>\n      <th>military</th>\n      <th>vandalism</th>\n      <th>code</th>\n      <th>level</th>\n    </tr>\n  </thead>\n  <tbody>\n    <tr>\n      <th>0</th>\n      <td>2377515</td>\n      <td>32.000000</td>\n      <td>iD 1.5.4</td>\n      <td>-597</td>\n      <td>0</td>\n      <td>0</td>\n      <td>0</td>\n      <td>1.180083e-05</td>\n      <td>0</td>\n      <td>-62.976084</td>\n      <td>...</td>\n      <td>0</td>\n      <td>0</td>\n      <td>0</td>\n      <td>0</td>\n      <td>0</td>\n      <td>0</td>\n      <td>0</td>\n      <td>True</td>\n      <td>384395826</td>\n      <td>14</td>\n    </tr>\n    <tr>\n      <th>1</th>\n      <td>2377515</td>\n      <td>32.000000</td>\n      <td>iD 1.5.4</td>\n      <td>-661</td>\n      <td>0</td>\n      <td>0</td>\n      <td>0</td>\n      <td>1.543374e-05</td>\n      <td>0</td>\n      <td>-62.956141</td>\n      <td>...</td>\n      <td>0</td>\n      <td>0</td>\n      <td>0</td>\n      <td>0</td>\n      <td>0</td>\n      <td>0</td>\n      <td>0</td>\n      <td>True</td>\n      <td>384395847</td>\n      <td>14</td>\n    </tr>\n    <tr>\n      <th>2</th>\n      <td>6335199</td>\n      <td>5.490196</td>\n      <td>iD 2.5.1</td>\n      <td>-6351</td>\n      <td>0</td>\n      <td>0</td>\n      <td>0</td>\n      <td>7.911717e-06</td>\n      <td>0</td>\n      <td>-90.207543</td>\n      <td>...</td>\n      <td>0</td>\n      <td>0</td>\n      <td>0</td>\n      <td>1</td>\n      <td>0</td>\n      <td>0</td>\n      <td>0</td>\n      <td>True</td>\n      <td>3209861041</td>\n      <td>15</td>\n    </tr>\n    <tr>\n      <th>3</th>\n      <td>5193146</td>\n      <td>3.762032</td>\n      <td>JOSM</td>\n      <td>-60560</td>\n      <td>0</td>\n      <td>0</td>\n      <td>0</td>\n      <td>3.357874e-05</td>\n      <td>0</td>\n      <td>-0.898112</td>\n      <td>...</td>\n      <td>0</td>\n      <td>0</td>\n      <td>0</td>\n      <td>0</td>\n      <td>1</td>\n      <td>0</td>\n      <td>0</td>\n      <td>True</td>\n      <td>3576265364</td>\n      <td>15</td>\n    </tr>\n    <tr>\n      <th>4</th>\n      <td>3149129</td>\n      <td>3791.000000</td>\n      <td>JOSM</td>\n      <td>-47</td>\n      <td>0</td>\n      <td>0</td>\n      <td>0</td>\n      <td>5.833380e-09</td>\n      <td>0</td>\n      <td>-34.881410</td>\n      <td>...</td>\n      <td>0</td>\n      <td>0</td>\n      <td>0</td>\n      <td>0</td>\n      <td>0</td>\n      <td>0</td>\n      <td>0</td>\n      <td>True</td>\n      <td>1391593370</td>\n      <td>16</td>\n    </tr>\n  </tbody>\n</table>\n<p>5 rows × 54 columns</p>\n</div>"
     },
     "execution_count": 79,
     "metadata": {},
     "output_type": "execute_result"
    }
   ],
   "source": [
    "features_df.columns = features_df.columns.str.replace(' ', '_', regex=True)\n",
    "features_df.head()"
   ],
   "metadata": {
    "collapsed": false,
    "ExecuteTime": {
     "end_time": "2024-10-23T12:53:24.152961600Z",
     "start_time": "2024-10-23T12:53:24.135830800Z"
    }
   },
   "id": "b565298736848be7"
  },
  {
   "cell_type": "code",
   "execution_count": 80,
   "outputs": [
    {
     "data": {
      "text/plain": "   user_id  user_edit_frequency editor_used  area_delta  length_delta  area  \\\n0  2377515            32.000000    iD 1.5.4        -597             0     0   \n1  2377515            32.000000    iD 1.5.4        -661             0     0   \n2  6335199             5.490196    iD 2.5.1       -6351             0     0   \n3  5193146             3.762032        JOSM      -60560             0     0   \n4  3149129          3791.000000        JOSM         -47             0     0   \n\n   length  bounding_box_size  geometry_valid       xmax  ...  geological  \\\n0       0       1.180083e-05               0 -62.976084  ...           0   \n1       0       1.543374e-05               0 -62.956141  ...           0   \n2       0       7.911717e-06               0 -90.207543  ...           0   \n3       0       3.357874e-05               0  -0.898112  ...           0   \n4       0       5.833380e-09               0 -34.881410  ...           0   \n\n   healthcare  highway  historic  landuse  leisure  man_made  military  \\\n0           0        0         0        0        0         0         0   \n1           0        0         0        0        0         0         0   \n2           0        0         0        1        0         0         0   \n3           0        0         0        0        1         0         0   \n4           0        0         0        0        0         0         0   \n\n         code  level  \n0   384395826     14  \n1   384395847     14  \n2  3209861041     15  \n3  3576265364     15  \n4  1391593370     16  \n\n[5 rows x 53 columns]",
      "text/html": "<div>\n<style scoped>\n    .dataframe tbody tr th:only-of-type {\n        vertical-align: middle;\n    }\n\n    .dataframe tbody tr th {\n        vertical-align: top;\n    }\n\n    .dataframe thead th {\n        text-align: right;\n    }\n</style>\n<table border=\"1\" class=\"dataframe\">\n  <thead>\n    <tr style=\"text-align: right;\">\n      <th></th>\n      <th>user_id</th>\n      <th>user_edit_frequency</th>\n      <th>editor_used</th>\n      <th>area_delta</th>\n      <th>length_delta</th>\n      <th>area</th>\n      <th>length</th>\n      <th>bounding_box_size</th>\n      <th>geometry_valid</th>\n      <th>xmax</th>\n      <th>...</th>\n      <th>geological</th>\n      <th>healthcare</th>\n      <th>highway</th>\n      <th>historic</th>\n      <th>landuse</th>\n      <th>leisure</th>\n      <th>man_made</th>\n      <th>military</th>\n      <th>code</th>\n      <th>level</th>\n    </tr>\n  </thead>\n  <tbody>\n    <tr>\n      <th>0</th>\n      <td>2377515</td>\n      <td>32.000000</td>\n      <td>iD 1.5.4</td>\n      <td>-597</td>\n      <td>0</td>\n      <td>0</td>\n      <td>0</td>\n      <td>1.180083e-05</td>\n      <td>0</td>\n      <td>-62.976084</td>\n      <td>...</td>\n      <td>0</td>\n      <td>0</td>\n      <td>0</td>\n      <td>0</td>\n      <td>0</td>\n      <td>0</td>\n      <td>0</td>\n      <td>0</td>\n      <td>384395826</td>\n      <td>14</td>\n    </tr>\n    <tr>\n      <th>1</th>\n      <td>2377515</td>\n      <td>32.000000</td>\n      <td>iD 1.5.4</td>\n      <td>-661</td>\n      <td>0</td>\n      <td>0</td>\n      <td>0</td>\n      <td>1.543374e-05</td>\n      <td>0</td>\n      <td>-62.956141</td>\n      <td>...</td>\n      <td>0</td>\n      <td>0</td>\n      <td>0</td>\n      <td>0</td>\n      <td>0</td>\n      <td>0</td>\n      <td>0</td>\n      <td>0</td>\n      <td>384395847</td>\n      <td>14</td>\n    </tr>\n    <tr>\n      <th>2</th>\n      <td>6335199</td>\n      <td>5.490196</td>\n      <td>iD 2.5.1</td>\n      <td>-6351</td>\n      <td>0</td>\n      <td>0</td>\n      <td>0</td>\n      <td>7.911717e-06</td>\n      <td>0</td>\n      <td>-90.207543</td>\n      <td>...</td>\n      <td>0</td>\n      <td>0</td>\n      <td>0</td>\n      <td>0</td>\n      <td>1</td>\n      <td>0</td>\n      <td>0</td>\n      <td>0</td>\n      <td>3209861041</td>\n      <td>15</td>\n    </tr>\n    <tr>\n      <th>3</th>\n      <td>5193146</td>\n      <td>3.762032</td>\n      <td>JOSM</td>\n      <td>-60560</td>\n      <td>0</td>\n      <td>0</td>\n      <td>0</td>\n      <td>3.357874e-05</td>\n      <td>0</td>\n      <td>-0.898112</td>\n      <td>...</td>\n      <td>0</td>\n      <td>0</td>\n      <td>0</td>\n      <td>0</td>\n      <td>0</td>\n      <td>1</td>\n      <td>0</td>\n      <td>0</td>\n      <td>3576265364</td>\n      <td>15</td>\n    </tr>\n    <tr>\n      <th>4</th>\n      <td>3149129</td>\n      <td>3791.000000</td>\n      <td>JOSM</td>\n      <td>-47</td>\n      <td>0</td>\n      <td>0</td>\n      <td>0</td>\n      <td>5.833380e-09</td>\n      <td>0</td>\n      <td>-34.881410</td>\n      <td>...</td>\n      <td>0</td>\n      <td>0</td>\n      <td>0</td>\n      <td>0</td>\n      <td>0</td>\n      <td>0</td>\n      <td>0</td>\n      <td>0</td>\n      <td>1391593370</td>\n      <td>16</td>\n    </tr>\n  </tbody>\n</table>\n<p>5 rows × 53 columns</p>\n</div>"
     },
     "execution_count": 80,
     "metadata": {},
     "output_type": "execute_result"
    }
   ],
   "source": [
    "X = features_df.drop('vandalism', axis=1).copy()\n",
    "X.head()"
   ],
   "metadata": {
    "collapsed": false,
    "ExecuteTime": {
     "end_time": "2024-10-23T12:53:24.585501Z",
     "start_time": "2024-10-23T12:53:24.147963100Z"
    }
   },
   "id": "9feca52c8c7dbd38"
  },
  {
   "cell_type": "code",
   "execution_count": 81,
   "outputs": [
    {
     "data": {
      "text/plain": "0    True\n1    True\n2    True\n3    True\n4    True\nName: vandalism, dtype: bool"
     },
     "execution_count": 81,
     "metadata": {},
     "output_type": "execute_result"
    }
   ],
   "source": [
    "y = features_df['vandalism'].copy()\n",
    "y.head()"
   ],
   "metadata": {
    "collapsed": false,
    "ExecuteTime": {
     "end_time": "2024-10-23T12:53:24.586501500Z",
     "start_time": "2024-10-23T12:53:24.579662200Z"
    }
   },
   "id": "1a515c83cd3d9582"
  },
  {
   "cell_type": "code",
   "execution_count": 82,
   "outputs": [
    {
     "data": {
      "text/plain": "   user_id  user_edit_frequency  area_delta  length_delta  area  length  \\\n0  2377515            32.000000        -597             0     0       0   \n1  2377515            32.000000        -661             0     0       0   \n2  6335199             5.490196       -6351             0     0       0   \n3  5193146             3.762032      -60560             0     0       0   \n4  3149129          3791.000000         -47             0     0       0   \n\n   bounding_box_size       xmax       xmin       ymax  ...  osm_type_way  \\\n0       1.180083e-05 -62.976084 -62.996941 -84.906087  ...          True   \n1       1.543374e-05 -62.956141 -62.975782 -84.905873  ...          True   \n2       7.911717e-06 -90.207543 -90.209129  38.525163  ...          True   \n3       3.357874e-05  -0.898112  -0.907923  41.659127  ...          True   \n4       5.833380e-09 -34.881410 -34.881507  -8.043102  ...          True   \n\n   contribution_type_CREATED  contribution_type_DELETED  \\\n0                      False                       True   \n1                      False                       True   \n2                      False                       True   \n3                      False                       True   \n4                      False                       True   \n\n   contribution_type_GEOMETRY  contribution_type_NONE  contribution_type_TAG  \\\n0                       False                   False                  False   \n1                       False                   False                  False   \n2                       False                   False                  False   \n3                       False                   False                  False   \n4                       False                   False                  False   \n\n   contribution_type_TAG_GEOMETRY  status_deleted  status_history  \\\n0                           False            True           False   \n1                           False            True           False   \n2                           False            True           False   \n3                           False            True           False   \n4                           False            True           False   \n\n   status_latest  \n0          False  \n1          False  \n2          False  \n3          False  \n4          False  \n\n[5 rows x 586 columns]",
      "text/html": "<div>\n<style scoped>\n    .dataframe tbody tr th:only-of-type {\n        vertical-align: middle;\n    }\n\n    .dataframe tbody tr th {\n        vertical-align: top;\n    }\n\n    .dataframe thead th {\n        text-align: right;\n    }\n</style>\n<table border=\"1\" class=\"dataframe\">\n  <thead>\n    <tr style=\"text-align: right;\">\n      <th></th>\n      <th>user_id</th>\n      <th>user_edit_frequency</th>\n      <th>area_delta</th>\n      <th>length_delta</th>\n      <th>area</th>\n      <th>length</th>\n      <th>bounding_box_size</th>\n      <th>xmax</th>\n      <th>xmin</th>\n      <th>ymax</th>\n      <th>...</th>\n      <th>osm_type_way</th>\n      <th>contribution_type_CREATED</th>\n      <th>contribution_type_DELETED</th>\n      <th>contribution_type_GEOMETRY</th>\n      <th>contribution_type_NONE</th>\n      <th>contribution_type_TAG</th>\n      <th>contribution_type_TAG_GEOMETRY</th>\n      <th>status_deleted</th>\n      <th>status_history</th>\n      <th>status_latest</th>\n    </tr>\n  </thead>\n  <tbody>\n    <tr>\n      <th>0</th>\n      <td>2377515</td>\n      <td>32.000000</td>\n      <td>-597</td>\n      <td>0</td>\n      <td>0</td>\n      <td>0</td>\n      <td>1.180083e-05</td>\n      <td>-62.976084</td>\n      <td>-62.996941</td>\n      <td>-84.906087</td>\n      <td>...</td>\n      <td>True</td>\n      <td>False</td>\n      <td>True</td>\n      <td>False</td>\n      <td>False</td>\n      <td>False</td>\n      <td>False</td>\n      <td>True</td>\n      <td>False</td>\n      <td>False</td>\n    </tr>\n    <tr>\n      <th>1</th>\n      <td>2377515</td>\n      <td>32.000000</td>\n      <td>-661</td>\n      <td>0</td>\n      <td>0</td>\n      <td>0</td>\n      <td>1.543374e-05</td>\n      <td>-62.956141</td>\n      <td>-62.975782</td>\n      <td>-84.905873</td>\n      <td>...</td>\n      <td>True</td>\n      <td>False</td>\n      <td>True</td>\n      <td>False</td>\n      <td>False</td>\n      <td>False</td>\n      <td>False</td>\n      <td>True</td>\n      <td>False</td>\n      <td>False</td>\n    </tr>\n    <tr>\n      <th>2</th>\n      <td>6335199</td>\n      <td>5.490196</td>\n      <td>-6351</td>\n      <td>0</td>\n      <td>0</td>\n      <td>0</td>\n      <td>7.911717e-06</td>\n      <td>-90.207543</td>\n      <td>-90.209129</td>\n      <td>38.525163</td>\n      <td>...</td>\n      <td>True</td>\n      <td>False</td>\n      <td>True</td>\n      <td>False</td>\n      <td>False</td>\n      <td>False</td>\n      <td>False</td>\n      <td>True</td>\n      <td>False</td>\n      <td>False</td>\n    </tr>\n    <tr>\n      <th>3</th>\n      <td>5193146</td>\n      <td>3.762032</td>\n      <td>-60560</td>\n      <td>0</td>\n      <td>0</td>\n      <td>0</td>\n      <td>3.357874e-05</td>\n      <td>-0.898112</td>\n      <td>-0.907923</td>\n      <td>41.659127</td>\n      <td>...</td>\n      <td>True</td>\n      <td>False</td>\n      <td>True</td>\n      <td>False</td>\n      <td>False</td>\n      <td>False</td>\n      <td>False</td>\n      <td>True</td>\n      <td>False</td>\n      <td>False</td>\n    </tr>\n    <tr>\n      <th>4</th>\n      <td>3149129</td>\n      <td>3791.000000</td>\n      <td>-47</td>\n      <td>0</td>\n      <td>0</td>\n      <td>0</td>\n      <td>5.833380e-09</td>\n      <td>-34.881410</td>\n      <td>-34.881507</td>\n      <td>-8.043102</td>\n      <td>...</td>\n      <td>True</td>\n      <td>False</td>\n      <td>True</td>\n      <td>False</td>\n      <td>False</td>\n      <td>False</td>\n      <td>False</td>\n      <td>True</td>\n      <td>False</td>\n      <td>False</td>\n    </tr>\n  </tbody>\n</table>\n<p>5 rows × 586 columns</p>\n</div>"
     },
     "execution_count": 82,
     "metadata": {},
     "output_type": "execute_result"
    }
   ],
   "source": [
    "X_encoded = pd.get_dummies(X, columns=['source_reliability',\n",
    "                                       'historical_validity',\n",
    "                                       'country_count',\n",
    "                                       'population_changed',\n",
    "                                       'boundary_changed',\n",
    "                                       'name_changed',\n",
    "                                       'tags_modified',\n",
    "                                       'tags_added',\n",
    "                                       'tags_removed',\n",
    "                                       'edit_time_of_day',\n",
    "                                       'geometry_valid',\n",
    "                                       'editor_used',\n",
    "                                       'osm_type',\n",
    "                                       'contribution_type',\n",
    "                                       'status'])\n",
    "X_encoded.head()"
   ],
   "metadata": {
    "collapsed": false,
    "ExecuteTime": {
     "end_time": "2024-10-23T12:53:25.355584500Z",
     "start_time": "2024-10-23T12:53:24.587501Z"
    }
   },
   "id": "6da48135f8a0b83b"
  },
  {
   "cell_type": "code",
   "execution_count": 83,
   "outputs": [
    {
     "data": {
      "text/plain": "False"
     },
     "execution_count": 83,
     "metadata": {},
     "output_type": "execute_result"
    }
   ],
   "source": [
    "X_encoded.dtypes.__contains__('object')"
   ],
   "metadata": {
    "collapsed": false,
    "ExecuteTime": {
     "end_time": "2024-10-23T12:53:25.356583400Z",
     "start_time": "2024-10-23T12:53:25.338980400Z"
    }
   },
   "id": "82cae71ac507631b"
  },
  {
   "cell_type": "code",
   "execution_count": 84,
   "outputs": [
    {
     "name": "stderr",
     "output_type": "stream",
     "text": [
      "C:\\Users\\saise\\AppData\\Local\\Temp\\ipykernel_13948\\3107921932.py:2: FutureWarning: Downcasting behavior in `replace` is deprecated and will be removed in a future version. To retain the old behavior, explicitly call `result.infer_objects(copy=False)`. To opt-in to the future behavior, set `pd.set_option('future.no_silent_downcasting', True)`\n",
      "  y = y.replace(False, 0)\n"
     ]
    }
   ],
   "source": [
    "y = y.replace(True, 1)\n",
    "y = y.replace(False, 0)"
   ],
   "metadata": {
    "collapsed": false,
    "ExecuteTime": {
     "end_time": "2024-10-23T12:53:25.567983600Z",
     "start_time": "2024-10-23T12:53:25.350582500Z"
    }
   },
   "id": "641c26957721d7bf"
  },
  {
   "cell_type": "code",
   "execution_count": 85,
   "outputs": [
    {
     "data": {
      "text/plain": "dtype('int64')"
     },
     "execution_count": 85,
     "metadata": {},
     "output_type": "execute_result"
    }
   ],
   "source": [
    "y.dtype"
   ],
   "metadata": {
    "collapsed": false,
    "ExecuteTime": {
     "end_time": "2024-10-23T12:53:25.568983500Z",
     "start_time": "2024-10-23T12:53:25.537538900Z"
    }
   },
   "id": "aea3ef084a567421"
  },
  {
   "cell_type": "code",
   "execution_count": 86,
   "outputs": [
    {
     "data": {
      "text/plain": "0.6621638875411762"
     },
     "execution_count": 86,
     "metadata": {},
     "output_type": "execute_result"
    }
   ],
   "source": [
    "sum(y) / len(y)"
   ],
   "metadata": {
    "collapsed": false,
    "ExecuteTime": {
     "end_time": "2024-10-23T12:53:25.668201Z",
     "start_time": "2024-10-23T12:53:25.553984300Z"
    }
   },
   "id": "27df8089deab0f28"
  },
  {
   "cell_type": "code",
   "execution_count": 87,
   "outputs": [],
   "source": [
    "X_train, X_test, y_train, y_test = train_test_split(X_encoded, y, random_state=42, stratify=y)"
   ],
   "metadata": {
    "collapsed": false,
    "ExecuteTime": {
     "end_time": "2024-10-23T12:53:26.691904Z",
     "start_time": "2024-10-23T12:53:25.593670100Z"
    }
   },
   "id": "c7ac657f7818a200"
  },
  {
   "cell_type": "code",
   "execution_count": 88,
   "outputs": [
    {
     "name": "stdout",
     "output_type": "stream",
     "text": [
      "               Number of Samples  Number of Features\n",
      "X_train shape             352449                 586\n",
      "X_test shape              117483                 586\n",
      "y_train shape             352449              352449\n",
      "y_test shape              117483              117483\n"
     ]
    }
   ],
   "source": [
    "# Get the shapes of the datasets\n",
    "shapes = {\n",
    "    'X_train shape': X_train.shape,\n",
    "    'X_test shape': X_test.shape,\n",
    "    'y_train shape': y_train.shape,\n",
    "    'y_test shape': y_test.shape\n",
    "}\n",
    "\n",
    "# Convert shapes to DataFrame for better display\n",
    "shapes_df = pd.DataFrame(shapes, index=['Number of Samples', 'Number of Features']).T\n",
    "print(shapes_df)"
   ],
   "metadata": {
    "collapsed": false,
    "ExecuteTime": {
     "end_time": "2024-10-23T12:53:26.703867Z",
     "start_time": "2024-10-23T12:53:26.693904Z"
    }
   },
   "id": "cbe6642ebbf4df9e"
  },
  {
   "cell_type": "code",
   "execution_count": 89,
   "outputs": [
    {
     "data": {
      "text/plain": "0.6621638875411762"
     },
     "execution_count": 89,
     "metadata": {},
     "output_type": "execute_result"
    }
   ],
   "source": [
    "sum(y_train)/len(y_train)"
   ],
   "metadata": {
    "collapsed": false,
    "ExecuteTime": {
     "end_time": "2024-10-23T12:53:26.751390700Z",
     "start_time": "2024-10-23T12:53:26.700866500Z"
    }
   },
   "id": "b44319d4f4b10c37"
  },
  {
   "cell_type": "code",
   "execution_count": 90,
   "outputs": [
    {
     "data": {
      "text/plain": "0.6621638875411762"
     },
     "execution_count": 90,
     "metadata": {},
     "output_type": "execute_result"
    }
   ],
   "source": [
    "sum(y_test)/len(y_test)"
   ],
   "metadata": {
    "collapsed": false,
    "ExecuteTime": {
     "end_time": "2024-10-23T12:53:26.752387500Z",
     "start_time": "2024-10-23T12:53:26.725237700Z"
    }
   },
   "id": "bbc18b49297503de"
  },
  {
   "cell_type": "code",
   "execution_count": 91,
   "outputs": [
    {
     "name": "stdout",
     "output_type": "stream",
     "text": [
      "[0]\teval-aucpr:0.95554\teval-error:0.20160\n",
      "[1]\teval-aucpr:0.97030\teval-error:0.14794\n",
      "[2]\teval-aucpr:0.98102\teval-error:0.11248\n",
      "[3]\teval-aucpr:0.98296\teval-error:0.10394\n",
      "[4]\teval-aucpr:0.98398\teval-error:0.09724\n",
      "[5]\teval-aucpr:0.98606\teval-error:0.09063\n",
      "[6]\teval-aucpr:0.98706\teval-error:0.08387\n",
      "[7]\teval-aucpr:0.98784\teval-error:0.08079\n",
      "[8]\teval-aucpr:0.98825\teval-error:0.08155\n",
      "[9]\teval-aucpr:0.98858\teval-error:0.08024\n",
      "[10]\teval-aucpr:0.98878\teval-error:0.07852\n",
      "[11]\teval-aucpr:0.99047\teval-error:0.07053\n",
      "[12]\teval-aucpr:0.99077\teval-error:0.06973\n",
      "[13]\teval-aucpr:0.99117\teval-error:0.06890\n",
      "[14]\teval-aucpr:0.99212\teval-error:0.06186\n",
      "[15]\teval-aucpr:0.99229\teval-error:0.06060\n",
      "[16]\teval-aucpr:0.99233\teval-error:0.06079\n",
      "[17]\teval-aucpr:0.99279\teval-error:0.05705\n",
      "[18]\teval-aucpr:0.99325\teval-error:0.05477\n",
      "[19]\teval-aucpr:0.99342\teval-error:0.05378\n",
      "[20]\teval-aucpr:0.99364\teval-error:0.05268\n",
      "[21]\teval-aucpr:0.99391\teval-error:0.05116\n",
      "[22]\teval-aucpr:0.99423\teval-error:0.04998\n",
      "[23]\teval-aucpr:0.99433\teval-error:0.04954\n",
      "[24]\teval-aucpr:0.99446\teval-error:0.04874\n",
      "[25]\teval-aucpr:0.99481\teval-error:0.04842\n",
      "[26]\teval-aucpr:0.99498\teval-error:0.04750\n",
      "[27]\teval-aucpr:0.99508\teval-error:0.04741\n",
      "[28]\teval-aucpr:0.99516\teval-error:0.04718\n",
      "[29]\teval-aucpr:0.99550\teval-error:0.04510\n",
      "[30]\teval-aucpr:0.99558\teval-error:0.04473\n",
      "[31]\teval-aucpr:0.99567\teval-error:0.04439\n",
      "[32]\teval-aucpr:0.99573\teval-error:0.04374\n",
      "[33]\teval-aucpr:0.99578\teval-error:0.04346\n",
      "[34]\teval-aucpr:0.99590\teval-error:0.04230\n",
      "[35]\teval-aucpr:0.99600\teval-error:0.04141\n",
      "[36]\teval-aucpr:0.99661\teval-error:0.03825\n",
      "[37]\teval-aucpr:0.99679\teval-error:0.03723\n",
      "[38]\teval-aucpr:0.99693\teval-error:0.03625\n",
      "[39]\teval-aucpr:0.99724\teval-error:0.03303\n",
      "[40]\teval-aucpr:0.99731\teval-error:0.03269\n",
      "[41]\teval-aucpr:0.99734\teval-error:0.03265\n",
      "[42]\teval-aucpr:0.99755\teval-error:0.03051\n",
      "[43]\teval-aucpr:0.99766\teval-error:0.02959\n",
      "[44]\teval-aucpr:0.99787\teval-error:0.02783\n",
      "[45]\teval-aucpr:0.99793\teval-error:0.02757\n",
      "[46]\teval-aucpr:0.99805\teval-error:0.02669\n",
      "[47]\teval-aucpr:0.99813\teval-error:0.02554\n",
      "[48]\teval-aucpr:0.99819\teval-error:0.02534\n",
      "[49]\teval-aucpr:0.99822\teval-error:0.02489\n",
      "[50]\teval-aucpr:0.99824\teval-error:0.02458\n",
      "[51]\teval-aucpr:0.99827\teval-error:0.02448\n",
      "[52]\teval-aucpr:0.99828\teval-error:0.02426\n",
      "[53]\teval-aucpr:0.99833\teval-error:0.02399\n",
      "[54]\teval-aucpr:0.99836\teval-error:0.02388\n",
      "[55]\teval-aucpr:0.99837\teval-error:0.02394\n",
      "[56]\teval-aucpr:0.99838\teval-error:0.02392\n",
      "[57]\teval-aucpr:0.99840\teval-error:0.02366\n",
      "[58]\teval-aucpr:0.99842\teval-error:0.02352\n",
      "[59]\teval-aucpr:0.99843\teval-error:0.02347\n",
      "[60]\teval-aucpr:0.99844\teval-error:0.02347\n",
      "[61]\teval-aucpr:0.99848\teval-error:0.02307\n",
      "[62]\teval-aucpr:0.99849\teval-error:0.02300\n",
      "[63]\teval-aucpr:0.99854\teval-error:0.02265\n",
      "[64]\teval-aucpr:0.99854\teval-error:0.02265\n",
      "[65]\teval-aucpr:0.99860\teval-error:0.02207\n",
      "[66]\teval-aucpr:0.99863\teval-error:0.02172\n",
      "[67]\teval-aucpr:0.99866\teval-error:0.02118\n",
      "[68]\teval-aucpr:0.99868\teval-error:0.02095\n",
      "[69]\teval-aucpr:0.99869\teval-error:0.02085\n",
      "[70]\teval-aucpr:0.99871\teval-error:0.02073\n",
      "[71]\teval-aucpr:0.99872\teval-error:0.02071\n",
      "[72]\teval-aucpr:0.99873\teval-error:0.02062\n",
      "[73]\teval-aucpr:0.99876\teval-error:0.02033\n",
      "[74]\teval-aucpr:0.99880\teval-error:0.01959\n",
      "[75]\teval-aucpr:0.99881\teval-error:0.01957\n",
      "[76]\teval-aucpr:0.99881\teval-error:0.01954\n",
      "[77]\teval-aucpr:0.99881\teval-error:0.01946\n",
      "[78]\teval-aucpr:0.99881\teval-error:0.01945\n",
      "[79]\teval-aucpr:0.99883\teval-error:0.01931\n",
      "[80]\teval-aucpr:0.99887\teval-error:0.01903\n",
      "[81]\teval-aucpr:0.99892\teval-error:0.01843\n",
      "[82]\teval-aucpr:0.99896\teval-error:0.01796\n",
      "[83]\teval-aucpr:0.99899\teval-error:0.01767\n",
      "[84]\teval-aucpr:0.99901\teval-error:0.01725\n",
      "[85]\teval-aucpr:0.99901\teval-error:0.01733\n",
      "[86]\teval-aucpr:0.99902\teval-error:0.01736\n",
      "[87]\teval-aucpr:0.99902\teval-error:0.01732\n",
      "[88]\teval-aucpr:0.99903\teval-error:0.01726\n",
      "[89]\teval-aucpr:0.99907\teval-error:0.01659\n",
      "[90]\teval-aucpr:0.99908\teval-error:0.01640\n",
      "[91]\teval-aucpr:0.99908\teval-error:0.01634\n",
      "[92]\teval-aucpr:0.99909\teval-error:0.01638\n",
      "[93]\teval-aucpr:0.99910\teval-error:0.01629\n",
      "[94]\teval-aucpr:0.99911\teval-error:0.01616\n",
      "[95]\teval-aucpr:0.99915\teval-error:0.01564\n",
      "[96]\teval-aucpr:0.99920\teval-error:0.01519\n",
      "[97]\teval-aucpr:0.99924\teval-error:0.01483\n",
      "[98]\teval-aucpr:0.99927\teval-error:0.01453\n",
      "[99]\teval-aucpr:0.99927\teval-error:0.01447\n"
     ]
    }
   ],
   "source": [
    "import xgboost as xgb\n",
    "\n",
    "# Convert the datasets to DMatrix format\n",
    "dtrain = xgb.DMatrix(X_train, label=y_train)\n",
    "dtest = xgb.DMatrix(X_test, label=y_test)\n",
    "\n",
    "# Specify model parameters with both 'aucpr' and 'accuracy'\n",
    "params = {\n",
    "    'objective': 'binary:logistic',  # Binary classification\n",
    "    'eval_metric': ['aucpr', 'error'],  # 'error' is 1 - accuracy\n",
    "    'seed': 42\n",
    "}\n",
    "\n",
    "# Set up the evaluation set\n",
    "evals = [(dtest, 'eval')]\n",
    "\n",
    "# Train the model with early stopping\n",
    "bst = xgb.train(params, dtrain, num_boost_round=100, evals=evals,\n",
    "                early_stopping_rounds=15, verbose_eval=True)\n"
   ],
   "metadata": {
    "collapsed": false,
    "ExecuteTime": {
     "end_time": "2024-10-23T12:53:41.585629800Z",
     "start_time": "2024-10-23T12:53:26.735389Z"
    }
   },
   "id": "df1bdfd6fbcf91d8"
  },
  {
   "cell_type": "code",
   "execution_count": 92,
   "outputs": [],
   "source": [
    "# Make predictions on the test data\n",
    "y_pred_proba = bst.predict(dtest)  # Get predicted probabilities\n",
    "y_pred = np.where(y_pred_proba > 0.5, 1, 0)  # Convert probabilities to binary predictions"
   ],
   "metadata": {
    "collapsed": false,
    "ExecuteTime": {
     "end_time": "2024-10-23T12:53:41.652986500Z",
     "start_time": "2024-10-23T12:53:41.587630400Z"
    }
   },
   "id": "5e6dfa43fd7d84df"
  },
  {
   "cell_type": "code",
   "execution_count": 93,
   "outputs": [
    {
     "name": "stdout",
     "output_type": "stream",
     "text": [
      "\n",
      "Statistics:\n",
      "True Negatives (TN): 38972\n",
      "False Positives (FP): 718\n",
      "False Negatives (FN): 982\n",
      "True Positives (TP): 76811\n",
      "Accuracy: 0.9855\n",
      "Precision: 0.9907\n",
      "Recall: 0.9874\n",
      "F1 Score: 0.9891\n"
     ]
    },
    {
     "data": {
      "text/plain": "<Figure size 800x600 with 0 Axes>"
     },
     "metadata": {},
     "output_type": "display_data"
    },
    {
     "data": {
      "text/plain": "<Figure size 640x480 with 2 Axes>",
      "image/png": "[encoded data removed]"
     },
     "metadata": {},
     "output_type": "display_data"
    }
   ],
   "source": [
    "from sklearn.metrics import (\n",
    "    confusion_matrix,\n",
    "    ConfusionMatrixDisplay,\n",
    "    accuracy_score,\n",
    "    precision_score,\n",
    "    recall_score,\n",
    "    f1_score\n",
    ")\n",
    "# Compute confusion matrix\n",
    "cm = confusion_matrix(y_test, y_pred)\n",
    "\n",
    "# Calculate additional statistics\n",
    "TN, FP, FN, TP = cm.ravel()  # Unpack the confusion matrix\n",
    "accuracy = accuracy_score(y_test, y_pred)\n",
    "precision = precision_score(y_test, y_pred)\n",
    "recall = recall_score(y_test, y_pred)\n",
    "f1 = f1_score(y_test, y_pred)\n",
    "\n",
    "# Print statistics\n",
    "print(f\"\\nStatistics:\")\n",
    "print(f\"True Negatives (TN): {TN}\")\n",
    "print(f\"False Positives (FP): {FP}\")\n",
    "print(f\"False Negatives (FN): {FN}\")\n",
    "print(f\"True Positives (TP): {TP}\")\n",
    "print(f\"Accuracy: {accuracy:.4f}\")\n",
    "print(f\"Precision: {precision:.4f}\")\n",
    "print(f\"Recall: {recall:.4f}\")\n",
    "print(f\"F1 Score: {f1:.4f}\")\n",
    "\n",
    "# Plot the confusion matrix\n",
    "plt.figure(figsize=(8, 6))\n",
    "ConfusionMatrixDisplay(confusion_matrix=cm, display_labels=['Non-Vandalism', 'Vandalism']).plot(cmap=plt.cm.Blues)\n",
    "plt.title('Confusion Matrix')\n",
    "plt.show()"
   ],
   "metadata": {
    "collapsed": false,
    "ExecuteTime": {
     "end_time": "2024-10-23T12:53:41.884983300Z",
     "start_time": "2024-10-23T12:53:41.657988700Z"
    }
   },
   "id": "72a691413749074"
  }
 ],
 "metadata": {
  "kernelspec": {
   "display_name": "Python 3",
   "language": "python",
   "name": "python3"
  },
  "language_info": {
   "codemirror_mode": {
    "name": "ipython",
    "version": 2
   },
   "file_extension": ".py",
   "mimetype": "text/x-python",
   "name": "python",
   "nbconvert_exporter": "python",
   "pygments_lexer": "ipython2",
   "version": "2.7.6"
  }
 },
 "nbformat": 4,
 "nbformat_minor": 5
}
