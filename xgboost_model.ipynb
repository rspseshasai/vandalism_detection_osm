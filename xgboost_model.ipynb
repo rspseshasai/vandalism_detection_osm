{
 "cells": [
  {
   "cell_type": "code",
   "execution_count": 17,
   "id": "initial_id",
   "metadata": {
    "collapsed": true,
    "ExecuteTime": {
     "end_time": "2024-10-23T12:32:39.557141100Z",
     "start_time": "2024-10-23T12:32:39.535659800Z"
    }
   },
   "outputs": [],
   "source": [
    "import pandas as pd\n",
    "import numpy as np\n",
    "import xgboost as xgb\n",
    "import matplotlib.pyplot as plt\n",
    "from sklearn.model_selection import train_test_split\n",
    "from sklearn.model_selection import GridSearchCV\n",
    "from sklearn.metrics import balanced_accuracy_score, roc_auc_score, make_scorer\n",
    "from sklearn.metrics import confusion_matrix, ConfusionMatrixDisplay\n"
   ]
  },
  {
   "cell_type": "code",
   "execution_count": 18,
   "outputs": [],
   "source": [
    "features_df = pd.read_parquet(\"data/contribution_data/extracted_features.parquet\")"
   ],
   "metadata": {
    "collapsed": false,
    "ExecuteTime": {
     "end_time": "2024-10-23T12:32:41.323178100Z",
     "start_time": "2024-10-23T12:32:40.668609Z"
    }
   },
   "id": "76f85b94e04c194f"
  },
  {
   "cell_type": "code",
   "execution_count": 19,
   "outputs": [
    {
     "data": {
      "text/plain": "   user_id  user_edit_frequency editor_used  area_delta  length_delta  area  \\\n0  2377515            32.000000    iD 1.5.4        -597             0     0   \n1  2377515            32.000000    iD 1.5.4        -661             0     0   \n2  6335199             5.490196    iD 2.5.1       -6351             0     0   \n3  5193146             3.762032        JOSM      -60560             0     0   \n4  3149129          3791.000000        JOSM         -47             0     0   \n\n   length  bounding_box_size  geometry_valid       xmax  ...  emergency  \\\n0       0       1.180083e-05               0 -62.976084  ...          0   \n1       0       1.543374e-05               0 -62.956141  ...          0   \n2       0       7.911717e-06               0 -90.207543  ...          0   \n3       0       3.357874e-05               0  -0.898112  ...          0   \n4       0       5.833380e-09               0 -34.881410  ...          0   \n\n   geological  healthcare  highway  historic  landuse  leisure  man_made  \\\n0           0           0        0         0        0        0         0   \n1           0           0        0         0        0        0         0   \n2           0           0        0         0        1        0         0   \n3           0           0        0         0        0        1         0   \n4           0           0        0         0        0        0         0   \n\n   military  vandalism  \n0         0       True  \n1         0       True  \n2         0       True  \n3         0       True  \n4         0       True  \n\n[5 rows x 55 columns]",
      "text/html": "<div>\n<style scoped>\n    .dataframe tbody tr th:only-of-type {\n        vertical-align: middle;\n    }\n\n    .dataframe tbody tr th {\n        vertical-align: top;\n    }\n\n    .dataframe thead th {\n        text-align: right;\n    }\n</style>\n<table border=\"1\" class=\"dataframe\">\n  <thead>\n    <tr style=\"text-align: right;\">\n      <th></th>\n      <th>user_id</th>\n      <th>user_edit_frequency</th>\n      <th>editor_used</th>\n      <th>area_delta</th>\n      <th>length_delta</th>\n      <th>area</th>\n      <th>length</th>\n      <th>bounding_box_size</th>\n      <th>geometry_valid</th>\n      <th>xmax</th>\n      <th>...</th>\n      <th>emergency</th>\n      <th>geological</th>\n      <th>healthcare</th>\n      <th>highway</th>\n      <th>historic</th>\n      <th>landuse</th>\n      <th>leisure</th>\n      <th>man_made</th>\n      <th>military</th>\n      <th>vandalism</th>\n    </tr>\n  </thead>\n  <tbody>\n    <tr>\n      <th>0</th>\n      <td>2377515</td>\n      <td>32.000000</td>\n      <td>iD 1.5.4</td>\n      <td>-597</td>\n      <td>0</td>\n      <td>0</td>\n      <td>0</td>\n      <td>1.180083e-05</td>\n      <td>0</td>\n      <td>-62.976084</td>\n      <td>...</td>\n      <td>0</td>\n      <td>0</td>\n      <td>0</td>\n      <td>0</td>\n      <td>0</td>\n      <td>0</td>\n      <td>0</td>\n      <td>0</td>\n      <td>0</td>\n      <td>True</td>\n    </tr>\n    <tr>\n      <th>1</th>\n      <td>2377515</td>\n      <td>32.000000</td>\n      <td>iD 1.5.4</td>\n      <td>-661</td>\n      <td>0</td>\n      <td>0</td>\n      <td>0</td>\n      <td>1.543374e-05</td>\n      <td>0</td>\n      <td>-62.956141</td>\n      <td>...</td>\n      <td>0</td>\n      <td>0</td>\n      <td>0</td>\n      <td>0</td>\n      <td>0</td>\n      <td>0</td>\n      <td>0</td>\n      <td>0</td>\n      <td>0</td>\n      <td>True</td>\n    </tr>\n    <tr>\n      <th>2</th>\n      <td>6335199</td>\n      <td>5.490196</td>\n      <td>iD 2.5.1</td>\n      <td>-6351</td>\n      <td>0</td>\n      <td>0</td>\n      <td>0</td>\n      <td>7.911717e-06</td>\n      <td>0</td>\n      <td>-90.207543</td>\n      <td>...</td>\n      <td>0</td>\n      <td>0</td>\n      <td>0</td>\n      <td>0</td>\n      <td>0</td>\n      <td>1</td>\n      <td>0</td>\n      <td>0</td>\n      <td>0</td>\n      <td>True</td>\n    </tr>\n    <tr>\n      <th>3</th>\n      <td>5193146</td>\n      <td>3.762032</td>\n      <td>JOSM</td>\n      <td>-60560</td>\n      <td>0</td>\n      <td>0</td>\n      <td>0</td>\n      <td>3.357874e-05</td>\n      <td>0</td>\n      <td>-0.898112</td>\n      <td>...</td>\n      <td>0</td>\n      <td>0</td>\n      <td>0</td>\n      <td>0</td>\n      <td>0</td>\n      <td>0</td>\n      <td>1</td>\n      <td>0</td>\n      <td>0</td>\n      <td>True</td>\n    </tr>\n    <tr>\n      <th>4</th>\n      <td>3149129</td>\n      <td>3791.000000</td>\n      <td>JOSM</td>\n      <td>-47</td>\n      <td>0</td>\n      <td>0</td>\n      <td>0</td>\n      <td>5.833380e-09</td>\n      <td>0</td>\n      <td>-34.881410</td>\n      <td>...</td>\n      <td>0</td>\n      <td>0</td>\n      <td>0</td>\n      <td>0</td>\n      <td>0</td>\n      <td>0</td>\n      <td>0</td>\n      <td>0</td>\n      <td>0</td>\n      <td>True</td>\n    </tr>\n  </tbody>\n</table>\n<p>5 rows × 55 columns</p>\n</div>"
     },
     "execution_count": 19,
     "metadata": {},
     "output_type": "execute_result"
    }
   ],
   "source": [
    "features_df.head()"
   ],
   "metadata": {
    "collapsed": false,
    "ExecuteTime": {
     "end_time": "2024-10-23T12:32:43.346780Z",
     "start_time": "2024-10-23T12:32:43.323068300Z"
    }
   },
   "id": "d4317f4d19642e42"
  },
  {
   "cell_type": "code",
   "execution_count": 27,
   "outputs": [
    {
     "data": {
      "text/plain": "   user_id  user_edit_frequency editor_used  area_delta  length_delta  area  \\\n0  2377515            32.000000    iD 1.5.4        -597             0     0   \n1  2377515            32.000000    iD 1.5.4        -661             0     0   \n2  6335199             5.490196    iD 2.5.1       -6351             0     0   \n3  5193146             3.762032        JOSM      -60560             0     0   \n4  3149129          3791.000000        JOSM         -47             0     0   \n\n   length  bounding_box_size  geometry_valid       xmax  ...  healthcare  \\\n0       0       1.180083e-05               0 -62.976084  ...           0   \n1       0       1.543374e-05               0 -62.956141  ...           0   \n2       0       7.911717e-06               0 -90.207543  ...           0   \n3       0       3.357874e-05               0  -0.898112  ...           0   \n4       0       5.833380e-09               0 -34.881410  ...           0   \n\n   highway  historic  landuse  leisure  man_made  military  vandalism  \\\n0        0         0        0        0         0         0       True   \n1        0         0        0        0         0         0       True   \n2        0         0        1        0         0         0       True   \n3        0         0        0        1         0         0       True   \n4        0         0        0        0         0         0       True   \n\n         code  level  \n0   384395826     14  \n1   384395847     14  \n2  3209861041     15  \n3  3576265364     15  \n4  1391593370     16  \n\n[5 rows x 56 columns]",
      "text/html": "<div>\n<style scoped>\n    .dataframe tbody tr th:only-of-type {\n        vertical-align: middle;\n    }\n\n    .dataframe tbody tr th {\n        vertical-align: top;\n    }\n\n    .dataframe thead th {\n        text-align: right;\n    }\n</style>\n<table border=\"1\" class=\"dataframe\">\n  <thead>\n    <tr style=\"text-align: right;\">\n      <th></th>\n      <th>user_id</th>\n      <th>user_edit_frequency</th>\n      <th>editor_used</th>\n      <th>area_delta</th>\n      <th>length_delta</th>\n      <th>area</th>\n      <th>length</th>\n      <th>bounding_box_size</th>\n      <th>geometry_valid</th>\n      <th>xmax</th>\n      <th>...</th>\n      <th>healthcare</th>\n      <th>highway</th>\n      <th>historic</th>\n      <th>landuse</th>\n      <th>leisure</th>\n      <th>man_made</th>\n      <th>military</th>\n      <th>vandalism</th>\n      <th>code</th>\n      <th>level</th>\n    </tr>\n  </thead>\n  <tbody>\n    <tr>\n      <th>0</th>\n      <td>2377515</td>\n      <td>32.000000</td>\n      <td>iD 1.5.4</td>\n      <td>-597</td>\n      <td>0</td>\n      <td>0</td>\n      <td>0</td>\n      <td>1.180083e-05</td>\n      <td>0</td>\n      <td>-62.976084</td>\n      <td>...</td>\n      <td>0</td>\n      <td>0</td>\n      <td>0</td>\n      <td>0</td>\n      <td>0</td>\n      <td>0</td>\n      <td>0</td>\n      <td>True</td>\n      <td>384395826</td>\n      <td>14</td>\n    </tr>\n    <tr>\n      <th>1</th>\n      <td>2377515</td>\n      <td>32.000000</td>\n      <td>iD 1.5.4</td>\n      <td>-661</td>\n      <td>0</td>\n      <td>0</td>\n      <td>0</td>\n      <td>1.543374e-05</td>\n      <td>0</td>\n      <td>-62.956141</td>\n      <td>...</td>\n      <td>0</td>\n      <td>0</td>\n      <td>0</td>\n      <td>0</td>\n      <td>0</td>\n      <td>0</td>\n      <td>0</td>\n      <td>True</td>\n      <td>384395847</td>\n      <td>14</td>\n    </tr>\n    <tr>\n      <th>2</th>\n      <td>6335199</td>\n      <td>5.490196</td>\n      <td>iD 2.5.1</td>\n      <td>-6351</td>\n      <td>0</td>\n      <td>0</td>\n      <td>0</td>\n      <td>7.911717e-06</td>\n      <td>0</td>\n      <td>-90.207543</td>\n      <td>...</td>\n      <td>0</td>\n      <td>0</td>\n      <td>0</td>\n      <td>1</td>\n      <td>0</td>\n      <td>0</td>\n      <td>0</td>\n      <td>True</td>\n      <td>3209861041</td>\n      <td>15</td>\n    </tr>\n    <tr>\n      <th>3</th>\n      <td>5193146</td>\n      <td>3.762032</td>\n      <td>JOSM</td>\n      <td>-60560</td>\n      <td>0</td>\n      <td>0</td>\n      <td>0</td>\n      <td>3.357874e-05</td>\n      <td>0</td>\n      <td>-0.898112</td>\n      <td>...</td>\n      <td>0</td>\n      <td>0</td>\n      <td>0</td>\n      <td>0</td>\n      <td>1</td>\n      <td>0</td>\n      <td>0</td>\n      <td>True</td>\n      <td>3576265364</td>\n      <td>15</td>\n    </tr>\n    <tr>\n      <th>4</th>\n      <td>3149129</td>\n      <td>3791.000000</td>\n      <td>JOSM</td>\n      <td>-47</td>\n      <td>0</td>\n      <td>0</td>\n      <td>0</td>\n      <td>5.833380e-09</td>\n      <td>0</td>\n      <td>-34.881410</td>\n      <td>...</td>\n      <td>0</td>\n      <td>0</td>\n      <td>0</td>\n      <td>0</td>\n      <td>0</td>\n      <td>0</td>\n      <td>0</td>\n      <td>True</td>\n      <td>1391593370</td>\n      <td>16</td>\n    </tr>\n  </tbody>\n</table>\n<p>5 rows × 56 columns</p>\n</div>"
     },
     "execution_count": 27,
     "metadata": {},
     "output_type": "execute_result"
    }
   ],
   "source": [
    "if features_df.columns.__contains__('xzcode'):\n",
    "    # Split 'xzcode' column into two separate columns 'code' and 'level'\n",
    "    features_df[['code', 'level']] = pd.json_normalize(features_df['xzcode'])\n",
    "    features_df.drop('xzcode', axis=1, inplace=True)\n",
    "features_df.head()"
   ],
   "metadata": {
    "collapsed": false,
    "ExecuteTime": {
     "end_time": "2024-10-23T12:45:23.452296300Z",
     "start_time": "2024-10-23T12:45:22.335784100Z"
    }
   },
   "id": "a85b762553f72634"
  },
  {
   "cell_type": "code",
   "execution_count": 29,
   "outputs": [
    {
     "data": {
      "text/plain": "array(['deleted', 'history', 'latest'], dtype=object)"
     },
     "execution_count": 29,
     "metadata": {},
     "output_type": "execute_result"
    }
   ],
   "source": [
    "features_df.status.unique()"
   ],
   "metadata": {
    "collapsed": false,
    "ExecuteTime": {
     "end_time": "2024-10-23T12:46:13.625685300Z",
     "start_time": "2024-10-23T12:46:13.589847Z"
    }
   },
   "id": "210e4a555fe354f1"
  },
  {
   "cell_type": "code",
   "execution_count": 30,
   "outputs": [
    {
     "data": {
      "text/plain": "   user_id  user_edit_frequency editor_used  area_delta  length_delta  area  \\\n0  2377515            32.000000    iD 1.5.4        -597             0     0   \n1  2377515            32.000000    iD 1.5.4        -661             0     0   \n2  6335199             5.490196    iD 2.5.1       -6351             0     0   \n3  5193146             3.762032        JOSM      -60560             0     0   \n4  3149129          3791.000000        JOSM         -47             0     0   \n\n   length  bounding_box_size  geometry_valid       xmax  ...  healthcare  \\\n0       0       1.180083e-05               0 -62.976084  ...           0   \n1       0       1.543374e-05               0 -62.956141  ...           0   \n2       0       7.911717e-06               0 -90.207543  ...           0   \n3       0       3.357874e-05               0  -0.898112  ...           0   \n4       0       5.833380e-09               0 -34.881410  ...           0   \n\n   highway  historic  landuse  leisure  man_made  military  vandalism  \\\n0        0         0        0        0         0         0       True   \n1        0         0        0        0         0         0       True   \n2        0         0        1        0         0         0       True   \n3        0         0        0        1         0         0       True   \n4        0         0        0        0         0         0       True   \n\n         code  level  \n0   384395826     14  \n1   384395847     14  \n2  3209861041     15  \n3  3576265364     15  \n4  1391593370     16  \n\n[5 rows x 55 columns]",
      "text/html": "<div>\n<style scoped>\n    .dataframe tbody tr th:only-of-type {\n        vertical-align: middle;\n    }\n\n    .dataframe tbody tr th {\n        vertical-align: top;\n    }\n\n    .dataframe thead th {\n        text-align: right;\n    }\n</style>\n<table border=\"1\" class=\"dataframe\">\n  <thead>\n    <tr style=\"text-align: right;\">\n      <th></th>\n      <th>user_id</th>\n      <th>user_edit_frequency</th>\n      <th>editor_used</th>\n      <th>area_delta</th>\n      <th>length_delta</th>\n      <th>area</th>\n      <th>length</th>\n      <th>bounding_box_size</th>\n      <th>geometry_valid</th>\n      <th>xmax</th>\n      <th>...</th>\n      <th>healthcare</th>\n      <th>highway</th>\n      <th>historic</th>\n      <th>landuse</th>\n      <th>leisure</th>\n      <th>man_made</th>\n      <th>military</th>\n      <th>vandalism</th>\n      <th>code</th>\n      <th>level</th>\n    </tr>\n  </thead>\n  <tbody>\n    <tr>\n      <th>0</th>\n      <td>2377515</td>\n      <td>32.000000</td>\n      <td>iD 1.5.4</td>\n      <td>-597</td>\n      <td>0</td>\n      <td>0</td>\n      <td>0</td>\n      <td>1.180083e-05</td>\n      <td>0</td>\n      <td>-62.976084</td>\n      <td>...</td>\n      <td>0</td>\n      <td>0</td>\n      <td>0</td>\n      <td>0</td>\n      <td>0</td>\n      <td>0</td>\n      <td>0</td>\n      <td>True</td>\n      <td>384395826</td>\n      <td>14</td>\n    </tr>\n    <tr>\n      <th>1</th>\n      <td>2377515</td>\n      <td>32.000000</td>\n      <td>iD 1.5.4</td>\n      <td>-661</td>\n      <td>0</td>\n      <td>0</td>\n      <td>0</td>\n      <td>1.543374e-05</td>\n      <td>0</td>\n      <td>-62.956141</td>\n      <td>...</td>\n      <td>0</td>\n      <td>0</td>\n      <td>0</td>\n      <td>0</td>\n      <td>0</td>\n      <td>0</td>\n      <td>0</td>\n      <td>True</td>\n      <td>384395847</td>\n      <td>14</td>\n    </tr>\n    <tr>\n      <th>2</th>\n      <td>6335199</td>\n      <td>5.490196</td>\n      <td>iD 2.5.1</td>\n      <td>-6351</td>\n      <td>0</td>\n      <td>0</td>\n      <td>0</td>\n      <td>7.911717e-06</td>\n      <td>0</td>\n      <td>-90.207543</td>\n      <td>...</td>\n      <td>0</td>\n      <td>0</td>\n      <td>0</td>\n      <td>1</td>\n      <td>0</td>\n      <td>0</td>\n      <td>0</td>\n      <td>True</td>\n      <td>3209861041</td>\n      <td>15</td>\n    </tr>\n    <tr>\n      <th>3</th>\n      <td>5193146</td>\n      <td>3.762032</td>\n      <td>JOSM</td>\n      <td>-60560</td>\n      <td>0</td>\n      <td>0</td>\n      <td>0</td>\n      <td>3.357874e-05</td>\n      <td>0</td>\n      <td>-0.898112</td>\n      <td>...</td>\n      <td>0</td>\n      <td>0</td>\n      <td>0</td>\n      <td>0</td>\n      <td>1</td>\n      <td>0</td>\n      <td>0</td>\n      <td>True</td>\n      <td>3576265364</td>\n      <td>15</td>\n    </tr>\n    <tr>\n      <th>4</th>\n      <td>3149129</td>\n      <td>3791.000000</td>\n      <td>JOSM</td>\n      <td>-47</td>\n      <td>0</td>\n      <td>0</td>\n      <td>0</td>\n      <td>5.833380e-09</td>\n      <td>0</td>\n      <td>-34.881410</td>\n      <td>...</td>\n      <td>0</td>\n      <td>0</td>\n      <td>0</td>\n      <td>0</td>\n      <td>0</td>\n      <td>0</td>\n      <td>0</td>\n      <td>True</td>\n      <td>1391593370</td>\n      <td>16</td>\n    </tr>\n  </tbody>\n</table>\n<p>5 rows × 55 columns</p>\n</div>"
     },
     "execution_count": 30,
     "metadata": {},
     "output_type": "execute_result"
    }
   ],
   "source": [
    "if features_df.columns.__contains__('geometry'):\n",
    "    features_df.drop('geometry', axis=1, inplace=True)\n",
    "    \n",
    "if features_df.columns.__contains__('osm_id'):\n",
    "    features_df.drop('osm_id', axis=1, inplace=True)\n",
    "    \n",
    "features_df.head()"
   ],
   "metadata": {
    "collapsed": false,
    "ExecuteTime": {
     "end_time": "2024-10-23T12:46:22.191305200Z",
     "start_time": "2024-10-23T12:46:22.163019900Z"
    }
   },
   "id": "a5e03bd1300cda47"
  },
  {
   "cell_type": "code",
   "execution_count": 87,
   "outputs": [
    {
     "data": {
      "text/plain": "   user_edit_frequency editor_used  area_delta  length_delta  area  length  \\\n0            32.000000    iD 1.5.4        -597             0     0       0   \n1            32.000000    iD 1.5.4        -661             0     0       0   \n2             5.490196    iD 2.5.1       -6351             0     0       0   \n3             3.762032        JOSM      -60560             0     0       0   \n4          3791.000000        JOSM         -47             0     0       0   \n\n   bounding_box_size  geometry_valid  time_since_last_edit  edit_time_of_day  \\\n0       1.180083e-05               0             53.874167                23   \n1       1.543374e-05               0             53.874167                23   \n2       7.911717e-06               0              0.000278                 1   \n3       3.357874e-05               0              0.000278                20   \n4       5.833380e-09               0              0.000278                20   \n\n   ...  bbox_y_range  centroid_x  centroid_y  country_count  \\\n0  ...      0.000566  -63.006063  -84.906174              0   \n1  ...      0.000786  -63.023894  -84.905413              0   \n2  ...      0.004987  -90.208055   38.524025              1   \n3  ...      0.003423   -0.904047   41.657534              1   \n4  ...      0.000060  -34.881462   -8.043139              1   \n\n   historical_validity  tag_density  change_ratio  changeset_comment_length  \\\n0                    1          0.0          -1.0                         0   \n1                    1          0.0          -1.0                         0   \n2                    1          0.0          -1.0                        25   \n3                    1          0.0          -1.0                        22   \n4                    1          0.0          -1.0                        21   \n\n   source_reliability  vandalism  \n0                   0       True  \n1                   0       True  \n2                   0       True  \n3                   0       True  \n4                   0       True  \n\n[5 rows x 27 columns]",
      "text/html": "<div>\n<style scoped>\n    .dataframe tbody tr th:only-of-type {\n        vertical-align: middle;\n    }\n\n    .dataframe tbody tr th {\n        vertical-align: top;\n    }\n\n    .dataframe thead th {\n        text-align: right;\n    }\n</style>\n<table border=\"1\" class=\"dataframe\">\n  <thead>\n    <tr style=\"text-align: right;\">\n      <th></th>\n      <th>user_edit_frequency</th>\n      <th>editor_used</th>\n      <th>area_delta</th>\n      <th>length_delta</th>\n      <th>area</th>\n      <th>length</th>\n      <th>bounding_box_size</th>\n      <th>geometry_valid</th>\n      <th>time_since_last_edit</th>\n      <th>edit_time_of_day</th>\n      <th>...</th>\n      <th>bbox_y_range</th>\n      <th>centroid_x</th>\n      <th>centroid_y</th>\n      <th>country_count</th>\n      <th>historical_validity</th>\n      <th>tag_density</th>\n      <th>change_ratio</th>\n      <th>changeset_comment_length</th>\n      <th>source_reliability</th>\n      <th>vandalism</th>\n    </tr>\n  </thead>\n  <tbody>\n    <tr>\n      <th>0</th>\n      <td>32.000000</td>\n      <td>iD 1.5.4</td>\n      <td>-597</td>\n      <td>0</td>\n      <td>0</td>\n      <td>0</td>\n      <td>1.180083e-05</td>\n      <td>0</td>\n      <td>53.874167</td>\n      <td>23</td>\n      <td>...</td>\n      <td>0.000566</td>\n      <td>-63.006063</td>\n      <td>-84.906174</td>\n      <td>0</td>\n      <td>1</td>\n      <td>0.0</td>\n      <td>-1.0</td>\n      <td>0</td>\n      <td>0</td>\n      <td>True</td>\n    </tr>\n    <tr>\n      <th>1</th>\n      <td>32.000000</td>\n      <td>iD 1.5.4</td>\n      <td>-661</td>\n      <td>0</td>\n      <td>0</td>\n      <td>0</td>\n      <td>1.543374e-05</td>\n      <td>0</td>\n      <td>53.874167</td>\n      <td>23</td>\n      <td>...</td>\n      <td>0.000786</td>\n      <td>-63.023894</td>\n      <td>-84.905413</td>\n      <td>0</td>\n      <td>1</td>\n      <td>0.0</td>\n      <td>-1.0</td>\n      <td>0</td>\n      <td>0</td>\n      <td>True</td>\n    </tr>\n    <tr>\n      <th>2</th>\n      <td>5.490196</td>\n      <td>iD 2.5.1</td>\n      <td>-6351</td>\n      <td>0</td>\n      <td>0</td>\n      <td>0</td>\n      <td>7.911717e-06</td>\n      <td>0</td>\n      <td>0.000278</td>\n      <td>1</td>\n      <td>...</td>\n      <td>0.004987</td>\n      <td>-90.208055</td>\n      <td>38.524025</td>\n      <td>1</td>\n      <td>1</td>\n      <td>0.0</td>\n      <td>-1.0</td>\n      <td>25</td>\n      <td>0</td>\n      <td>True</td>\n    </tr>\n    <tr>\n      <th>3</th>\n      <td>3.762032</td>\n      <td>JOSM</td>\n      <td>-60560</td>\n      <td>0</td>\n      <td>0</td>\n      <td>0</td>\n      <td>3.357874e-05</td>\n      <td>0</td>\n      <td>0.000278</td>\n      <td>20</td>\n      <td>...</td>\n      <td>0.003423</td>\n      <td>-0.904047</td>\n      <td>41.657534</td>\n      <td>1</td>\n      <td>1</td>\n      <td>0.0</td>\n      <td>-1.0</td>\n      <td>22</td>\n      <td>0</td>\n      <td>True</td>\n    </tr>\n    <tr>\n      <th>4</th>\n      <td>3791.000000</td>\n      <td>JOSM</td>\n      <td>-47</td>\n      <td>0</td>\n      <td>0</td>\n      <td>0</td>\n      <td>5.833380e-09</td>\n      <td>0</td>\n      <td>0.000278</td>\n      <td>20</td>\n      <td>...</td>\n      <td>0.000060</td>\n      <td>-34.881462</td>\n      <td>-8.043139</td>\n      <td>1</td>\n      <td>1</td>\n      <td>0.0</td>\n      <td>-1.0</td>\n      <td>21</td>\n      <td>0</td>\n      <td>True</td>\n    </tr>\n  </tbody>\n</table>\n<p>5 rows × 27 columns</p>\n</div>"
     },
     "execution_count": 87,
     "metadata": {},
     "output_type": "execute_result"
    }
   ],
   "source": [
    "features_df.columns = features_df.columns.str.replace(' ', '_', regex=True)\n",
    "features_df.head()"
   ],
   "metadata": {
    "collapsed": false,
    "ExecuteTime": {
     "end_time": "2024-10-03T10:26:31.804553300Z",
     "start_time": "2024-10-03T10:26:31.714894700Z"
    }
   },
   "id": "b565298736848be7"
  },
  {
   "cell_type": "code",
   "execution_count": 88,
   "outputs": [
    {
     "data": {
      "text/plain": "   user_edit_frequency editor_used  area_delta  length_delta  area  length  \\\n0            32.000000    iD 1.5.4        -597             0     0       0   \n1            32.000000    iD 1.5.4        -661             0     0       0   \n2             5.490196    iD 2.5.1       -6351             0     0       0   \n3             3.762032        JOSM      -60560             0     0       0   \n4          3791.000000        JOSM         -47             0     0       0   \n\n   bounding_box_size  geometry_valid  time_since_last_edit  edit_time_of_day  \\\n0       1.180083e-05               0             53.874167                23   \n1       1.543374e-05               0             53.874167                23   \n2       7.911717e-06               0              0.000278                 1   \n3       3.357874e-05               0              0.000278                20   \n4       5.833380e-09               0              0.000278                20   \n\n   ...  bbox_x_range  bbox_y_range  centroid_x  centroid_y  country_count  \\\n0  ...      0.020857      0.000566  -63.006063  -84.906174              0   \n1  ...      0.019641      0.000786  -63.023894  -84.905413              0   \n2  ...      0.001586      0.004987  -90.208055   38.524025              1   \n3  ...      0.009811      0.003423   -0.904047   41.657534              1   \n4  ...      0.000097      0.000060  -34.881462   -8.043139              1   \n\n   historical_validity  tag_density  change_ratio  changeset_comment_length  \\\n0                    1          0.0          -1.0                         0   \n1                    1          0.0          -1.0                         0   \n2                    1          0.0          -1.0                        25   \n3                    1          0.0          -1.0                        22   \n4                    1          0.0          -1.0                        21   \n\n   source_reliability  \n0                   0  \n1                   0  \n2                   0  \n3                   0  \n4                   0  \n\n[5 rows x 26 columns]",
      "text/html": "<div>\n<style scoped>\n    .dataframe tbody tr th:only-of-type {\n        vertical-align: middle;\n    }\n\n    .dataframe tbody tr th {\n        vertical-align: top;\n    }\n\n    .dataframe thead th {\n        text-align: right;\n    }\n</style>\n<table border=\"1\" class=\"dataframe\">\n  <thead>\n    <tr style=\"text-align: right;\">\n      <th></th>\n      <th>user_edit_frequency</th>\n      <th>editor_used</th>\n      <th>area_delta</th>\n      <th>length_delta</th>\n      <th>area</th>\n      <th>length</th>\n      <th>bounding_box_size</th>\n      <th>geometry_valid</th>\n      <th>time_since_last_edit</th>\n      <th>edit_time_of_day</th>\n      <th>...</th>\n      <th>bbox_x_range</th>\n      <th>bbox_y_range</th>\n      <th>centroid_x</th>\n      <th>centroid_y</th>\n      <th>country_count</th>\n      <th>historical_validity</th>\n      <th>tag_density</th>\n      <th>change_ratio</th>\n      <th>changeset_comment_length</th>\n      <th>source_reliability</th>\n    </tr>\n  </thead>\n  <tbody>\n    <tr>\n      <th>0</th>\n      <td>32.000000</td>\n      <td>iD 1.5.4</td>\n      <td>-597</td>\n      <td>0</td>\n      <td>0</td>\n      <td>0</td>\n      <td>1.180083e-05</td>\n      <td>0</td>\n      <td>53.874167</td>\n      <td>23</td>\n      <td>...</td>\n      <td>0.020857</td>\n      <td>0.000566</td>\n      <td>-63.006063</td>\n      <td>-84.906174</td>\n      <td>0</td>\n      <td>1</td>\n      <td>0.0</td>\n      <td>-1.0</td>\n      <td>0</td>\n      <td>0</td>\n    </tr>\n    <tr>\n      <th>1</th>\n      <td>32.000000</td>\n      <td>iD 1.5.4</td>\n      <td>-661</td>\n      <td>0</td>\n      <td>0</td>\n      <td>0</td>\n      <td>1.543374e-05</td>\n      <td>0</td>\n      <td>53.874167</td>\n      <td>23</td>\n      <td>...</td>\n      <td>0.019641</td>\n      <td>0.000786</td>\n      <td>-63.023894</td>\n      <td>-84.905413</td>\n      <td>0</td>\n      <td>1</td>\n      <td>0.0</td>\n      <td>-1.0</td>\n      <td>0</td>\n      <td>0</td>\n    </tr>\n    <tr>\n      <th>2</th>\n      <td>5.490196</td>\n      <td>iD 2.5.1</td>\n      <td>-6351</td>\n      <td>0</td>\n      <td>0</td>\n      <td>0</td>\n      <td>7.911717e-06</td>\n      <td>0</td>\n      <td>0.000278</td>\n      <td>1</td>\n      <td>...</td>\n      <td>0.001586</td>\n      <td>0.004987</td>\n      <td>-90.208055</td>\n      <td>38.524025</td>\n      <td>1</td>\n      <td>1</td>\n      <td>0.0</td>\n      <td>-1.0</td>\n      <td>25</td>\n      <td>0</td>\n    </tr>\n    <tr>\n      <th>3</th>\n      <td>3.762032</td>\n      <td>JOSM</td>\n      <td>-60560</td>\n      <td>0</td>\n      <td>0</td>\n      <td>0</td>\n      <td>3.357874e-05</td>\n      <td>0</td>\n      <td>0.000278</td>\n      <td>20</td>\n      <td>...</td>\n      <td>0.009811</td>\n      <td>0.003423</td>\n      <td>-0.904047</td>\n      <td>41.657534</td>\n      <td>1</td>\n      <td>1</td>\n      <td>0.0</td>\n      <td>-1.0</td>\n      <td>22</td>\n      <td>0</td>\n    </tr>\n    <tr>\n      <th>4</th>\n      <td>3791.000000</td>\n      <td>JOSM</td>\n      <td>-47</td>\n      <td>0</td>\n      <td>0</td>\n      <td>0</td>\n      <td>5.833380e-09</td>\n      <td>0</td>\n      <td>0.000278</td>\n      <td>20</td>\n      <td>...</td>\n      <td>0.000097</td>\n      <td>0.000060</td>\n      <td>-34.881462</td>\n      <td>-8.043139</td>\n      <td>1</td>\n      <td>1</td>\n      <td>0.0</td>\n      <td>-1.0</td>\n      <td>21</td>\n      <td>0</td>\n    </tr>\n  </tbody>\n</table>\n<p>5 rows × 26 columns</p>\n</div>"
     },
     "execution_count": 88,
     "metadata": {},
     "output_type": "execute_result"
    }
   ],
   "source": [
    "X = features_df.drop('vandalism', axis=1).copy()\n",
    "X.head()"
   ],
   "metadata": {
    "collapsed": false,
    "ExecuteTime": {
     "end_time": "2024-10-03T10:26:33.049024800Z",
     "start_time": "2024-10-03T10:26:32.789971600Z"
    }
   },
   "id": "9feca52c8c7dbd38"
  },
  {
   "cell_type": "code",
   "execution_count": 89,
   "outputs": [
    {
     "data": {
      "text/plain": "0    True\n1    True\n2    True\n3    True\n4    True\nName: vandalism, dtype: bool"
     },
     "execution_count": 89,
     "metadata": {},
     "output_type": "execute_result"
    }
   ],
   "source": [
    "y = features_df['vandalism'].copy()\n",
    "y.head()"
   ],
   "metadata": {
    "collapsed": false,
    "ExecuteTime": {
     "end_time": "2024-10-03T10:26:33.785760900Z",
     "start_time": "2024-10-03T10:26:33.769181700Z"
    }
   },
   "id": "1a515c83cd3d9582"
  },
  {
   "cell_type": "code",
   "execution_count": 90,
   "outputs": [
    {
     "data": {
      "text/plain": "   user_edit_frequency  area_delta  length_delta  area  length  \\\n0            32.000000        -597             0     0       0   \n1            32.000000        -661             0     0       0   \n2             5.490196       -6351             0     0       0   \n3             3.762032      -60560             0     0       0   \n4          3791.000000         -47             0     0       0   \n\n   bounding_box_size  time_since_last_edit  bbox_x_range  bbox_y_range  \\\n0       1.180083e-05             53.874167      0.020857      0.000566   \n1       1.543374e-05             53.874167      0.019641      0.000786   \n2       7.911717e-06              0.000278      0.001586      0.004987   \n3       3.357874e-05              0.000278      0.009811      0.003423   \n4       5.833380e-09              0.000278      0.000097      0.000060   \n\n   centroid_x  ...  editor_used_osmtools  editor_used_peundemerg.ro-0.1  \\\n0  -63.006063  ...                 False                          False   \n1  -63.023894  ...                 False                          False   \n2  -90.208055  ...                 False                          False   \n3   -0.904047  ...                 False                          False   \n4  -34.881462  ...                 False                          False   \n\n   editor_used_railwayz.info photolines engine  editor_used_reverter;JOSM  \\\n0                                        False                      False   \n1                                        False                      False   \n2                                        False                      False   \n3                                        False                      False   \n4                                        False                      False   \n\n   editor_used_reverter_plugin  editor_used_rocketdata.io  \\\n0                        False                      False   \n1                        False                      False   \n2                        False                      False   \n3                        False                      False   \n4                        False                      False   \n\n   editor_used_rosemary v0.3.12  editor_used_rosemary v0.4.4  \\\n0                         False                        False   \n1                         False                        False   \n2                         False                        False   \n3                         False                        False   \n4                         False                        False   \n\n   editor_used_simple_revert.py  editor_used_upload.py v. 1  \n0                         False                       False  \n1                         False                       False  \n2                         False                       False  \n3                         False                       False  \n4                         False                       False  \n\n[5 rows x 550 columns]",
      "text/html": "<div>\n<style scoped>\n    .dataframe tbody tr th:only-of-type {\n        vertical-align: middle;\n    }\n\n    .dataframe tbody tr th {\n        vertical-align: top;\n    }\n\n    .dataframe thead th {\n        text-align: right;\n    }\n</style>\n<table border=\"1\" class=\"dataframe\">\n  <thead>\n    <tr style=\"text-align: right;\">\n      <th></th>\n      <th>user_edit_frequency</th>\n      <th>area_delta</th>\n      <th>length_delta</th>\n      <th>area</th>\n      <th>length</th>\n      <th>bounding_box_size</th>\n      <th>time_since_last_edit</th>\n      <th>bbox_x_range</th>\n      <th>bbox_y_range</th>\n      <th>centroid_x</th>\n      <th>...</th>\n      <th>editor_used_osmtools</th>\n      <th>editor_used_peundemerg.ro-0.1</th>\n      <th>editor_used_railwayz.info photolines engine</th>\n      <th>editor_used_reverter;JOSM</th>\n      <th>editor_used_reverter_plugin</th>\n      <th>editor_used_rocketdata.io</th>\n      <th>editor_used_rosemary v0.3.12</th>\n      <th>editor_used_rosemary v0.4.4</th>\n      <th>editor_used_simple_revert.py</th>\n      <th>editor_used_upload.py v. 1</th>\n    </tr>\n  </thead>\n  <tbody>\n    <tr>\n      <th>0</th>\n      <td>32.000000</td>\n      <td>-597</td>\n      <td>0</td>\n      <td>0</td>\n      <td>0</td>\n      <td>1.180083e-05</td>\n      <td>53.874167</td>\n      <td>0.020857</td>\n      <td>0.000566</td>\n      <td>-63.006063</td>\n      <td>...</td>\n      <td>False</td>\n      <td>False</td>\n      <td>False</td>\n      <td>False</td>\n      <td>False</td>\n      <td>False</td>\n      <td>False</td>\n      <td>False</td>\n      <td>False</td>\n      <td>False</td>\n    </tr>\n    <tr>\n      <th>1</th>\n      <td>32.000000</td>\n      <td>-661</td>\n      <td>0</td>\n      <td>0</td>\n      <td>0</td>\n      <td>1.543374e-05</td>\n      <td>53.874167</td>\n      <td>0.019641</td>\n      <td>0.000786</td>\n      <td>-63.023894</td>\n      <td>...</td>\n      <td>False</td>\n      <td>False</td>\n      <td>False</td>\n      <td>False</td>\n      <td>False</td>\n      <td>False</td>\n      <td>False</td>\n      <td>False</td>\n      <td>False</td>\n      <td>False</td>\n    </tr>\n    <tr>\n      <th>2</th>\n      <td>5.490196</td>\n      <td>-6351</td>\n      <td>0</td>\n      <td>0</td>\n      <td>0</td>\n      <td>7.911717e-06</td>\n      <td>0.000278</td>\n      <td>0.001586</td>\n      <td>0.004987</td>\n      <td>-90.208055</td>\n      <td>...</td>\n      <td>False</td>\n      <td>False</td>\n      <td>False</td>\n      <td>False</td>\n      <td>False</td>\n      <td>False</td>\n      <td>False</td>\n      <td>False</td>\n      <td>False</td>\n      <td>False</td>\n    </tr>\n    <tr>\n      <th>3</th>\n      <td>3.762032</td>\n      <td>-60560</td>\n      <td>0</td>\n      <td>0</td>\n      <td>0</td>\n      <td>3.357874e-05</td>\n      <td>0.000278</td>\n      <td>0.009811</td>\n      <td>0.003423</td>\n      <td>-0.904047</td>\n      <td>...</td>\n      <td>False</td>\n      <td>False</td>\n      <td>False</td>\n      <td>False</td>\n      <td>False</td>\n      <td>False</td>\n      <td>False</td>\n      <td>False</td>\n      <td>False</td>\n      <td>False</td>\n    </tr>\n    <tr>\n      <th>4</th>\n      <td>3791.000000</td>\n      <td>-47</td>\n      <td>0</td>\n      <td>0</td>\n      <td>0</td>\n      <td>5.833380e-09</td>\n      <td>0.000278</td>\n      <td>0.000097</td>\n      <td>0.000060</td>\n      <td>-34.881462</td>\n      <td>...</td>\n      <td>False</td>\n      <td>False</td>\n      <td>False</td>\n      <td>False</td>\n      <td>False</td>\n      <td>False</td>\n      <td>False</td>\n      <td>False</td>\n      <td>False</td>\n      <td>False</td>\n    </tr>\n  </tbody>\n</table>\n<p>5 rows × 550 columns</p>\n</div>"
     },
     "execution_count": 90,
     "metadata": {},
     "output_type": "execute_result"
    }
   ],
   "source": [
    "X_encoded = pd.get_dummies(X, columns=['source_reliability',\n",
    "                                                'historical_validity',\n",
    "                                                'country_count',\n",
    "                                                'population_changed',\n",
    "                                                'boundary_changed',\n",
    "                                                'name_changed',\n",
    "                                                'tags_modified',\n",
    "                                                'tags_added',\n",
    "                                                'tags_removed',\n",
    "                                                'edit_time_of_day',\n",
    "                                                'geometry_valid',\n",
    "                                                'editor_used',\n",
    "                                       'osm_type',\n",
    "                                       'contribution_type',\n",
    "                                       'status'])\n",
    "X_encoded.head()"
   ],
   "metadata": {
    "collapsed": false,
    "ExecuteTime": {
     "end_time": "2024-10-03T10:26:35.602894400Z",
     "start_time": "2024-10-03T10:26:34.438087500Z"
    }
   },
   "id": "6da48135f8a0b83b"
  },
  {
   "cell_type": "code",
   "execution_count": 91,
   "outputs": [
    {
     "name": "stderr",
     "output_type": "stream",
     "text": [
      "C:\\Users\\saise\\AppData\\Local\\Temp\\ipykernel_27428\\3107921932.py:2: FutureWarning: Downcasting behavior in `replace` is deprecated and will be removed in a future version. To retain the old behavior, explicitly call `result.infer_objects(copy=False)`. To opt-in to the future behavior, set `pd.set_option('future.no_silent_downcasting', True)`\n",
      "  y = y.replace(False, 0)\n"
     ]
    }
   ],
   "source": [
    "y = y.replace(True, 1)\n",
    "y = y.replace(False, 0)"
   ],
   "metadata": {
    "collapsed": false,
    "ExecuteTime": {
     "end_time": "2024-10-03T10:26:36.796187300Z",
     "start_time": "2024-10-03T10:26:36.612107400Z"
    }
   },
   "id": "641c26957721d7bf"
  },
  {
   "cell_type": "code",
   "execution_count": 92,
   "outputs": [
    {
     "data": {
      "text/plain": "dtype('int64')"
     },
     "execution_count": 92,
     "metadata": {},
     "output_type": "execute_result"
    }
   ],
   "source": [
    "y.dtype"
   ],
   "metadata": {
    "collapsed": false,
    "ExecuteTime": {
     "end_time": "2024-10-03T10:26:37.416683800Z",
     "start_time": "2024-10-03T10:26:37.383846Z"
    }
   },
   "id": "aea3ef084a567421"
  },
  {
   "cell_type": "code",
   "execution_count": 93,
   "outputs": [
    {
     "data": {
      "text/plain": "0.6621638875411762"
     },
     "execution_count": 93,
     "metadata": {},
     "output_type": "execute_result"
    }
   ],
   "source": [
    "sum(y) / len(y)"
   ],
   "metadata": {
    "collapsed": false,
    "ExecuteTime": {
     "end_time": "2024-10-03T10:26:38.070448400Z",
     "start_time": "2024-10-03T10:26:38.007442900Z"
    }
   },
   "id": "27df8089deab0f28"
  },
  {
   "cell_type": "code",
   "execution_count": 94,
   "outputs": [],
   "source": [
    "X_train, X_test, y_train, y_test = train_test_split(X_encoded, y, random_state=42, stratify=y)"
   ],
   "metadata": {
    "collapsed": false,
    "ExecuteTime": {
     "end_time": "2024-10-03T10:26:39.562570700Z",
     "start_time": "2024-10-03T10:26:38.512320100Z"
    }
   },
   "id": "c7ac657f7818a200"
  },
  {
   "cell_type": "code",
   "execution_count": 108,
   "outputs": [
    {
     "name": "stdout",
     "output_type": "stream",
     "text": [
      "               Number of Samples  Number of Features\n",
      "X_train shape             352449                 550\n",
      "X_test shape              117483                 550\n",
      "y_train shape             352449              352449\n",
      "y_test shape              117483              117483\n"
     ]
    }
   ],
   "source": [
    "# Get the shapes of the datasets\n",
    "shapes = {\n",
    "    'X_train shape': X_train.shape,\n",
    "    'X_test shape': X_test.shape,\n",
    "    'y_train shape': y_train.shape,\n",
    "    'y_test shape': y_test.shape\n",
    "}\n",
    "\n",
    "# Convert shapes to DataFrame for better display\n",
    "shapes_df = pd.DataFrame(shapes, index=['Number of Samples', 'Number of Features']).T\n",
    "print(shapes_df)"
   ],
   "metadata": {
    "collapsed": false,
    "ExecuteTime": {
     "end_time": "2024-10-03T10:39:26.807979400Z",
     "start_time": "2024-10-03T10:39:26.778879Z"
    }
   },
   "id": "cbe6642ebbf4df9e"
  },
  {
   "cell_type": "code",
   "execution_count": 95,
   "outputs": [
    {
     "data": {
      "text/plain": "0.6621638875411762"
     },
     "execution_count": 95,
     "metadata": {},
     "output_type": "execute_result"
    }
   ],
   "source": [
    "sum(y_train)/len(y_train)"
   ],
   "metadata": {
    "collapsed": false,
    "ExecuteTime": {
     "end_time": "2024-10-03T10:26:39.605353200Z",
     "start_time": "2024-10-03T10:26:39.565570700Z"
    }
   },
   "id": "b44319d4f4b10c37"
  },
  {
   "cell_type": "code",
   "execution_count": 96,
   "outputs": [
    {
     "data": {
      "text/plain": "0.6621638875411762"
     },
     "execution_count": 96,
     "metadata": {},
     "output_type": "execute_result"
    }
   ],
   "source": [
    "sum(y_test)/len(y_test)"
   ],
   "metadata": {
    "collapsed": false,
    "ExecuteTime": {
     "end_time": "2024-10-03T10:26:39.614074200Z",
     "start_time": "2024-10-03T10:26:39.596361100Z"
    }
   },
   "id": "bbc18b49297503de"
  },
  {
   "cell_type": "code",
   "execution_count": 97,
   "outputs": [
    {
     "name": "stdout",
     "output_type": "stream",
     "text": [
      "[0]\teval-aucpr:0.95205\teval-error:0.21357\n",
      "[1]\teval-aucpr:0.97028\teval-error:0.16006\n",
      "[2]\teval-aucpr:0.97898\teval-error:0.12521\n",
      "[3]\teval-aucpr:0.98072\teval-error:0.11168\n",
      "[4]\teval-aucpr:0.98310\teval-error:0.09774\n",
      "[5]\teval-aucpr:0.98413\teval-error:0.09103\n",
      "[6]\teval-aucpr:0.98530\teval-error:0.08611\n",
      "[7]\teval-aucpr:0.98621\teval-error:0.08506\n",
      "[8]\teval-aucpr:0.98701\teval-error:0.08192\n",
      "[9]\teval-aucpr:0.98742\teval-error:0.08119\n",
      "[10]\teval-aucpr:0.98777\teval-error:0.08230\n",
      "[11]\teval-aucpr:0.98803\teval-error:0.08119\n",
      "[12]\teval-aucpr:0.98821\teval-error:0.07974\n",
      "[13]\teval-aucpr:0.98842\teval-error:0.07963\n",
      "[14]\teval-aucpr:0.98902\teval-error:0.07727\n",
      "[15]\teval-aucpr:0.98935\teval-error:0.07616\n",
      "[16]\teval-aucpr:0.98964\teval-error:0.07544\n",
      "[17]\teval-aucpr:0.99031\teval-error:0.07291\n",
      "[18]\teval-aucpr:0.99074\teval-error:0.07032\n",
      "[19]\teval-aucpr:0.99082\teval-error:0.06955\n",
      "[20]\teval-aucpr:0.99095\teval-error:0.06917\n",
      "[21]\teval-aucpr:0.99126\teval-error:0.06772\n",
      "[22]\teval-aucpr:0.99143\teval-error:0.06731\n",
      "[23]\teval-aucpr:0.99156\teval-error:0.06713\n",
      "[24]\teval-aucpr:0.99263\teval-error:0.06186\n",
      "[25]\teval-aucpr:0.99312\teval-error:0.06046\n",
      "[26]\teval-aucpr:0.99348\teval-error:0.05715\n",
      "[27]\teval-aucpr:0.99360\teval-error:0.05655\n",
      "[28]\teval-aucpr:0.99382\teval-error:0.05471\n",
      "[29]\teval-aucpr:0.99387\teval-error:0.05497\n",
      "[30]\teval-aucpr:0.99402\teval-error:0.05454\n",
      "[31]\teval-aucpr:0.99416\teval-error:0.05338\n",
      "[32]\teval-aucpr:0.99469\teval-error:0.05163\n",
      "[33]\teval-aucpr:0.99489\teval-error:0.05070\n",
      "[34]\teval-aucpr:0.99496\teval-error:0.04997\n",
      "[35]\teval-aucpr:0.99504\teval-error:0.04980\n",
      "[36]\teval-aucpr:0.99507\teval-error:0.04973\n",
      "[37]\teval-aucpr:0.99515\teval-error:0.04912\n",
      "[38]\teval-aucpr:0.99527\teval-error:0.04864\n",
      "[39]\teval-aucpr:0.99546\teval-error:0.04787\n",
      "[40]\teval-aucpr:0.99552\teval-error:0.04746\n",
      "[41]\teval-aucpr:0.99553\teval-error:0.04733\n",
      "[42]\teval-aucpr:0.99556\teval-error:0.04727\n",
      "[43]\teval-aucpr:0.99570\teval-error:0.04630\n",
      "[44]\teval-aucpr:0.99572\teval-error:0.04630\n",
      "[45]\teval-aucpr:0.99595\teval-error:0.04441\n",
      "[46]\teval-aucpr:0.99597\teval-error:0.04418\n",
      "[47]\teval-aucpr:0.99612\teval-error:0.04264\n",
      "[48]\teval-aucpr:0.99618\teval-error:0.04237\n",
      "[49]\teval-aucpr:0.99619\teval-error:0.04231\n",
      "[50]\teval-aucpr:0.99639\teval-error:0.03998\n",
      "[51]\teval-aucpr:0.99657\teval-error:0.03865\n",
      "[52]\teval-aucpr:0.99662\teval-error:0.03837\n",
      "[53]\teval-aucpr:0.99671\teval-error:0.03829\n",
      "[54]\teval-aucpr:0.99678\teval-error:0.03797\n",
      "[55]\teval-aucpr:0.99682\teval-error:0.03784\n",
      "[56]\teval-aucpr:0.99687\teval-error:0.03718\n",
      "[57]\teval-aucpr:0.99693\teval-error:0.03667\n",
      "[58]\teval-aucpr:0.99705\teval-error:0.03582\n",
      "[59]\teval-aucpr:0.99706\teval-error:0.03551\n",
      "[60]\teval-aucpr:0.99706\teval-error:0.03562\n",
      "[61]\teval-aucpr:0.99721\teval-error:0.03428\n",
      "[62]\teval-aucpr:0.99727\teval-error:0.03395\n",
      "[63]\teval-aucpr:0.99728\teval-error:0.03384\n",
      "[64]\teval-aucpr:0.99731\teval-error:0.03372\n",
      "[65]\teval-aucpr:0.99731\teval-error:0.03379\n",
      "[66]\teval-aucpr:0.99735\teval-error:0.03338\n",
      "[67]\teval-aucpr:0.99736\teval-error:0.03336\n",
      "[68]\teval-aucpr:0.99737\teval-error:0.03326\n",
      "[69]\teval-aucpr:0.99737\teval-error:0.03328\n",
      "[70]\teval-aucpr:0.99744\teval-error:0.03292\n",
      "[71]\teval-aucpr:0.99751\teval-error:0.03200\n",
      "[72]\teval-aucpr:0.99758\teval-error:0.03149\n",
      "[73]\teval-aucpr:0.99760\teval-error:0.03143\n",
      "[74]\teval-aucpr:0.99760\teval-error:0.03153\n",
      "[75]\teval-aucpr:0.99768\teval-error:0.03113\n",
      "[76]\teval-aucpr:0.99782\teval-error:0.02935\n",
      "[77]\teval-aucpr:0.99789\teval-error:0.02883\n",
      "[78]\teval-aucpr:0.99793\teval-error:0.02852\n",
      "[79]\teval-aucpr:0.99794\teval-error:0.02851\n",
      "[80]\teval-aucpr:0.99794\teval-error:0.02852\n",
      "[81]\teval-aucpr:0.99795\teval-error:0.02857\n",
      "[82]\teval-aucpr:0.99801\teval-error:0.02822\n",
      "[83]\teval-aucpr:0.99807\teval-error:0.02799\n",
      "[84]\teval-aucpr:0.99808\teval-error:0.02791\n",
      "[85]\teval-aucpr:0.99809\teval-error:0.02780\n",
      "[86]\teval-aucpr:0.99809\teval-error:0.02770\n",
      "[87]\teval-aucpr:0.99814\teval-error:0.02722\n",
      "[88]\teval-aucpr:0.99814\teval-error:0.02714\n",
      "[89]\teval-aucpr:0.99815\teval-error:0.02707\n",
      "[90]\teval-aucpr:0.99815\teval-error:0.02707\n",
      "[91]\teval-aucpr:0.99816\teval-error:0.02695\n",
      "[92]\teval-aucpr:0.99817\teval-error:0.02682\n",
      "[93]\teval-aucpr:0.99822\teval-error:0.02659\n",
      "[94]\teval-aucpr:0.99828\teval-error:0.02555\n",
      "[95]\teval-aucpr:0.99837\teval-error:0.02497\n",
      "[96]\teval-aucpr:0.99839\teval-error:0.02475\n",
      "[97]\teval-aucpr:0.99840\teval-error:0.02475\n",
      "[98]\teval-aucpr:0.99840\teval-error:0.02468\n",
      "[99]\teval-aucpr:0.99842\teval-error:0.02457\n",
      "[100]\teval-aucpr:0.99842\teval-error:0.02452\n",
      "[101]\teval-aucpr:0.99843\teval-error:0.02440\n",
      "[102]\teval-aucpr:0.99852\teval-error:0.02365\n",
      "[103]\teval-aucpr:0.99854\teval-error:0.02345\n",
      "[104]\teval-aucpr:0.99855\teval-error:0.02340\n",
      "[105]\teval-aucpr:0.99855\teval-error:0.02340\n",
      "[106]\teval-aucpr:0.99855\teval-error:0.02342\n",
      "[107]\teval-aucpr:0.99856\teval-error:0.02335\n",
      "[108]\teval-aucpr:0.99857\teval-error:0.02325\n",
      "[109]\teval-aucpr:0.99859\teval-error:0.02293\n",
      "[110]\teval-aucpr:0.99862\teval-error:0.02276\n",
      "[111]\teval-aucpr:0.99869\teval-error:0.02184\n",
      "[112]\teval-aucpr:0.99869\teval-error:0.02184\n",
      "[113]\teval-aucpr:0.99869\teval-error:0.02191\n",
      "[114]\teval-aucpr:0.99869\teval-error:0.02187\n",
      "[115]\teval-aucpr:0.99870\teval-error:0.02186\n",
      "[116]\teval-aucpr:0.99870\teval-error:0.02181\n",
      "[117]\teval-aucpr:0.99870\teval-error:0.02174\n",
      "[118]\teval-aucpr:0.99872\teval-error:0.02170\n",
      "[119]\teval-aucpr:0.99872\teval-error:0.02138\n",
      "[120]\teval-aucpr:0.99875\teval-error:0.02124\n",
      "[121]\teval-aucpr:0.99875\teval-error:0.02125\n",
      "[122]\teval-aucpr:0.99875\teval-error:0.02125\n",
      "[123]\teval-aucpr:0.99876\teval-error:0.02121\n",
      "[124]\teval-aucpr:0.99877\teval-error:0.02117\n",
      "[125]\teval-aucpr:0.99879\teval-error:0.02098\n",
      "[126]\teval-aucpr:0.99881\teval-error:0.02076\n",
      "[127]\teval-aucpr:0.99884\teval-error:0.02027\n",
      "[128]\teval-aucpr:0.99886\teval-error:0.02008\n",
      "[129]\teval-aucpr:0.99886\teval-error:0.01999\n",
      "[130]\teval-aucpr:0.99888\teval-error:0.01957\n",
      "[131]\teval-aucpr:0.99888\teval-error:0.01954\n",
      "[132]\teval-aucpr:0.99889\teval-error:0.01952\n",
      "[133]\teval-aucpr:0.99889\teval-error:0.01948\n",
      "[134]\teval-aucpr:0.99890\teval-error:0.01947\n",
      "[135]\teval-aucpr:0.99890\teval-error:0.01948\n",
      "[136]\teval-aucpr:0.99890\teval-error:0.01946\n",
      "[137]\teval-aucpr:0.99892\teval-error:0.01902\n",
      "[138]\teval-aucpr:0.99894\teval-error:0.01884\n",
      "[139]\teval-aucpr:0.99900\teval-error:0.01830\n",
      "[140]\teval-aucpr:0.99902\teval-error:0.01800\n",
      "[141]\teval-aucpr:0.99904\teval-error:0.01793\n",
      "[142]\teval-aucpr:0.99905\teval-error:0.01757\n",
      "[143]\teval-aucpr:0.99906\teval-error:0.01748\n",
      "[144]\teval-aucpr:0.99907\teval-error:0.01747\n",
      "[145]\teval-aucpr:0.99907\teval-error:0.01744\n",
      "[146]\teval-aucpr:0.99909\teval-error:0.01730\n",
      "[147]\teval-aucpr:0.99912\teval-error:0.01690\n",
      "[148]\teval-aucpr:0.99914\teval-error:0.01674\n",
      "[149]\teval-aucpr:0.99916\teval-error:0.01652\n",
      "[150]\teval-aucpr:0.99916\teval-error:0.01653\n",
      "[151]\teval-aucpr:0.99917\teval-error:0.01652\n",
      "[152]\teval-aucpr:0.99917\teval-error:0.01651\n",
      "[153]\teval-aucpr:0.99917\teval-error:0.01646\n",
      "[154]\teval-aucpr:0.99917\teval-error:0.01654\n",
      "[155]\teval-aucpr:0.99917\teval-error:0.01653\n",
      "[156]\teval-aucpr:0.99919\teval-error:0.01635\n",
      "[157]\teval-aucpr:0.99920\teval-error:0.01628\n",
      "[158]\teval-aucpr:0.99921\teval-error:0.01622\n",
      "[159]\teval-aucpr:0.99924\teval-error:0.01576\n",
      "[160]\teval-aucpr:0.99927\teval-error:0.01528\n",
      "[161]\teval-aucpr:0.99930\teval-error:0.01501\n",
      "[162]\teval-aucpr:0.99930\teval-error:0.01499\n",
      "[163]\teval-aucpr:0.99930\teval-error:0.01499\n",
      "[164]\teval-aucpr:0.99930\teval-error:0.01496\n",
      "[165]\teval-aucpr:0.99933\teval-error:0.01476\n",
      "[166]\teval-aucpr:0.99936\teval-error:0.01427\n",
      "[167]\teval-aucpr:0.99936\teval-error:0.01421\n",
      "[168]\teval-aucpr:0.99937\teval-error:0.01400\n",
      "[169]\teval-aucpr:0.99938\teval-error:0.01399\n",
      "[170]\teval-aucpr:0.99939\teval-error:0.01394\n",
      "[171]\teval-aucpr:0.99939\teval-error:0.01387\n",
      "[172]\teval-aucpr:0.99939\teval-error:0.01389\n",
      "[173]\teval-aucpr:0.99940\teval-error:0.01380\n",
      "[174]\teval-aucpr:0.99941\teval-error:0.01384\n",
      "[175]\teval-aucpr:0.99941\teval-error:0.01374\n",
      "[176]\teval-aucpr:0.99941\teval-error:0.01373\n",
      "[177]\teval-aucpr:0.99941\teval-error:0.01373\n",
      "[178]\teval-aucpr:0.99941\teval-error:0.01372\n",
      "[179]\teval-aucpr:0.99941\teval-error:0.01371\n",
      "[180]\teval-aucpr:0.99943\teval-error:0.01346\n",
      "[181]\teval-aucpr:0.99944\teval-error:0.01340\n",
      "[182]\teval-aucpr:0.99945\teval-error:0.01338\n",
      "[183]\teval-aucpr:0.99946\teval-error:0.01309\n",
      "[184]\teval-aucpr:0.99947\teval-error:0.01299\n",
      "[185]\teval-aucpr:0.99949\teval-error:0.01278\n",
      "[186]\teval-aucpr:0.99950\teval-error:0.01272\n",
      "[187]\teval-aucpr:0.99951\teval-error:0.01253\n",
      "[188]\teval-aucpr:0.99952\teval-error:0.01219\n",
      "[189]\teval-aucpr:0.99953\teval-error:0.01207\n",
      "[190]\teval-aucpr:0.99953\teval-error:0.01198\n",
      "[191]\teval-aucpr:0.99955\teval-error:0.01173\n",
      "[192]\teval-aucpr:0.99955\teval-error:0.01168\n",
      "[193]\teval-aucpr:0.99955\teval-error:0.01169\n",
      "[194]\teval-aucpr:0.99955\teval-error:0.01170\n",
      "[195]\teval-aucpr:0.99955\teval-error:0.01170\n",
      "[196]\teval-aucpr:0.99955\teval-error:0.01170\n",
      "[197]\teval-aucpr:0.99955\teval-error:0.01164\n",
      "[198]\teval-aucpr:0.99955\teval-error:0.01164\n",
      "[199]\teval-aucpr:0.99956\teval-error:0.01163\n",
      "[200]\teval-aucpr:0.99956\teval-error:0.01149\n",
      "[201]\teval-aucpr:0.99956\teval-error:0.01147\n",
      "[202]\teval-aucpr:0.99957\teval-error:0.01127\n",
      "[203]\teval-aucpr:0.99958\teval-error:0.01123\n",
      "[204]\teval-aucpr:0.99958\teval-error:0.01119\n",
      "[205]\teval-aucpr:0.99958\teval-error:0.01100\n",
      "[206]\teval-aucpr:0.99958\teval-error:0.01100\n",
      "[207]\teval-aucpr:0.99958\teval-error:0.01101\n",
      "[208]\teval-aucpr:0.99958\teval-error:0.01101\n",
      "[209]\teval-aucpr:0.99959\teval-error:0.01092\n",
      "[210]\teval-aucpr:0.99959\teval-error:0.01084\n",
      "[211]\teval-aucpr:0.99959\teval-error:0.01084\n",
      "[212]\teval-aucpr:0.99959\teval-error:0.01084\n",
      "[213]\teval-aucpr:0.99959\teval-error:0.01084\n",
      "[214]\teval-aucpr:0.99959\teval-error:0.01084\n",
      "[215]\teval-aucpr:0.99959\teval-error:0.01078\n",
      "[216]\teval-aucpr:0.99959\teval-error:0.01071\n",
      "[217]\teval-aucpr:0.99959\teval-error:0.01067\n",
      "[218]\teval-aucpr:0.99960\teval-error:0.01059\n",
      "[219]\teval-aucpr:0.99961\teval-error:0.01043\n",
      "[220]\teval-aucpr:0.99961\teval-error:0.01040\n",
      "[221]\teval-aucpr:0.99961\teval-error:0.01032\n",
      "[222]\teval-aucpr:0.99961\teval-error:0.01033\n",
      "[223]\teval-aucpr:0.99961\teval-error:0.01031\n",
      "[224]\teval-aucpr:0.99961\teval-error:0.01031\n",
      "[225]\teval-aucpr:0.99962\teval-error:0.01019\n",
      "[226]\teval-aucpr:0.99962\teval-error:0.01014\n",
      "[227]\teval-aucpr:0.99962\teval-error:0.01013\n",
      "[228]\teval-aucpr:0.99962\teval-error:0.01011\n",
      "[229]\teval-aucpr:0.99963\teval-error:0.00999\n",
      "[230]\teval-aucpr:0.99963\teval-error:0.00998\n",
      "[231]\teval-aucpr:0.99963\teval-error:0.00998\n",
      "[232]\teval-aucpr:0.99963\teval-error:0.00997\n",
      "[233]\teval-aucpr:0.99963\teval-error:0.00998\n",
      "[234]\teval-aucpr:0.99964\teval-error:0.00985\n",
      "[235]\teval-aucpr:0.99964\teval-error:0.00985\n",
      "[236]\teval-aucpr:0.99964\teval-error:0.00983\n",
      "[237]\teval-aucpr:0.99965\teval-error:0.00980\n",
      "[238]\teval-aucpr:0.99966\teval-error:0.00944\n",
      "[239]\teval-aucpr:0.99966\teval-error:0.00931\n",
      "[240]\teval-aucpr:0.99966\teval-error:0.00928\n",
      "[241]\teval-aucpr:0.99966\teval-error:0.00929\n",
      "[242]\teval-aucpr:0.99967\teval-error:0.00910\n",
      "[243]\teval-aucpr:0.99967\teval-error:0.00909\n",
      "[244]\teval-aucpr:0.99967\teval-error:0.00902\n",
      "[245]\teval-aucpr:0.99967\teval-error:0.00892\n",
      "[246]\teval-aucpr:0.99967\teval-error:0.00890\n",
      "[247]\teval-aucpr:0.99967\teval-error:0.00892\n",
      "[248]\teval-aucpr:0.99967\teval-error:0.00891\n",
      "[249]\teval-aucpr:0.99967\teval-error:0.00889\n",
      "[250]\teval-aucpr:0.99968\teval-error:0.00888\n",
      "[251]\teval-aucpr:0.99967\teval-error:0.00888\n",
      "[252]\teval-aucpr:0.99968\teval-error:0.00886\n",
      "[253]\teval-aucpr:0.99968\teval-error:0.00886\n",
      "[254]\teval-aucpr:0.99968\teval-error:0.00887\n",
      "[255]\teval-aucpr:0.99968\teval-error:0.00882\n",
      "[256]\teval-aucpr:0.99969\teval-error:0.00880\n",
      "[257]\teval-aucpr:0.99969\teval-error:0.00881\n",
      "[258]\teval-aucpr:0.99969\teval-error:0.00878\n",
      "[259]\teval-aucpr:0.99969\teval-error:0.00872\n",
      "[260]\teval-aucpr:0.99969\teval-error:0.00873\n",
      "[261]\teval-aucpr:0.99969\teval-error:0.00872\n",
      "[262]\teval-aucpr:0.99970\teval-error:0.00867\n",
      "[263]\teval-aucpr:0.99970\teval-error:0.00858\n",
      "[264]\teval-aucpr:0.99971\teval-error:0.00850\n",
      "[265]\teval-aucpr:0.99971\teval-error:0.00849\n",
      "[266]\teval-aucpr:0.99971\teval-error:0.00847\n",
      "[267]\teval-aucpr:0.99971\teval-error:0.00846\n",
      "[268]\teval-aucpr:0.99972\teval-error:0.00841\n",
      "[269]\teval-aucpr:0.99972\teval-error:0.00832\n",
      "[270]\teval-aucpr:0.99972\teval-error:0.00832\n",
      "[271]\teval-aucpr:0.99972\teval-error:0.00832\n",
      "[272]\teval-aucpr:0.99972\teval-error:0.00829\n",
      "[273]\teval-aucpr:0.99972\teval-error:0.00828\n",
      "[274]\teval-aucpr:0.99972\teval-error:0.00829\n",
      "[275]\teval-aucpr:0.99972\teval-error:0.00828\n",
      "[276]\teval-aucpr:0.99972\teval-error:0.00828\n",
      "[277]\teval-aucpr:0.99972\teval-error:0.00827\n",
      "[278]\teval-aucpr:0.99972\teval-error:0.00827\n",
      "[279]\teval-aucpr:0.99972\teval-error:0.00827\n",
      "[280]\teval-aucpr:0.99972\teval-error:0.00827\n",
      "[281]\teval-aucpr:0.99972\teval-error:0.00827\n",
      "[282]\teval-aucpr:0.99972\teval-error:0.00830\n",
      "[283]\teval-aucpr:0.99973\teval-error:0.00829\n",
      "[284]\teval-aucpr:0.99973\teval-error:0.00829\n",
      "[285]\teval-aucpr:0.99973\teval-error:0.00821\n",
      "[286]\teval-aucpr:0.99973\teval-error:0.00810\n",
      "[287]\teval-aucpr:0.99974\teval-error:0.00801\n",
      "[288]\teval-aucpr:0.99974\teval-error:0.00800\n",
      "[289]\teval-aucpr:0.99974\teval-error:0.00798\n",
      "[290]\teval-aucpr:0.99975\teval-error:0.00793\n",
      "[291]\teval-aucpr:0.99975\teval-error:0.00792\n",
      "[292]\teval-aucpr:0.99975\teval-error:0.00791\n",
      "[293]\teval-aucpr:0.99975\teval-error:0.00790\n",
      "[294]\teval-aucpr:0.99975\teval-error:0.00791\n",
      "[295]\teval-aucpr:0.99975\teval-error:0.00790\n",
      "[296]\teval-aucpr:0.99975\teval-error:0.00788\n",
      "[297]\teval-aucpr:0.99975\teval-error:0.00784\n",
      "[298]\teval-aucpr:0.99975\teval-error:0.00781\n",
      "[299]\teval-aucpr:0.99976\teval-error:0.00756\n",
      "[300]\teval-aucpr:0.99976\teval-error:0.00754\n",
      "[301]\teval-aucpr:0.99976\teval-error:0.00753\n",
      "[302]\teval-aucpr:0.99976\teval-error:0.00756\n",
      "[303]\teval-aucpr:0.99977\teval-error:0.00749\n",
      "[304]\teval-aucpr:0.99977\teval-error:0.00748\n",
      "[305]\teval-aucpr:0.99977\teval-error:0.00744\n",
      "[306]\teval-aucpr:0.99977\teval-error:0.00743\n",
      "[307]\teval-aucpr:0.99977\teval-error:0.00743\n",
      "[308]\teval-aucpr:0.99977\teval-error:0.00743\n",
      "[309]\teval-aucpr:0.99977\teval-error:0.00741\n",
      "[310]\teval-aucpr:0.99977\teval-error:0.00733\n",
      "[311]\teval-aucpr:0.99978\teval-error:0.00734\n",
      "[312]\teval-aucpr:0.99978\teval-error:0.00724\n",
      "[313]\teval-aucpr:0.99978\teval-error:0.00713\n",
      "[314]\teval-aucpr:0.99978\teval-error:0.00713\n",
      "[315]\teval-aucpr:0.99978\teval-error:0.00713\n",
      "[316]\teval-aucpr:0.99978\teval-error:0.00709\n",
      "[317]\teval-aucpr:0.99978\teval-error:0.00708\n",
      "[318]\teval-aucpr:0.99978\teval-error:0.00708\n",
      "[319]\teval-aucpr:0.99978\teval-error:0.00708\n",
      "[320]\teval-aucpr:0.99978\teval-error:0.00705\n",
      "[321]\teval-aucpr:0.99978\teval-error:0.00702\n",
      "[322]\teval-aucpr:0.99978\teval-error:0.00698\n",
      "[323]\teval-aucpr:0.99979\teval-error:0.00706\n",
      "[324]\teval-aucpr:0.99979\teval-error:0.00703\n",
      "[325]\teval-aucpr:0.99979\teval-error:0.00679\n",
      "[326]\teval-aucpr:0.99979\teval-error:0.00671\n",
      "[327]\teval-aucpr:0.99979\teval-error:0.00670\n",
      "[328]\teval-aucpr:0.99980\teval-error:0.00669\n",
      "[329]\teval-aucpr:0.99980\teval-error:0.00672\n",
      "[330]\teval-aucpr:0.99980\teval-error:0.00672\n",
      "[331]\teval-aucpr:0.99980\teval-error:0.00672\n",
      "[332]\teval-aucpr:0.99980\teval-error:0.00672\n",
      "[333]\teval-aucpr:0.99980\teval-error:0.00672\n",
      "[334]\teval-aucpr:0.99980\teval-error:0.00672\n",
      "[335]\teval-aucpr:0.99980\teval-error:0.00672\n",
      "[336]\teval-aucpr:0.99980\teval-error:0.00672\n",
      "[337]\teval-aucpr:0.99980\teval-error:0.00672\n",
      "[338]\teval-aucpr:0.99980\teval-error:0.00672\n",
      "[339]\teval-aucpr:0.99980\teval-error:0.00671\n",
      "[340]\teval-aucpr:0.99980\teval-error:0.00666\n",
      "[341]\teval-aucpr:0.99980\teval-error:0.00665\n",
      "[342]\teval-aucpr:0.99981\teval-error:0.00659\n",
      "[343]\teval-aucpr:0.99981\teval-error:0.00655\n",
      "[344]\teval-aucpr:0.99981\teval-error:0.00656\n",
      "[345]\teval-aucpr:0.99982\teval-error:0.00650\n",
      "[346]\teval-aucpr:0.99982\teval-error:0.00647\n",
      "[347]\teval-aucpr:0.99982\teval-error:0.00640\n",
      "[348]\teval-aucpr:0.99982\teval-error:0.00636\n",
      "[349]\teval-aucpr:0.99982\teval-error:0.00636\n",
      "[350]\teval-aucpr:0.99982\teval-error:0.00638\n",
      "[351]\teval-aucpr:0.99982\teval-error:0.00634\n",
      "[352]\teval-aucpr:0.99982\teval-error:0.00632\n",
      "[353]\teval-aucpr:0.99982\teval-error:0.00626\n",
      "[354]\teval-aucpr:0.99982\teval-error:0.00626\n",
      "[355]\teval-aucpr:0.99982\teval-error:0.00626\n",
      "[356]\teval-aucpr:0.99982\teval-error:0.00615\n",
      "[357]\teval-aucpr:0.99983\teval-error:0.00609\n",
      "[358]\teval-aucpr:0.99983\teval-error:0.00606\n",
      "[359]\teval-aucpr:0.99983\teval-error:0.00604\n",
      "[360]\teval-aucpr:0.99983\teval-error:0.00603\n",
      "[361]\teval-aucpr:0.99983\teval-error:0.00603\n",
      "[362]\teval-aucpr:0.99983\teval-error:0.00603\n",
      "[363]\teval-aucpr:0.99983\teval-error:0.00600\n",
      "[364]\teval-aucpr:0.99983\teval-error:0.00601\n",
      "[365]\teval-aucpr:0.99983\teval-error:0.00598\n",
      "[366]\teval-aucpr:0.99983\teval-error:0.00595\n",
      "[367]\teval-aucpr:0.99983\teval-error:0.00588\n",
      "[368]\teval-aucpr:0.99983\teval-error:0.00587\n",
      "[369]\teval-aucpr:0.99984\teval-error:0.00586\n",
      "[370]\teval-aucpr:0.99984\teval-error:0.00585\n",
      "[371]\teval-aucpr:0.99984\teval-error:0.00580\n",
      "[372]\teval-aucpr:0.99984\teval-error:0.00575\n",
      "[373]\teval-aucpr:0.99984\teval-error:0.00568\n",
      "[374]\teval-aucpr:0.99984\teval-error:0.00569\n",
      "[375]\teval-aucpr:0.99985\teval-error:0.00563\n",
      "[376]\teval-aucpr:0.99985\teval-error:0.00561\n",
      "[377]\teval-aucpr:0.99985\teval-error:0.00552\n",
      "[378]\teval-aucpr:0.99985\teval-error:0.00552\n",
      "[379]\teval-aucpr:0.99985\teval-error:0.00550\n",
      "[380]\teval-aucpr:0.99985\teval-error:0.00551\n",
      "[381]\teval-aucpr:0.99985\teval-error:0.00551\n",
      "[382]\teval-aucpr:0.99986\teval-error:0.00546\n",
      "[383]\teval-aucpr:0.99986\teval-error:0.00547\n",
      "[384]\teval-aucpr:0.99986\teval-error:0.00547\n",
      "[385]\teval-aucpr:0.99986\teval-error:0.00548\n",
      "[386]\teval-aucpr:0.99986\teval-error:0.00550\n",
      "[387]\teval-aucpr:0.99986\teval-error:0.00546\n",
      "[388]\teval-aucpr:0.99986\teval-error:0.00545\n",
      "[389]\teval-aucpr:0.99986\teval-error:0.00542\n",
      "[390]\teval-aucpr:0.99986\teval-error:0.00540\n",
      "[391]\teval-aucpr:0.99986\teval-error:0.00538\n",
      "[392]\teval-aucpr:0.99986\teval-error:0.00537\n",
      "[393]\teval-aucpr:0.99986\teval-error:0.00535\n",
      "[394]\teval-aucpr:0.99986\teval-error:0.00536\n",
      "[395]\teval-aucpr:0.99986\teval-error:0.00539\n",
      "[396]\teval-aucpr:0.99986\teval-error:0.00537\n",
      "[397]\teval-aucpr:0.99986\teval-error:0.00538\n",
      "[398]\teval-aucpr:0.99987\teval-error:0.00537\n",
      "[399]\teval-aucpr:0.99987\teval-error:0.00531\n",
      "[400]\teval-aucpr:0.99987\teval-error:0.00526\n",
      "[401]\teval-aucpr:0.99987\teval-error:0.00527\n",
      "[402]\teval-aucpr:0.99987\teval-error:0.00518\n",
      "[403]\teval-aucpr:0.99987\teval-error:0.00517\n",
      "[404]\teval-aucpr:0.99987\teval-error:0.00511\n",
      "[405]\teval-aucpr:0.99987\teval-error:0.00512\n",
      "[406]\teval-aucpr:0.99987\teval-error:0.00513\n",
      "[407]\teval-aucpr:0.99987\teval-error:0.00512\n",
      "[408]\teval-aucpr:0.99987\teval-error:0.00512\n",
      "[409]\teval-aucpr:0.99987\teval-error:0.00509\n",
      "[410]\teval-aucpr:0.99987\teval-error:0.00510\n",
      "[411]\teval-aucpr:0.99987\teval-error:0.00511\n",
      "[412]\teval-aucpr:0.99987\teval-error:0.00512\n",
      "[413]\teval-aucpr:0.99988\teval-error:0.00506\n",
      "[414]\teval-aucpr:0.99988\teval-error:0.00505\n",
      "[415]\teval-aucpr:0.99988\teval-error:0.00502\n",
      "[416]\teval-aucpr:0.99988\teval-error:0.00506\n",
      "[417]\teval-aucpr:0.99988\teval-error:0.00502\n",
      "[418]\teval-aucpr:0.99988\teval-error:0.00500\n",
      "[419]\teval-aucpr:0.99988\teval-error:0.00495\n",
      "[420]\teval-aucpr:0.99988\teval-error:0.00487\n",
      "[421]\teval-aucpr:0.99989\teval-error:0.00477\n",
      "[422]\teval-aucpr:0.99989\teval-error:0.00478\n",
      "[423]\teval-aucpr:0.99989\teval-error:0.00478\n",
      "[424]\teval-aucpr:0.99989\teval-error:0.00478\n",
      "[425]\teval-aucpr:0.99989\teval-error:0.00477\n",
      "[426]\teval-aucpr:0.99989\teval-error:0.00476\n",
      "[427]\teval-aucpr:0.99989\teval-error:0.00478\n",
      "[428]\teval-aucpr:0.99989\teval-error:0.00478\n",
      "[429]\teval-aucpr:0.99989\teval-error:0.00470\n",
      "[430]\teval-aucpr:0.99989\teval-error:0.00469\n",
      "[431]\teval-aucpr:0.99989\teval-error:0.00469\n",
      "[432]\teval-aucpr:0.99989\teval-error:0.00469\n",
      "[433]\teval-aucpr:0.99989\teval-error:0.00476\n",
      "[434]\teval-aucpr:0.99989\teval-error:0.00477\n",
      "[435]\teval-aucpr:0.99989\teval-error:0.00473\n",
      "[436]\teval-aucpr:0.99989\teval-error:0.00474\n",
      "[437]\teval-aucpr:0.99989\teval-error:0.00478\n",
      "[438]\teval-aucpr:0.99989\teval-error:0.00476\n",
      "[439]\teval-aucpr:0.99989\teval-error:0.00478\n",
      "[440]\teval-aucpr:0.99989\teval-error:0.00471\n",
      "[441]\teval-aucpr:0.99990\teval-error:0.00464\n",
      "[442]\teval-aucpr:0.99990\teval-error:0.00455\n",
      "[443]\teval-aucpr:0.99990\teval-error:0.00451\n",
      "[444]\teval-aucpr:0.99990\teval-error:0.00450\n",
      "[445]\teval-aucpr:0.99990\teval-error:0.00441\n",
      "[446]\teval-aucpr:0.99990\teval-error:0.00443\n",
      "[447]\teval-aucpr:0.99990\teval-error:0.00443\n",
      "[448]\teval-aucpr:0.99990\teval-error:0.00442\n",
      "[449]\teval-aucpr:0.99990\teval-error:0.00444\n",
      "[450]\teval-aucpr:0.99990\teval-error:0.00441\n",
      "[451]\teval-aucpr:0.99991\teval-error:0.00438\n",
      "[452]\teval-aucpr:0.99991\teval-error:0.00437\n",
      "[453]\teval-aucpr:0.99991\teval-error:0.00437\n",
      "[454]\teval-aucpr:0.99991\teval-error:0.00438\n",
      "[455]\teval-aucpr:0.99991\teval-error:0.00439\n",
      "[456]\teval-aucpr:0.99991\teval-error:0.00440\n",
      "[457]\teval-aucpr:0.99991\teval-error:0.00438\n",
      "[458]\teval-aucpr:0.99991\teval-error:0.00432\n",
      "[459]\teval-aucpr:0.99991\teval-error:0.00430\n",
      "[460]\teval-aucpr:0.99991\teval-error:0.00432\n",
      "[461]\teval-aucpr:0.99991\teval-error:0.00432\n",
      "[462]\teval-aucpr:0.99991\teval-error:0.00432\n",
      "[463]\teval-aucpr:0.99991\teval-error:0.00431\n",
      "[464]\teval-aucpr:0.99991\teval-error:0.00427\n",
      "[465]\teval-aucpr:0.99991\teval-error:0.00427\n",
      "[466]\teval-aucpr:0.99991\teval-error:0.00421\n",
      "[467]\teval-aucpr:0.99991\teval-error:0.00423\n",
      "[468]\teval-aucpr:0.99991\teval-error:0.00423\n",
      "[469]\teval-aucpr:0.99992\teval-error:0.00420\n",
      "[470]\teval-aucpr:0.99992\teval-error:0.00411\n",
      "[471]\teval-aucpr:0.99992\teval-error:0.00410\n",
      "[472]\teval-aucpr:0.99992\teval-error:0.00405\n",
      "[473]\teval-aucpr:0.99992\teval-error:0.00406\n",
      "[474]\teval-aucpr:0.99992\teval-error:0.00403\n",
      "[475]\teval-aucpr:0.99992\teval-error:0.00403\n",
      "[476]\teval-aucpr:0.99992\teval-error:0.00403\n",
      "[477]\teval-aucpr:0.99992\teval-error:0.00405\n",
      "[478]\teval-aucpr:0.99992\teval-error:0.00406\n",
      "[479]\teval-aucpr:0.99992\teval-error:0.00400\n",
      "[480]\teval-aucpr:0.99992\teval-error:0.00400\n",
      "[481]\teval-aucpr:0.99992\teval-error:0.00401\n",
      "[482]\teval-aucpr:0.99992\teval-error:0.00398\n",
      "[483]\teval-aucpr:0.99992\teval-error:0.00398\n",
      "[484]\teval-aucpr:0.99992\teval-error:0.00397\n",
      "[485]\teval-aucpr:0.99992\teval-error:0.00398\n",
      "[486]\teval-aucpr:0.99992\teval-error:0.00398\n",
      "[487]\teval-aucpr:0.99992\teval-error:0.00397\n",
      "[488]\teval-aucpr:0.99992\teval-error:0.00397\n",
      "[489]\teval-aucpr:0.99992\teval-error:0.00390\n",
      "[490]\teval-aucpr:0.99993\teval-error:0.00386\n",
      "[491]\teval-aucpr:0.99993\teval-error:0.00382\n",
      "[492]\teval-aucpr:0.99993\teval-error:0.00379\n",
      "[493]\teval-aucpr:0.99993\teval-error:0.00378\n",
      "[494]\teval-aucpr:0.99993\teval-error:0.00378\n",
      "[495]\teval-aucpr:0.99993\teval-error:0.00378\n",
      "[496]\teval-aucpr:0.99993\teval-error:0.00375\n",
      "[497]\teval-aucpr:0.99993\teval-error:0.00372\n",
      "[498]\teval-aucpr:0.99993\teval-error:0.00371\n",
      "[499]\teval-aucpr:0.99993\teval-error:0.00369\n"
     ]
    }
   ],
   "source": [
    "import xgboost as xgb\n",
    "\n",
    "# Convert the datasets to DMatrix format\n",
    "dtrain = xgb.DMatrix(X_train, label=y_train)\n",
    "dtest = xgb.DMatrix(X_test, label=y_test)\n",
    "\n",
    "# Specify model parameters with both 'aucpr' and 'accuracy'\n",
    "params = {\n",
    "    'objective': 'binary:logistic',  # Binary classification\n",
    "    'eval_metric': ['aucpr', 'error'],  # 'error' is 1 - accuracy\n",
    "    'seed': 42\n",
    "}\n",
    "\n",
    "# Set up the evaluation set\n",
    "evals = [(dtest, 'eval')]\n",
    "\n",
    "# Train the model with early stopping\n",
    "bst = xgb.train(params, dtrain, num_boost_round=100, evals=evals,\n",
    "                early_stopping_rounds=15, verbose_eval=True)\n"
   ],
   "metadata": {
    "collapsed": false,
    "ExecuteTime": {
     "end_time": "2024-10-03T10:27:48.655027600Z",
     "start_time": "2024-10-03T10:26:57.360188100Z"
    }
   },
   "id": "df1bdfd6fbcf91d8"
  },
  {
   "cell_type": "code",
   "execution_count": 98,
   "outputs": [],
   "source": [
    "# Make predictions on the test data\n",
    "y_pred_proba = bst.predict(dtest)  # Get predicted probabilities\n",
    "y_pred = np.where(y_pred_proba > 0.5, 1, 0)  # Convert probabilities to binary predictions"
   ],
   "metadata": {
    "collapsed": false,
    "ExecuteTime": {
     "end_time": "2024-10-03T10:27:53.216643200Z",
     "start_time": "2024-10-03T10:27:52.771026500Z"
    }
   },
   "id": "5e6dfa43fd7d84df"
  },
  {
   "cell_type": "code",
   "execution_count": 103,
   "outputs": [
    {
     "name": "stdout",
     "output_type": "stream",
     "text": [
      "\n",
      "Statistics:\n",
      "True Negatives (TN): 39549\n",
      "False Positives (FP): 141\n",
      "False Negatives (FN): 292\n",
      "True Positives (TP): 77501\n",
      "Accuracy: 0.9963\n",
      "Precision: 0.9982\n",
      "Recall: 0.9962\n",
      "F1 Score: 0.9972\n"
     ]
    },
    {
     "data": {
      "text/plain": "<Figure size 800x600 with 0 Axes>"
     },
     "metadata": {},
     "output_type": "display_data"
    },
    {
     "data": {
      "text/plain": "<Figure size 640x480 with 2 Axes>",
      "image/png": "[encoded data removed]"
     },
     "metadata": {},
     "output_type": "display_data"
    }
   ],
   "source": [
    "from sklearn.metrics import (\n",
    "    confusion_matrix,\n",
    "    ConfusionMatrixDisplay,\n",
    "    accuracy_score,\n",
    "    precision_score,\n",
    "    recall_score,\n",
    "    f1_score\n",
    ")\n",
    "# Compute confusion matrix\n",
    "cm = confusion_matrix(y_test, y_pred)\n",
    "\n",
    "# Calculate additional statistics\n",
    "TN, FP, FN, TP = cm.ravel()  # Unpack the confusion matrix\n",
    "accuracy = accuracy_score(y_test, y_pred)\n",
    "precision = precision_score(y_test, y_pred)\n",
    "recall = recall_score(y_test, y_pred)\n",
    "f1 = f1_score(y_test, y_pred)\n",
    "\n",
    "# Print statistics\n",
    "print(f\"\\nStatistics:\")\n",
    "print(f\"True Negatives (TN): {TN}\")\n",
    "print(f\"False Positives (FP): {FP}\")\n",
    "print(f\"False Negatives (FN): {FN}\")\n",
    "print(f\"True Positives (TP): {TP}\")\n",
    "print(f\"Accuracy: {accuracy:.4f}\")\n",
    "print(f\"Precision: {precision:.4f}\")\n",
    "print(f\"Recall: {recall:.4f}\")\n",
    "print(f\"F1 Score: {f1:.4f}\")\n",
    "\n",
    "# Plot the confusion matrix\n",
    "plt.figure(figsize=(8, 6))\n",
    "ConfusionMatrixDisplay(confusion_matrix=cm, display_labels=['Non-Vandalism', 'Vandalism']).plot(cmap=plt.cm.Blues)\n",
    "plt.title('Confusion Matrix')\n",
    "plt.show()"
   ],
   "metadata": {
    "collapsed": false,
    "ExecuteTime": {
     "end_time": "2024-10-03T10:32:47.473971500Z",
     "start_time": "2024-10-03T10:32:47.241339900Z"
    }
   },
   "id": "72a691413749074"
  }
 ],
 "metadata": {
  "kernelspec": {
   "display_name": "Python 3",
   "language": "python",
   "name": "python3"
  },
  "language_info": {
   "codemirror_mode": {
    "name": "ipython",
    "version": 2
   },
   "file_extension": ".py",
   "mimetype": "text/x-python",
   "name": "python",
   "nbconvert_exporter": "python",
   "pygments_lexer": "ipython2",
   "version": "2.7.6"
  }
 },
 "nbformat": 4,
 "nbformat_minor": 5
}
