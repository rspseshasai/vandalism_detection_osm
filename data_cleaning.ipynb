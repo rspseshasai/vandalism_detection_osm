{
 "cells": [
  {
   "cell_type": "code",
   "execution_count": 41,
   "id": "initial_id",
   "metadata": {
    "collapsed": true,
    "ExecuteTime": {
     "end_time": "2024-10-03T00:32:13.486714600Z",
     "start_time": "2024-10-03T00:32:13.480988800Z"
    }
   },
   "outputs": [],
   "source": [
    "import pandas as pd\n",
    "import numpy as np\n",
    "import xgboost as xgb\n",
    "from sklearn.model_selection import train_test_split\n",
    "from sklearn.model_selection import GridSearchCV\n",
    "from sklearn.metrics import balanced_accuracy_score, roc_auc_score, make_scorer\n",
    "from sklearn.metrics import confusion_matrix"
   ]
  },
  {
   "cell_type": "code",
   "execution_count": 42,
   "outputs": [],
   "source": [
    "features_df = pd.read_parquet(\"data/extracted_features.parquet\")"
   ],
   "metadata": {
    "collapsed": false,
    "ExecuteTime": {
     "end_time": "2024-10-03T00:32:14.928259600Z",
     "start_time": "2024-10-03T00:32:14.092249600Z"
    }
   },
   "id": "76f85b94e04c194f"
  },
  {
   "cell_type": "code",
   "execution_count": 43,
   "outputs": [
    {
     "data": {
      "text/plain": "   user_edit_frequency editor_used  area_delta  length_delta  area  length  \\\n0            32.000000    iD 1.5.4        -597             0     0       0   \n1            32.000000    iD 1.5.4        -661             0     0       0   \n2             5.490196    iD 2.5.1       -6351             0     0       0   \n3             3.762032        JOSM      -60560             0     0       0   \n4          3791.000000        JOSM         -47             0     0       0   \n\n   bounding_box_size  geometry_valid  time_since_last_edit  edit_time_of_day  \\\n0       1.180083e-05               0             53.874167                23   \n1       1.543374e-05               0             53.874167                23   \n2       7.911717e-06               0              0.000278                 1   \n3       3.357874e-05               0              0.000278                20   \n4       5.833380e-09               0              0.000278                20   \n\n   ...  centroid_x  centroid_y  country_count  historical_validity  \\\n0  ...  -63.006063  -84.906174              0                    1   \n1  ...  -63.023894  -84.905413              0                    1   \n2  ...  -90.208055   38.524025              1                    1   \n3  ...   -0.904047   41.657534              1                    1   \n4  ...  -34.881462   -8.043139              1                    1   \n\n   tag_density  change_ratio  changeset_comment_length  source_reliability  \\\n0          0.0          -1.0                         0                   0   \n1          0.0          -1.0                         0                   0   \n2          0.0          -1.0                        25                   0   \n3          0.0          -1.0                        22                   0   \n4          0.0          -1.0                        21                   0   \n\n                                            geometry  vandalism  \n0  POLYGON ((-62.9969414 -84.90658619999999, -62....       True  \n1  POLYGON ((-62.9729527 -84.9058725, -62.9757816...       True  \n2  POLYGON ((-90.20804009999999 38.5251629, -90.2...       True  \n3  POLYGON ((-0.9073251 41.658674399999995, -0.90...       True  \n4  POLYGON ((-34.8814103 -8.0431621, -34.8815028 ...       True  \n\n[5 rows x 28 columns]",
      "text/html": "<div>\n<style scoped>\n    .dataframe tbody tr th:only-of-type {\n        vertical-align: middle;\n    }\n\n    .dataframe tbody tr th {\n        vertical-align: top;\n    }\n\n    .dataframe thead th {\n        text-align: right;\n    }\n</style>\n<table border=\"1\" class=\"dataframe\">\n  <thead>\n    <tr style=\"text-align: right;\">\n      <th></th>\n      <th>user_edit_frequency</th>\n      <th>editor_used</th>\n      <th>area_delta</th>\n      <th>length_delta</th>\n      <th>area</th>\n      <th>length</th>\n      <th>bounding_box_size</th>\n      <th>geometry_valid</th>\n      <th>time_since_last_edit</th>\n      <th>edit_time_of_day</th>\n      <th>...</th>\n      <th>centroid_x</th>\n      <th>centroid_y</th>\n      <th>country_count</th>\n      <th>historical_validity</th>\n      <th>tag_density</th>\n      <th>change_ratio</th>\n      <th>changeset_comment_length</th>\n      <th>source_reliability</th>\n      <th>geometry</th>\n      <th>vandalism</th>\n    </tr>\n  </thead>\n  <tbody>\n    <tr>\n      <th>0</th>\n      <td>32.000000</td>\n      <td>iD 1.5.4</td>\n      <td>-597</td>\n      <td>0</td>\n      <td>0</td>\n      <td>0</td>\n      <td>1.180083e-05</td>\n      <td>0</td>\n      <td>53.874167</td>\n      <td>23</td>\n      <td>...</td>\n      <td>-63.006063</td>\n      <td>-84.906174</td>\n      <td>0</td>\n      <td>1</td>\n      <td>0.0</td>\n      <td>-1.0</td>\n      <td>0</td>\n      <td>0</td>\n      <td>POLYGON ((-62.9969414 -84.90658619999999, -62....</td>\n      <td>True</td>\n    </tr>\n    <tr>\n      <th>1</th>\n      <td>32.000000</td>\n      <td>iD 1.5.4</td>\n      <td>-661</td>\n      <td>0</td>\n      <td>0</td>\n      <td>0</td>\n      <td>1.543374e-05</td>\n      <td>0</td>\n      <td>53.874167</td>\n      <td>23</td>\n      <td>...</td>\n      <td>-63.023894</td>\n      <td>-84.905413</td>\n      <td>0</td>\n      <td>1</td>\n      <td>0.0</td>\n      <td>-1.0</td>\n      <td>0</td>\n      <td>0</td>\n      <td>POLYGON ((-62.9729527 -84.9058725, -62.9757816...</td>\n      <td>True</td>\n    </tr>\n    <tr>\n      <th>2</th>\n      <td>5.490196</td>\n      <td>iD 2.5.1</td>\n      <td>-6351</td>\n      <td>0</td>\n      <td>0</td>\n      <td>0</td>\n      <td>7.911717e-06</td>\n      <td>0</td>\n      <td>0.000278</td>\n      <td>1</td>\n      <td>...</td>\n      <td>-90.208055</td>\n      <td>38.524025</td>\n      <td>1</td>\n      <td>1</td>\n      <td>0.0</td>\n      <td>-1.0</td>\n      <td>25</td>\n      <td>0</td>\n      <td>POLYGON ((-90.20804009999999 38.5251629, -90.2...</td>\n      <td>True</td>\n    </tr>\n    <tr>\n      <th>3</th>\n      <td>3.762032</td>\n      <td>JOSM</td>\n      <td>-60560</td>\n      <td>0</td>\n      <td>0</td>\n      <td>0</td>\n      <td>3.357874e-05</td>\n      <td>0</td>\n      <td>0.000278</td>\n      <td>20</td>\n      <td>...</td>\n      <td>-0.904047</td>\n      <td>41.657534</td>\n      <td>1</td>\n      <td>1</td>\n      <td>0.0</td>\n      <td>-1.0</td>\n      <td>22</td>\n      <td>0</td>\n      <td>POLYGON ((-0.9073251 41.658674399999995, -0.90...</td>\n      <td>True</td>\n    </tr>\n    <tr>\n      <th>4</th>\n      <td>3791.000000</td>\n      <td>JOSM</td>\n      <td>-47</td>\n      <td>0</td>\n      <td>0</td>\n      <td>0</td>\n      <td>5.833380e-09</td>\n      <td>0</td>\n      <td>0.000278</td>\n      <td>20</td>\n      <td>...</td>\n      <td>-34.881462</td>\n      <td>-8.043139</td>\n      <td>1</td>\n      <td>1</td>\n      <td>0.0</td>\n      <td>-1.0</td>\n      <td>21</td>\n      <td>0</td>\n      <td>POLYGON ((-34.8814103 -8.0431621, -34.8815028 ...</td>\n      <td>True</td>\n    </tr>\n  </tbody>\n</table>\n<p>5 rows × 28 columns</p>\n</div>"
     },
     "execution_count": 43,
     "metadata": {},
     "output_type": "execute_result"
    }
   ],
   "source": [
    "features_df.head()"
   ],
   "metadata": {
    "collapsed": false,
    "ExecuteTime": {
     "end_time": "2024-10-03T00:32:15.481021900Z",
     "start_time": "2024-10-03T00:32:15.444501500Z"
    }
   },
   "id": "d4317f4d19642e42"
  },
  {
   "cell_type": "code",
   "execution_count": 44,
   "outputs": [],
   "source": [
    "if features_df.columns.__contains__('geometry'):\n",
    "    features_df.drop('geometry', axis=1, inplace=True)"
   ],
   "metadata": {
    "collapsed": false,
    "ExecuteTime": {
     "end_time": "2024-10-03T00:32:16.786504200Z",
     "start_time": "2024-10-03T00:32:16.707223600Z"
    }
   },
   "id": "a5e03bd1300cda47"
  },
  {
   "cell_type": "code",
   "execution_count": 45,
   "outputs": [
    {
     "data": {
      "text/plain": "   user_edit_frequency editor_used  area_delta  length_delta  area  length  \\\n0            32.000000    iD 1.5.4        -597             0     0       0   \n1            32.000000    iD 1.5.4        -661             0     0       0   \n2             5.490196    iD 2.5.1       -6351             0     0       0   \n3             3.762032        JOSM      -60560             0     0       0   \n4          3791.000000        JOSM         -47             0     0       0   \n\n   bounding_box_size  geometry_valid  time_since_last_edit  edit_time_of_day  \\\n0       1.180083e-05               0             53.874167                23   \n1       1.543374e-05               0             53.874167                23   \n2       7.911717e-06               0              0.000278                 1   \n3       3.357874e-05               0              0.000278                20   \n4       5.833380e-09               0              0.000278                20   \n\n   ...  bbox_y_range  centroid_x  centroid_y  country_count  \\\n0  ...      0.000566  -63.006063  -84.906174              0   \n1  ...      0.000786  -63.023894  -84.905413              0   \n2  ...      0.004987  -90.208055   38.524025              1   \n3  ...      0.003423   -0.904047   41.657534              1   \n4  ...      0.000060  -34.881462   -8.043139              1   \n\n   historical_validity  tag_density  change_ratio  changeset_comment_length  \\\n0                    1          0.0          -1.0                         0   \n1                    1          0.0          -1.0                         0   \n2                    1          0.0          -1.0                        25   \n3                    1          0.0          -1.0                        22   \n4                    1          0.0          -1.0                        21   \n\n   source_reliability  vandalism  \n0                   0       True  \n1                   0       True  \n2                   0       True  \n3                   0       True  \n4                   0       True  \n\n[5 rows x 27 columns]",
      "text/html": "<div>\n<style scoped>\n    .dataframe tbody tr th:only-of-type {\n        vertical-align: middle;\n    }\n\n    .dataframe tbody tr th {\n        vertical-align: top;\n    }\n\n    .dataframe thead th {\n        text-align: right;\n    }\n</style>\n<table border=\"1\" class=\"dataframe\">\n  <thead>\n    <tr style=\"text-align: right;\">\n      <th></th>\n      <th>user_edit_frequency</th>\n      <th>editor_used</th>\n      <th>area_delta</th>\n      <th>length_delta</th>\n      <th>area</th>\n      <th>length</th>\n      <th>bounding_box_size</th>\n      <th>geometry_valid</th>\n      <th>time_since_last_edit</th>\n      <th>edit_time_of_day</th>\n      <th>...</th>\n      <th>bbox_y_range</th>\n      <th>centroid_x</th>\n      <th>centroid_y</th>\n      <th>country_count</th>\n      <th>historical_validity</th>\n      <th>tag_density</th>\n      <th>change_ratio</th>\n      <th>changeset_comment_length</th>\n      <th>source_reliability</th>\n      <th>vandalism</th>\n    </tr>\n  </thead>\n  <tbody>\n    <tr>\n      <th>0</th>\n      <td>32.000000</td>\n      <td>iD 1.5.4</td>\n      <td>-597</td>\n      <td>0</td>\n      <td>0</td>\n      <td>0</td>\n      <td>1.180083e-05</td>\n      <td>0</td>\n      <td>53.874167</td>\n      <td>23</td>\n      <td>...</td>\n      <td>0.000566</td>\n      <td>-63.006063</td>\n      <td>-84.906174</td>\n      <td>0</td>\n      <td>1</td>\n      <td>0.0</td>\n      <td>-1.0</td>\n      <td>0</td>\n      <td>0</td>\n      <td>True</td>\n    </tr>\n    <tr>\n      <th>1</th>\n      <td>32.000000</td>\n      <td>iD 1.5.4</td>\n      <td>-661</td>\n      <td>0</td>\n      <td>0</td>\n      <td>0</td>\n      <td>1.543374e-05</td>\n      <td>0</td>\n      <td>53.874167</td>\n      <td>23</td>\n      <td>...</td>\n      <td>0.000786</td>\n      <td>-63.023894</td>\n      <td>-84.905413</td>\n      <td>0</td>\n      <td>1</td>\n      <td>0.0</td>\n      <td>-1.0</td>\n      <td>0</td>\n      <td>0</td>\n      <td>True</td>\n    </tr>\n    <tr>\n      <th>2</th>\n      <td>5.490196</td>\n      <td>iD 2.5.1</td>\n      <td>-6351</td>\n      <td>0</td>\n      <td>0</td>\n      <td>0</td>\n      <td>7.911717e-06</td>\n      <td>0</td>\n      <td>0.000278</td>\n      <td>1</td>\n      <td>...</td>\n      <td>0.004987</td>\n      <td>-90.208055</td>\n      <td>38.524025</td>\n      <td>1</td>\n      <td>1</td>\n      <td>0.0</td>\n      <td>-1.0</td>\n      <td>25</td>\n      <td>0</td>\n      <td>True</td>\n    </tr>\n    <tr>\n      <th>3</th>\n      <td>3.762032</td>\n      <td>JOSM</td>\n      <td>-60560</td>\n      <td>0</td>\n      <td>0</td>\n      <td>0</td>\n      <td>3.357874e-05</td>\n      <td>0</td>\n      <td>0.000278</td>\n      <td>20</td>\n      <td>...</td>\n      <td>0.003423</td>\n      <td>-0.904047</td>\n      <td>41.657534</td>\n      <td>1</td>\n      <td>1</td>\n      <td>0.0</td>\n      <td>-1.0</td>\n      <td>22</td>\n      <td>0</td>\n      <td>True</td>\n    </tr>\n    <tr>\n      <th>4</th>\n      <td>3791.000000</td>\n      <td>JOSM</td>\n      <td>-47</td>\n      <td>0</td>\n      <td>0</td>\n      <td>0</td>\n      <td>5.833380e-09</td>\n      <td>0</td>\n      <td>0.000278</td>\n      <td>20</td>\n      <td>...</td>\n      <td>0.000060</td>\n      <td>-34.881462</td>\n      <td>-8.043139</td>\n      <td>1</td>\n      <td>1</td>\n      <td>0.0</td>\n      <td>-1.0</td>\n      <td>21</td>\n      <td>0</td>\n      <td>True</td>\n    </tr>\n  </tbody>\n</table>\n<p>5 rows × 27 columns</p>\n</div>"
     },
     "execution_count": 45,
     "metadata": {},
     "output_type": "execute_result"
    }
   ],
   "source": [
    "features_df.columns = features_df.columns.str.replace(' ', '_', regex=True)\n",
    "features_df.head()"
   ],
   "metadata": {
    "collapsed": false,
    "ExecuteTime": {
     "end_time": "2024-10-03T00:32:17.586986500Z",
     "start_time": "2024-10-03T00:32:17.560556800Z"
    }
   },
   "id": "b565298736848be7"
  },
  {
   "cell_type": "code",
   "execution_count": 46,
   "outputs": [
    {
     "data": {
      "text/plain": "   user_edit_frequency editor_used  area_delta  length_delta  area  length  \\\n0            32.000000    iD 1.5.4        -597             0     0       0   \n1            32.000000    iD 1.5.4        -661             0     0       0   \n2             5.490196    iD 2.5.1       -6351             0     0       0   \n3             3.762032        JOSM      -60560             0     0       0   \n4          3791.000000        JOSM         -47             0     0       0   \n\n   bounding_box_size  geometry_valid  time_since_last_edit  edit_time_of_day  \\\n0       1.180083e-05               0             53.874167                23   \n1       1.543374e-05               0             53.874167                23   \n2       7.911717e-06               0              0.000278                 1   \n3       3.357874e-05               0              0.000278                20   \n4       5.833380e-09               0              0.000278                20   \n\n   ...  bbox_x_range  bbox_y_range  centroid_x  centroid_y  country_count  \\\n0  ...      0.020857      0.000566  -63.006063  -84.906174              0   \n1  ...      0.019641      0.000786  -63.023894  -84.905413              0   \n2  ...      0.001586      0.004987  -90.208055   38.524025              1   \n3  ...      0.009811      0.003423   -0.904047   41.657534              1   \n4  ...      0.000097      0.000060  -34.881462   -8.043139              1   \n\n   historical_validity  tag_density  change_ratio  changeset_comment_length  \\\n0                    1          0.0          -1.0                         0   \n1                    1          0.0          -1.0                         0   \n2                    1          0.0          -1.0                        25   \n3                    1          0.0          -1.0                        22   \n4                    1          0.0          -1.0                        21   \n\n   source_reliability  \n0                   0  \n1                   0  \n2                   0  \n3                   0  \n4                   0  \n\n[5 rows x 26 columns]",
      "text/html": "<div>\n<style scoped>\n    .dataframe tbody tr th:only-of-type {\n        vertical-align: middle;\n    }\n\n    .dataframe tbody tr th {\n        vertical-align: top;\n    }\n\n    .dataframe thead th {\n        text-align: right;\n    }\n</style>\n<table border=\"1\" class=\"dataframe\">\n  <thead>\n    <tr style=\"text-align: right;\">\n      <th></th>\n      <th>user_edit_frequency</th>\n      <th>editor_used</th>\n      <th>area_delta</th>\n      <th>length_delta</th>\n      <th>area</th>\n      <th>length</th>\n      <th>bounding_box_size</th>\n      <th>geometry_valid</th>\n      <th>time_since_last_edit</th>\n      <th>edit_time_of_day</th>\n      <th>...</th>\n      <th>bbox_x_range</th>\n      <th>bbox_y_range</th>\n      <th>centroid_x</th>\n      <th>centroid_y</th>\n      <th>country_count</th>\n      <th>historical_validity</th>\n      <th>tag_density</th>\n      <th>change_ratio</th>\n      <th>changeset_comment_length</th>\n      <th>source_reliability</th>\n    </tr>\n  </thead>\n  <tbody>\n    <tr>\n      <th>0</th>\n      <td>32.000000</td>\n      <td>iD 1.5.4</td>\n      <td>-597</td>\n      <td>0</td>\n      <td>0</td>\n      <td>0</td>\n      <td>1.180083e-05</td>\n      <td>0</td>\n      <td>53.874167</td>\n      <td>23</td>\n      <td>...</td>\n      <td>0.020857</td>\n      <td>0.000566</td>\n      <td>-63.006063</td>\n      <td>-84.906174</td>\n      <td>0</td>\n      <td>1</td>\n      <td>0.0</td>\n      <td>-1.0</td>\n      <td>0</td>\n      <td>0</td>\n    </tr>\n    <tr>\n      <th>1</th>\n      <td>32.000000</td>\n      <td>iD 1.5.4</td>\n      <td>-661</td>\n      <td>0</td>\n      <td>0</td>\n      <td>0</td>\n      <td>1.543374e-05</td>\n      <td>0</td>\n      <td>53.874167</td>\n      <td>23</td>\n      <td>...</td>\n      <td>0.019641</td>\n      <td>0.000786</td>\n      <td>-63.023894</td>\n      <td>-84.905413</td>\n      <td>0</td>\n      <td>1</td>\n      <td>0.0</td>\n      <td>-1.0</td>\n      <td>0</td>\n      <td>0</td>\n    </tr>\n    <tr>\n      <th>2</th>\n      <td>5.490196</td>\n      <td>iD 2.5.1</td>\n      <td>-6351</td>\n      <td>0</td>\n      <td>0</td>\n      <td>0</td>\n      <td>7.911717e-06</td>\n      <td>0</td>\n      <td>0.000278</td>\n      <td>1</td>\n      <td>...</td>\n      <td>0.001586</td>\n      <td>0.004987</td>\n      <td>-90.208055</td>\n      <td>38.524025</td>\n      <td>1</td>\n      <td>1</td>\n      <td>0.0</td>\n      <td>-1.0</td>\n      <td>25</td>\n      <td>0</td>\n    </tr>\n    <tr>\n      <th>3</th>\n      <td>3.762032</td>\n      <td>JOSM</td>\n      <td>-60560</td>\n      <td>0</td>\n      <td>0</td>\n      <td>0</td>\n      <td>3.357874e-05</td>\n      <td>0</td>\n      <td>0.000278</td>\n      <td>20</td>\n      <td>...</td>\n      <td>0.009811</td>\n      <td>0.003423</td>\n      <td>-0.904047</td>\n      <td>41.657534</td>\n      <td>1</td>\n      <td>1</td>\n      <td>0.0</td>\n      <td>-1.0</td>\n      <td>22</td>\n      <td>0</td>\n    </tr>\n    <tr>\n      <th>4</th>\n      <td>3791.000000</td>\n      <td>JOSM</td>\n      <td>-47</td>\n      <td>0</td>\n      <td>0</td>\n      <td>0</td>\n      <td>5.833380e-09</td>\n      <td>0</td>\n      <td>0.000278</td>\n      <td>20</td>\n      <td>...</td>\n      <td>0.000097</td>\n      <td>0.000060</td>\n      <td>-34.881462</td>\n      <td>-8.043139</td>\n      <td>1</td>\n      <td>1</td>\n      <td>0.0</td>\n      <td>-1.0</td>\n      <td>21</td>\n      <td>0</td>\n    </tr>\n  </tbody>\n</table>\n<p>5 rows × 26 columns</p>\n</div>"
     },
     "execution_count": 46,
     "metadata": {},
     "output_type": "execute_result"
    }
   ],
   "source": [
    "X = features_df.drop('vandalism', axis=1).copy()\n",
    "X.head()"
   ],
   "metadata": {
    "collapsed": false,
    "ExecuteTime": {
     "end_time": "2024-10-03T00:33:13.551446Z",
     "start_time": "2024-10-03T00:33:13.433191800Z"
    }
   },
   "id": "9feca52c8c7dbd38"
  },
  {
   "cell_type": "code",
   "execution_count": 47,
   "outputs": [
    {
     "data": {
      "text/plain": "0    True\n1    True\n2    True\n3    True\n4    True\nName: vandalism, dtype: bool"
     },
     "execution_count": 47,
     "metadata": {},
     "output_type": "execute_result"
    }
   ],
   "source": [
    "y = features_df['vandalism'].copy()\n",
    "y.head()"
   ],
   "metadata": {
    "collapsed": false,
    "ExecuteTime": {
     "end_time": "2024-10-03T00:33:53.329894100Z",
     "start_time": "2024-10-03T00:33:53.292239900Z"
    }
   },
   "id": "1a515c83cd3d9582"
  },
  {
   "cell_type": "code",
   "execution_count": 49,
   "outputs": [
    {
     "ename": "AttributeError",
     "evalue": "'DataFrame' object has no attribute 'get_dummies'",
     "output_type": "error",
     "traceback": [
      "\u001B[1;31m---------------------------------------------------------------------------\u001B[0m",
      "\u001B[1;31mAttributeError\u001B[0m                            Traceback (most recent call last)",
      "\u001B[1;32m~\\AppData\\Local\\Temp\\ipykernel_27428\\2493440804.py\u001B[0m in \u001B[0;36m?\u001B[1;34m()\u001B[0m\n\u001B[1;32m----> 1\u001B[1;33m X_encoded = features_df.get_dummies(X, columns=['source_reliability',\n\u001B[0m\u001B[0;32m      2\u001B[0m                                                 \u001B[1;34m'historical_validity'\u001B[0m\u001B[1;33m,\u001B[0m\u001B[1;33m\u001B[0m\u001B[1;33m\u001B[0m\u001B[0m\n\u001B[0;32m      3\u001B[0m                                                 \u001B[1;34m'country_count'\u001B[0m\u001B[1;33m,\u001B[0m\u001B[1;33m\u001B[0m\u001B[1;33m\u001B[0m\u001B[0m\n\u001B[0;32m      4\u001B[0m                                                 \u001B[1;34m'population_changed'\u001B[0m\u001B[1;33m,\u001B[0m\u001B[1;33m\u001B[0m\u001B[1;33m\u001B[0m\u001B[0m\n",
      "\u001B[1;32m~\\PycharmProjects\\vandalism_detection_osm\\venv\\Lib\\site-packages\\pandas\\core\\generic.py\u001B[0m in \u001B[0;36m?\u001B[1;34m(self, name)\u001B[0m\n\u001B[0;32m   6295\u001B[0m             \u001B[1;32mand\u001B[0m \u001B[0mname\u001B[0m \u001B[1;32mnot\u001B[0m \u001B[1;32min\u001B[0m \u001B[0mself\u001B[0m\u001B[1;33m.\u001B[0m\u001B[0m_accessors\u001B[0m\u001B[1;33m\u001B[0m\u001B[1;33m\u001B[0m\u001B[0m\n\u001B[0;32m   6296\u001B[0m             \u001B[1;32mand\u001B[0m \u001B[0mself\u001B[0m\u001B[1;33m.\u001B[0m\u001B[0m_info_axis\u001B[0m\u001B[1;33m.\u001B[0m\u001B[0m_can_hold_identifiers_and_holds_name\u001B[0m\u001B[1;33m(\u001B[0m\u001B[0mname\u001B[0m\u001B[1;33m)\u001B[0m\u001B[1;33m\u001B[0m\u001B[1;33m\u001B[0m\u001B[0m\n\u001B[0;32m   6297\u001B[0m         ):\n\u001B[0;32m   6298\u001B[0m             \u001B[1;32mreturn\u001B[0m \u001B[0mself\u001B[0m\u001B[1;33m[\u001B[0m\u001B[0mname\u001B[0m\u001B[1;33m]\u001B[0m\u001B[1;33m\u001B[0m\u001B[1;33m\u001B[0m\u001B[0m\n\u001B[1;32m-> 6299\u001B[1;33m         \u001B[1;32mreturn\u001B[0m \u001B[0mobject\u001B[0m\u001B[1;33m.\u001B[0m\u001B[0m__getattribute__\u001B[0m\u001B[1;33m(\u001B[0m\u001B[0mself\u001B[0m\u001B[1;33m,\u001B[0m \u001B[0mname\u001B[0m\u001B[1;33m)\u001B[0m\u001B[1;33m\u001B[0m\u001B[1;33m\u001B[0m\u001B[0m\n\u001B[0m",
      "\u001B[1;31mAttributeError\u001B[0m: 'DataFrame' object has no attribute 'get_dummies'"
     ]
    }
   ],
   "source": [
    "X_encoded = features_df.get_dummies(X, columns=['source_reliability',\n",
    "                                                'historical_validity',\n",
    "                                                'country_count',\n",
    "                                                'population_changed',\n",
    "                                                'boundary_changed',\n",
    "                                                'name_changed',\n",
    "                                                'tags_modified',\n",
    "                                                'tags_added',\n",
    "                                                'tags_removed',\n",
    "                                                'edit_time_of_day',\n",
    "                                                'geometry_valid',\n",
    "                                                'editor_used'])\n",
    "X_encoded.head()"
   ],
   "metadata": {
    "collapsed": false,
    "ExecuteTime": {
     "end_time": "2024-10-03T00:38:52.114269400Z",
     "start_time": "2024-10-03T00:38:52.087338Z"
    }
   },
   "id": "6da48135f8a0b83b"
  },
  {
   "cell_type": "code",
   "execution_count": null,
   "outputs": [],
   "source": [],
   "metadata": {
    "collapsed": false
   },
   "id": "641c26957721d7bf"
  }
 ],
 "metadata": {
  "kernelspec": {
   "display_name": "Python 3",
   "language": "python",
   "name": "python3"
  },
  "language_info": {
   "codemirror_mode": {
    "name": "ipython",
    "version": 2
   },
   "file_extension": ".py",
   "mimetype": "text/x-python",
   "name": "python",
   "nbconvert_exporter": "python",
   "pygments_lexer": "ipython2",
   "version": "2.7.6"
  }
 },
 "nbformat": 4,
 "nbformat_minor": 5
}
