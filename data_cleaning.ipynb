{
 "cells": [
  {
   "cell_type": "code",
   "execution_count": 1,
   "id": "initial_id",
   "metadata": {
    "collapsed": true,
    "ExecuteTime": {
     "end_time": "2024-10-02T20:32:39.859262600Z",
     "start_time": "2024-10-02T20:32:38.349133500Z"
    }
   },
   "outputs": [],
   "source": [
    "import pandas as pd\n",
    "import numpy as np\n",
    "import xgboost as xgb\n",
    "from sklearn.model_selection import train_test_split\n",
    "from sklearn.model_selection import GridSearchCV\n",
    "from sklearn.metrics import balanced_accuracy_score, roc_auc_score, make_scorer\n",
    "from sklearn.metrics import confusion_matrix"
   ]
  },
  {
   "cell_type": "code",
   "execution_count": 2,
   "outputs": [],
   "source": [
    "features_df = pd.read_parquet(\"data/extracted_features.parquet\")"
   ],
   "metadata": {
    "collapsed": false,
    "ExecuteTime": {
     "end_time": "2024-10-02T20:32:47.175525300Z",
     "start_time": "2024-10-02T20:32:47.078726300Z"
    }
   },
   "id": "76f85b94e04c194f"
  },
  {
   "cell_type": "code",
   "execution_count": 3,
   "outputs": [
    {
     "data": {
      "text/plain": "   user_edit_frequency     editor_used  area_delta  length_delta  \\\n0             1.000000       iD 2.21.0           0             0   \n1             1.000000  Go Map!! 4.2.6           0             0   \n2             1.000000       iD 2.29.0         996             0   \n3             1.327586            JOSM           0             0   \n4             1.000000            JOSM      -38014             0   \n\n           area  length  bounding_box_size  geometry_valid  \\\n0  487077615810       0         126.943663               1   \n1  181868983911       0          47.830115               1   \n2  181801700459       0          57.819362               1   \n3   57725943301       0          13.330384               1   \n4  105786308389       0          21.625192               1   \n\n   time_since_last_edit  edit_time_of_day  ...  bbox_x_range  bbox_y_range  \\\n0              0.000000                10  ...     12.628152     10.052433   \n1              0.000000                18  ...      9.963281      4.800639   \n2              0.000000                17  ...     11.560261      5.001562   \n3            560.924722                18  ...      4.849210      2.748980   \n4              0.000000                 7  ...      5.388367      4.013311   \n\n   centroid_x  centroid_y  country_count  historical_validity   tag_density  \\\n0    2.603762   56.479091              6                    0  3.449142e-10   \n1    3.350003   54.412156              6                    0  9.347388e-11   \n2   10.579528   46.322022              9                    0  1.320120e-10   \n3    5.613094   48.688977              5                    0  8.141920e-10   \n4    5.252369   48.038117              5                    0  1.134362e-10   \n\n   change_ratio  changeset_comment_length  source_reliability  \n0  0.000000e+00                        60                   0  \n1  0.000000e+00                        18                   0  \n2  5.478497e-09                        17                   0  \n3  0.000000e+00                        51                   0  \n4 -3.593469e-07                        26                   0  \n\n[5 rows x 26 columns]",
      "text/html": "<div>\n<style scoped>\n    .dataframe tbody tr th:only-of-type {\n        vertical-align: middle;\n    }\n\n    .dataframe tbody tr th {\n        vertical-align: top;\n    }\n\n    .dataframe thead th {\n        text-align: right;\n    }\n</style>\n<table border=\"1\" class=\"dataframe\">\n  <thead>\n    <tr style=\"text-align: right;\">\n      <th></th>\n      <th>user_edit_frequency</th>\n      <th>editor_used</th>\n      <th>area_delta</th>\n      <th>length_delta</th>\n      <th>area</th>\n      <th>length</th>\n      <th>bounding_box_size</th>\n      <th>geometry_valid</th>\n      <th>time_since_last_edit</th>\n      <th>edit_time_of_day</th>\n      <th>...</th>\n      <th>bbox_x_range</th>\n      <th>bbox_y_range</th>\n      <th>centroid_x</th>\n      <th>centroid_y</th>\n      <th>country_count</th>\n      <th>historical_validity</th>\n      <th>tag_density</th>\n      <th>change_ratio</th>\n      <th>changeset_comment_length</th>\n      <th>source_reliability</th>\n    </tr>\n  </thead>\n  <tbody>\n    <tr>\n      <th>0</th>\n      <td>1.000000</td>\n      <td>iD 2.21.0</td>\n      <td>0</td>\n      <td>0</td>\n      <td>487077615810</td>\n      <td>0</td>\n      <td>126.943663</td>\n      <td>1</td>\n      <td>0.000000</td>\n      <td>10</td>\n      <td>...</td>\n      <td>12.628152</td>\n      <td>10.052433</td>\n      <td>2.603762</td>\n      <td>56.479091</td>\n      <td>6</td>\n      <td>0</td>\n      <td>3.449142e-10</td>\n      <td>0.000000e+00</td>\n      <td>60</td>\n      <td>0</td>\n    </tr>\n    <tr>\n      <th>1</th>\n      <td>1.000000</td>\n      <td>Go Map!! 4.2.6</td>\n      <td>0</td>\n      <td>0</td>\n      <td>181868983911</td>\n      <td>0</td>\n      <td>47.830115</td>\n      <td>1</td>\n      <td>0.000000</td>\n      <td>18</td>\n      <td>...</td>\n      <td>9.963281</td>\n      <td>4.800639</td>\n      <td>3.350003</td>\n      <td>54.412156</td>\n      <td>6</td>\n      <td>0</td>\n      <td>9.347388e-11</td>\n      <td>0.000000e+00</td>\n      <td>18</td>\n      <td>0</td>\n    </tr>\n    <tr>\n      <th>2</th>\n      <td>1.000000</td>\n      <td>iD 2.29.0</td>\n      <td>996</td>\n      <td>0</td>\n      <td>181801700459</td>\n      <td>0</td>\n      <td>57.819362</td>\n      <td>1</td>\n      <td>0.000000</td>\n      <td>17</td>\n      <td>...</td>\n      <td>11.560261</td>\n      <td>5.001562</td>\n      <td>10.579528</td>\n      <td>46.322022</td>\n      <td>9</td>\n      <td>0</td>\n      <td>1.320120e-10</td>\n      <td>5.478497e-09</td>\n      <td>17</td>\n      <td>0</td>\n    </tr>\n    <tr>\n      <th>3</th>\n      <td>1.327586</td>\n      <td>JOSM</td>\n      <td>0</td>\n      <td>0</td>\n      <td>57725943301</td>\n      <td>0</td>\n      <td>13.330384</td>\n      <td>1</td>\n      <td>560.924722</td>\n      <td>18</td>\n      <td>...</td>\n      <td>4.849210</td>\n      <td>2.748980</td>\n      <td>5.613094</td>\n      <td>48.688977</td>\n      <td>5</td>\n      <td>0</td>\n      <td>8.141920e-10</td>\n      <td>0.000000e+00</td>\n      <td>51</td>\n      <td>0</td>\n    </tr>\n    <tr>\n      <th>4</th>\n      <td>1.000000</td>\n      <td>JOSM</td>\n      <td>-38014</td>\n      <td>0</td>\n      <td>105786308389</td>\n      <td>0</td>\n      <td>21.625192</td>\n      <td>1</td>\n      <td>0.000000</td>\n      <td>7</td>\n      <td>...</td>\n      <td>5.388367</td>\n      <td>4.013311</td>\n      <td>5.252369</td>\n      <td>48.038117</td>\n      <td>5</td>\n      <td>0</td>\n      <td>1.134362e-10</td>\n      <td>-3.593469e-07</td>\n      <td>26</td>\n      <td>0</td>\n    </tr>\n  </tbody>\n</table>\n<p>5 rows × 26 columns</p>\n</div>"
     },
     "execution_count": 3,
     "metadata": {},
     "output_type": "execute_result"
    }
   ],
   "source": [
    "features_df.head()"
   ],
   "metadata": {
    "collapsed": false,
    "ExecuteTime": {
     "end_time": "2024-10-02T20:32:47.990908100Z",
     "start_time": "2024-10-02T20:32:47.921972200Z"
    }
   },
   "id": "d4317f4d19642e42"
  },
  {
   "cell_type": "code",
   "execution_count": null,
   "outputs": [],
   "source": [],
   "metadata": {
    "collapsed": false
   },
   "id": "b565298736848be7"
  }
 ],
 "metadata": {
  "kernelspec": {
   "display_name": "Python 3",
   "language": "python",
   "name": "python3"
  },
  "language_info": {
   "codemirror_mode": {
    "name": "ipython",
    "version": 2
   },
   "file_extension": ".py",
   "mimetype": "text/x-python",
   "name": "python",
   "nbconvert_exporter": "python",
   "pygments_lexer": "ipython2",
   "version": "2.7.6"
  }
 },
 "nbformat": 4,
 "nbformat_minor": 5
}
