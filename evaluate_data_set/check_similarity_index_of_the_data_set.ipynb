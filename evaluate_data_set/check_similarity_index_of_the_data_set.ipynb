{
 "cells": [
  {
   "cell_type": "code",
   "execution_count": 2,
   "id": "initial_id",
   "metadata": {
    "collapsed": true,
    "ExecuteTime": {
     "end_time": "2024-10-28T16:25:00.239352800Z",
     "start_time": "2024-10-28T16:24:57.278774300Z"
    }
   },
   "outputs": [
    {
     "name": "stderr",
     "output_type": "stream",
     "text": [
      "C:\\Users\\saise\\AppData\\Local\\Temp\\ipykernel_3472\\1841000042.py:38: FutureWarning: Downcasting behavior in `replace` is deprecated and will be removed in a future version. To retain the old behavior, explicitly call `result.infer_objects(copy=False)`. To opt-in to the future behavior, set `pd.set_option('future.no_silent_downcasting', True)`\n",
      "  y = y.replace(False, 0)\n"
     ]
    }
   ],
   "source": [
    "import pandas as pd\n",
    "from sklearn.model_selection import train_test_split\n",
    "\n",
    "features_df = pd.read_parquet(\"../data/contribution_data/extracted_features_v2.parquet\")\n",
    "if features_df.columns.__contains__('xzcode'):\n",
    "    # Split 'xzcode' column into two separate columns 'code' and 'level'\n",
    "    features_df[['code', 'level']] = pd.json_normalize(features_df['xzcode'])\n",
    "    features_df.drop('xzcode', axis=1, inplace=True)\n",
    "if features_df.columns.__contains__('geometry'):\n",
    "    features_df.drop('geometry', axis=1, inplace=True)\n",
    "\n",
    "if features_df.columns.__contains__('osm_id'):\n",
    "    features_df.drop('osm_id', axis=1, inplace=True)\n",
    "\n",
    "if features_df.columns.__contains__('members'):\n",
    "    features_df.drop('members', axis=1, inplace=True)\n",
    "\n",
    "features_df.columns = features_df.columns.str.replace(' ', '_', regex=True)"
   ]
  },
  {
   "cell_type": "code",
   "execution_count": 6,
   "outputs": [
    {
     "data": {
      "text/plain": "        user_id  user_edit_frequency editor_used  area_delta  length_delta  \\\n25553    688302             9.826923    iD 1.3.4           0             0   \n223311   688302             9.826923    iD 1.3.4           0             0   \n44232    688302             9.826923    iD 1.3.4           0             0   \n143600   688302             9.826923    iD 1.3.4           0             0   \n293742   688302             9.826923    iD 1.3.4       15308             0   \n\n         area  length  bounding_box_size  geometry_valid        xmax  ...  \\\n25553       0   28088           0.024796               1  123.634320  ...   \n223311      0       0           0.000000               1  123.635174  ...   \n44232       0    4788           0.000443               1  123.461502  ...   \n143600      0     205           0.000002               1  123.634786  ...   \n293742  15308       0           0.000002               1  123.640367  ...   \n\n        healthcare  highway  historic  landuse  leisure  man_made  military  \\\n25553            0        0         0        0        0         0         0   \n223311           0        0         0        0        0         0         0   \n44232            0        0         0        0        0         0         0   \n143600           0        1         0        0        0         1         1   \n293742           0        0         0        0        0         0         0   \n\n        vandalism        code  level  \n25553        True  4691847855     11  \n223311       True  4691849326     16  \n44232        True  4691850779     14  \n143600       True  4691849325     16  \n293742       True  4691849368     16  \n\n[5 rows x 55 columns]",
      "text/html": "<div>\n<style scoped>\n    .dataframe tbody tr th:only-of-type {\n        vertical-align: middle;\n    }\n\n    .dataframe tbody tr th {\n        vertical-align: top;\n    }\n\n    .dataframe thead th {\n        text-align: right;\n    }\n</style>\n<table border=\"1\" class=\"dataframe\">\n  <thead>\n    <tr style=\"text-align: right;\">\n      <th></th>\n      <th>user_id</th>\n      <th>user_edit_frequency</th>\n      <th>editor_used</th>\n      <th>area_delta</th>\n      <th>length_delta</th>\n      <th>area</th>\n      <th>length</th>\n      <th>bounding_box_size</th>\n      <th>geometry_valid</th>\n      <th>xmax</th>\n      <th>...</th>\n      <th>healthcare</th>\n      <th>highway</th>\n      <th>historic</th>\n      <th>landuse</th>\n      <th>leisure</th>\n      <th>man_made</th>\n      <th>military</th>\n      <th>vandalism</th>\n      <th>code</th>\n      <th>level</th>\n    </tr>\n  </thead>\n  <tbody>\n    <tr>\n      <th>25553</th>\n      <td>688302</td>\n      <td>9.826923</td>\n      <td>iD 1.3.4</td>\n      <td>0</td>\n      <td>0</td>\n      <td>0</td>\n      <td>28088</td>\n      <td>0.024796</td>\n      <td>1</td>\n      <td>123.634320</td>\n      <td>...</td>\n      <td>0</td>\n      <td>0</td>\n      <td>0</td>\n      <td>0</td>\n      <td>0</td>\n      <td>0</td>\n      <td>0</td>\n      <td>True</td>\n      <td>4691847855</td>\n      <td>11</td>\n    </tr>\n    <tr>\n      <th>223311</th>\n      <td>688302</td>\n      <td>9.826923</td>\n      <td>iD 1.3.4</td>\n      <td>0</td>\n      <td>0</td>\n      <td>0</td>\n      <td>0</td>\n      <td>0.000000</td>\n      <td>1</td>\n      <td>123.635174</td>\n      <td>...</td>\n      <td>0</td>\n      <td>0</td>\n      <td>0</td>\n      <td>0</td>\n      <td>0</td>\n      <td>0</td>\n      <td>0</td>\n      <td>True</td>\n      <td>4691849326</td>\n      <td>16</td>\n    </tr>\n    <tr>\n      <th>44232</th>\n      <td>688302</td>\n      <td>9.826923</td>\n      <td>iD 1.3.4</td>\n      <td>0</td>\n      <td>0</td>\n      <td>0</td>\n      <td>4788</td>\n      <td>0.000443</td>\n      <td>1</td>\n      <td>123.461502</td>\n      <td>...</td>\n      <td>0</td>\n      <td>0</td>\n      <td>0</td>\n      <td>0</td>\n      <td>0</td>\n      <td>0</td>\n      <td>0</td>\n      <td>True</td>\n      <td>4691850779</td>\n      <td>14</td>\n    </tr>\n    <tr>\n      <th>143600</th>\n      <td>688302</td>\n      <td>9.826923</td>\n      <td>iD 1.3.4</td>\n      <td>0</td>\n      <td>0</td>\n      <td>0</td>\n      <td>205</td>\n      <td>0.000002</td>\n      <td>1</td>\n      <td>123.634786</td>\n      <td>...</td>\n      <td>0</td>\n      <td>1</td>\n      <td>0</td>\n      <td>0</td>\n      <td>0</td>\n      <td>1</td>\n      <td>1</td>\n      <td>True</td>\n      <td>4691849325</td>\n      <td>16</td>\n    </tr>\n    <tr>\n      <th>293742</th>\n      <td>688302</td>\n      <td>9.826923</td>\n      <td>iD 1.3.4</td>\n      <td>15308</td>\n      <td>0</td>\n      <td>15308</td>\n      <td>0</td>\n      <td>0.000002</td>\n      <td>1</td>\n      <td>123.640367</td>\n      <td>...</td>\n      <td>0</td>\n      <td>0</td>\n      <td>0</td>\n      <td>0</td>\n      <td>0</td>\n      <td>0</td>\n      <td>0</td>\n      <td>True</td>\n      <td>4691849368</td>\n      <td>16</td>\n    </tr>\n  </tbody>\n</table>\n<p>5 rows × 55 columns</p>\n</div>"
     },
     "execution_count": 6,
     "metadata": {},
     "output_type": "execute_result"
    }
   ],
   "source": [
    "features_df_sorted = features_df.sort_values(by='changeset_id', ascending=True)\n",
    "features_df_sorted.head()"
   ],
   "metadata": {
    "collapsed": false,
    "ExecuteTime": {
     "end_time": "2024-10-28T16:28:32.190191100Z",
     "start_time": "2024-10-28T16:28:31.966959800Z"
    }
   },
   "id": "97970844dd01fddd"
  },
  {
   "cell_type": "code",
   "execution_count": 4,
   "outputs": [
    {
     "name": "stdout",
     "output_type": "stream",
     "text": [
      "Number of rows appearing in X_encoded: 108\n"
     ]
    }
   ],
   "source": [],
   "metadata": {
    "collapsed": false,
    "ExecuteTime": {
     "end_time": "2024-10-28T16:26:10.478138Z",
     "start_time": "2024-10-28T16:26:05.353357500Z"
    }
   },
   "id": "c3b125104a0567b8"
  },
  {
   "cell_type": "code",
   "execution_count": null,
   "outputs": [],
   "source": [],
   "metadata": {
    "collapsed": false
   },
   "id": "9c11e1b70386b9c0"
  }
 ],
 "metadata": {
  "kernelspec": {
   "display_name": "Python 3",
   "language": "python",
   "name": "python3"
  },
  "language_info": {
   "codemirror_mode": {
    "name": "ipython",
    "version": 2
   },
   "file_extension": ".py",
   "mimetype": "text/x-python",
   "name": "python",
   "nbconvert_exporter": "python",
   "pygments_lexer": "ipython2",
   "version": "2.7.6"
  }
 },
 "nbformat": 4,
 "nbformat_minor": 5
}
